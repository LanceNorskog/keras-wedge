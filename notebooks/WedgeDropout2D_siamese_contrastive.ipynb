{
  "nbformat": 4,
  "nbformat_minor": 0,
  "metadata": {
    "colab": {
      "name": "WedgeDropout2D siamese_contrastive",
      "provenance": [],
      "collapsed_sections": [],
      "toc_visible": true
    },
    "kernelspec": {
      "display_name": "Python 3",
      "language": "python",
      "name": "python3"
    },
    "language_info": {
      "codemirror_mode": {
        "name": "ipython",
        "version": 3
      },
      "file_extension": ".py",
      "mimetype": "text/x-python",
      "name": "python",
      "nbconvert_exporter": "python",
      "pygments_lexer": "ipython3",
      "version": "3.7.0"
    },
    "accelerator": "TPU"
  },
  "cells": [
    {
      "cell_type": "markdown",
      "metadata": {
        "id": "y-XMB6NIDU6y"
      },
      "source": [
        "# Image similarity estimation using a Siamese Network with a contrastive loss\n",
        "\n",
        "**Author:** Mehdi<br>\n",
        "**Date created:** 2021/05/06<br>\n",
        "**Last modified:** 2021/05/06<br>\n",
        "**Description:** Similarity learning using a siamese network trained with a contrastive loss."
      ]
    },
    {
      "cell_type": "markdown",
      "metadata": {
        "id": "qEJhPylNDU60"
      },
      "source": [
        "## Introduction\n",
        "\n",
        "[Siamese Networks](https://en.wikipedia.org/wiki/Siamese_neural_network)\n",
        "are neural networks which share weights between two or more sister networks,\n",
        "each producing embedding vectors of its respective inputs.\n",
        "\n",
        "In supervised similarity learning, the networks are then trained to maximize the\n",
        "contrast (distance) between embeddings of inputs of different classes, while minimizing the distance between\n",
        "embeddings of similar classes, resulting in embedding spaces that reflect\n",
        "the class segmentation of the training inputs."
      ]
    },
    {
      "cell_type": "markdown",
      "metadata": {
        "id": "wgzy6tgbDU60"
      },
      "source": [
        "## Setup"
      ]
    },
    {
      "cell_type": "code",
      "metadata": {
        "id": "IZXeToNCDU61"
      },
      "source": [
        "import random\n",
        "import numpy as np\n",
        "import tensorflow as tf\n",
        "from tensorflow import keras\n",
        "from tensorflow.keras import layers\n",
        "import matplotlib.pyplot as plt"
      ],
      "execution_count": 1,
      "outputs": []
    },
    {
      "cell_type": "code",
      "metadata": {
        "colab": {
          "base_uri": "https://localhost:8080/"
        },
        "id": "-8bu2RoZEXNC",
        "outputId": "c00d3d4c-b20e-463b-d547-6081c1e6d10b"
      },
      "source": [
        "!pip uninstall -y keras-wedge-dropout\n",
        "!pip install -q git+https://github.com/LanceNorskog/keras-wedge.git\n",
        "from keras_wedge_dropout import WedgeDropout2D"
      ],
      "execution_count": 2,
      "outputs": [
        {
          "output_type": "stream",
          "text": [
            "Found existing installation: keras-wedge-dropout 0.1.0\n",
            "Uninstalling keras-wedge-dropout-0.1.0:\n",
            "  Successfully uninstalled keras-wedge-dropout-0.1.0\n",
            "  Building wheel for keras-wedge-dropout (setup.py) ... \u001b[?25l\u001b[?25hdone\n"
          ],
          "name": "stdout"
        }
      ]
    },
    {
      "cell_type": "markdown",
      "metadata": {
        "id": "3h3DURewDU61"
      },
      "source": [
        "## Hyperparameters"
      ]
    },
    {
      "cell_type": "code",
      "metadata": {
        "id": "p2munePCDU62"
      },
      "source": [
        "epochs = 100\n",
        "batch_size = 32\n",
        "margin = 1  # Margin for constrastive loss."
      ],
      "execution_count": 3,
      "outputs": []
    },
    {
      "cell_type": "markdown",
      "metadata": {
        "id": "1lAydtN7DU62"
      },
      "source": [
        "## Load the MNIST dataset"
      ]
    },
    {
      "cell_type": "code",
      "metadata": {
        "id": "5rg8pYHqDU62"
      },
      "source": [
        "(x_train_val, y_train_val), (x_test, y_test) = keras.datasets.mnist.load_data()\n",
        "\n",
        "# Change the data type to a floating point format\n",
        "x_train_val = x_train_val.astype(\"float32\")\n",
        "x_test = x_test.astype(\"float32\")\n"
      ],
      "execution_count": 4,
      "outputs": []
    },
    {
      "cell_type": "markdown",
      "metadata": {
        "id": "0IH3xH7cDU63"
      },
      "source": [
        "## Define training and validation sets"
      ]
    },
    {
      "cell_type": "code",
      "metadata": {
        "id": "4BO2B4C6DU63"
      },
      "source": [
        "# Keep 50% of train_val  in validation set\n",
        "x_train, x_val = x_train_val[:30000], x_train_val[30000:]\n",
        "y_train, y_val = y_train_val[:30000], y_train_val[30000:]\n",
        "del x_train_val, y_train_val\n"
      ],
      "execution_count": 5,
      "outputs": []
    },
    {
      "cell_type": "markdown",
      "metadata": {
        "id": "4ulo5-cSDU63"
      },
      "source": [
        "## Create pairs of images\n",
        "\n",
        "We will train the model to differentiate between digits of different classes. For\n",
        "example, digit `0` needs to be differentiated from the rest of the\n",
        "digits (`1` through `9`), digit `1` - from `0` and `2` through `9`, and so on.\n",
        "To carry this out, we will select N random images from class A (for example,\n",
        "for digit `0`) and pair them with N random images from another class B\n",
        "(for example, for digit `1`). Then, we can repeat this process for all classes\n",
        "of digits (until digit `9`). Once we have paired digit `0` with other digits,\n",
        "we can repeat this process for the remaining classes for the rest of the digits\n",
        "(from `1` until `9`)."
      ]
    },
    {
      "cell_type": "code",
      "metadata": {
        "id": "fYdzbzwcDU64"
      },
      "source": [
        "\n",
        "def make_pairs(x, y):\n",
        "    \"\"\"Creates a tuple containing image pairs with corresponding label.\n",
        "\n",
        "    Arguments:\n",
        "        x: List containing images, each index in this list corresponds to one image.\n",
        "        y: List containing labels, each label with datatype of `int`.\n",
        "\n",
        "    Returns:\n",
        "        Tuple containing two numpy arrays as (pairs_of_samples, labels),\n",
        "        where pairs_of_samples' shape is (2len(x), 2,n_features_dims) and\n",
        "        labels are a binary array of shape (2len(x)).\n",
        "    \"\"\"\n",
        "\n",
        "    num_classes = max(y) + 1\n",
        "    digit_indices = [np.where(y == i)[0] for i in range(num_classes)]\n",
        "\n",
        "    pairs = []\n",
        "    labels = []\n",
        "\n",
        "    for idx1 in range(len(x)):\n",
        "        # add a matching example\n",
        "        x1 = x[idx1]\n",
        "        label1 = y[idx1]\n",
        "        idx2 = random.choice(digit_indices[label1])\n",
        "        x2 = x[idx2]\n",
        "\n",
        "        pairs += [[x1, x2]]\n",
        "        labels += [1]\n",
        "\n",
        "        # add a non-matching example\n",
        "        label2 = random.randint(0, num_classes - 1)\n",
        "        while label2 == label1:\n",
        "            label2 = random.randint(0, num_classes - 1)\n",
        "\n",
        "        idx2 = random.choice(digit_indices[label2])\n",
        "        x2 = x[idx2]\n",
        "\n",
        "        pairs += [[x1, x2]]\n",
        "        labels += [0]\n",
        "\n",
        "    return np.array(pairs), np.array(labels).astype(\"float32\")\n",
        "\n",
        "\n",
        "# make train pairs\n",
        "pairs_train, labels_train = make_pairs(x_train, y_train)\n",
        "\n",
        "# make validation pairs\n",
        "pairs_val, labels_val = make_pairs(x_val, y_val)\n",
        "\n",
        "# make test pairs\n",
        "pairs_test, labels_test = make_pairs(x_test, y_test)"
      ],
      "execution_count": 6,
      "outputs": []
    },
    {
      "cell_type": "markdown",
      "metadata": {
        "id": "RN2xcIwmDU64"
      },
      "source": [
        "We get:\n",
        "\n",
        "**pairs_train.shape = (60000, 2, 28, 28)**\n",
        "\n",
        "- We have 60,000 pairs\n",
        "- Each pair contains 2 images\n",
        "- Each image has shape `(28, 28)`"
      ]
    },
    {
      "cell_type": "markdown",
      "metadata": {
        "id": "Y_sJtnD5DU64"
      },
      "source": [
        "Split the training pairs"
      ]
    },
    {
      "cell_type": "code",
      "metadata": {
        "id": "NgEjuHzNDU65"
      },
      "source": [
        "x_train_1 = pairs_train[:, 0]  # x_train_1.shape is (60000, 28, 28)\n",
        "x_train_2 = pairs_train[:, 1]"
      ],
      "execution_count": 7,
      "outputs": []
    },
    {
      "cell_type": "markdown",
      "metadata": {
        "id": "B1SaipSrDU65"
      },
      "source": [
        "Split the validation pairs"
      ]
    },
    {
      "cell_type": "code",
      "metadata": {
        "id": "nL8_a7PeDU65"
      },
      "source": [
        "x_val_1 = pairs_val[:, 0]  # x_val_1.shape = (60000, 28, 28)\n",
        "x_val_2 = pairs_val[:, 1]"
      ],
      "execution_count": 8,
      "outputs": []
    },
    {
      "cell_type": "markdown",
      "metadata": {
        "id": "dK3H3nb_DU65"
      },
      "source": [
        "Split the test pairs"
      ]
    },
    {
      "cell_type": "code",
      "metadata": {
        "id": "yiRSQ-yODU65"
      },
      "source": [
        "x_test_1 = pairs_test[:, 0]  # x_test_1.shape = (20000, 28, 28)\n",
        "x_test_2 = pairs_test[:, 1]\n"
      ],
      "execution_count": 9,
      "outputs": []
    },
    {
      "cell_type": "markdown",
      "metadata": {
        "id": "OHEgPr50DU65"
      },
      "source": [
        "## Visualize pairs and their labels"
      ]
    },
    {
      "cell_type": "code",
      "metadata": {
        "id": "P_THDI8ZDU66"
      },
      "source": [
        "\n",
        "def visualize(pairs, labels, to_show=6, num_col=3, predictions=None, test=False):\n",
        "    \"\"\"Creates a plot of pairs and labels, and prediction if it's test dataset.\n",
        "\n",
        "    Arguments:\n",
        "        pairs: Numpy Array, of pairs to visualize, having shape\n",
        "               (Number of pairs, 2, 28, 28).\n",
        "        to_show: Int, number of examples to visualize (default is 6)\n",
        "                `to_show` must be an integral multiple of `num_col`.\n",
        "                 Otherwise it will be trimmed if it is greater than num_col,\n",
        "                 and incremented if if it is less then num_col.\n",
        "        num_col: Int, number of images in one row - (default is 3)\n",
        "                 For test and train respectively, it should not exceed 3 and 7.\n",
        "        predictions: Numpy Array of predictions with shape (to_show, 1) -\n",
        "                     (default is None)\n",
        "                     Must be passed when test=True.\n",
        "        test: Boolean telling whether the dataset being visualized is\n",
        "              train dataset or test dataset - (default False).\n",
        "\n",
        "    Returns:\n",
        "        None.\n",
        "    \"\"\"\n",
        "\n",
        "    # Define num_row\n",
        "    # If to_show % num_col != 0\n",
        "    #    trim to_show,\n",
        "    #       to trim to_show limit num_row to the point where\n",
        "    #       to_show % num_col == 0\n",
        "    #\n",
        "    # If to_show//num_col == 0\n",
        "    #    then it means num_col is greater then to_show\n",
        "    #    increment to_show\n",
        "    #       to increment to_show set num_row to 1\n",
        "    num_row = to_show // num_col if to_show // num_col != 0 else 1\n",
        "\n",
        "    # `to_show` must be an integral multiple of `num_col`\n",
        "    #  we found num_row and we have num_col\n",
        "    #  to increment or decrement to_show\n",
        "    #  to make it integral multiple of `num_col`\n",
        "    #  simply set it equal to num_row * num_col\n",
        "    to_show = num_row * num_col\n",
        "\n",
        "    # Plot the images\n",
        "    fig, axes = plt.subplots(num_row, num_col, figsize=(5, 5))\n",
        "    for i in range(to_show):\n",
        "\n",
        "        # If the number of rows is 1, the axes array is one-dimensional\n",
        "        if num_row == 1:\n",
        "            ax = axes[i % num_col]\n",
        "        else:\n",
        "            ax = axes[i // num_col, i % num_col]\n",
        "\n",
        "        ax.imshow(tf.concat([pairs[i][0], pairs[i][1]], axis=1), cmap=\"gray\")\n",
        "        ax.set_axis_off()\n",
        "        if test:\n",
        "            ax.set_title(\"True: {} | Pred: {:.5f}\".format(labels[i], predictions[i][0]))\n",
        "        else:\n",
        "            ax.set_title(\"Label: {}\".format(labels[i]))\n",
        "    if test:\n",
        "        plt.tight_layout(rect=(0, 0, 1.9, 1.9), w_pad=0.0)\n",
        "    else:\n",
        "        plt.tight_layout(rect=(0, 0, 1.5, 1.5))\n",
        "    plt.show()\n"
      ],
      "execution_count": 10,
      "outputs": []
    },
    {
      "cell_type": "markdown",
      "metadata": {
        "id": "lVc2aIgmDU66"
      },
      "source": [
        "Inspect training pairs"
      ]
    },
    {
      "cell_type": "code",
      "metadata": {
        "id": "-MDfGRfeDU67",
        "colab": {
          "base_uri": "https://localhost:8080/",
          "height": 108
        },
        "outputId": "4f931f46-dc1e-4594-d3ac-141cecbf6a4b"
      },
      "source": [
        "visualize(pairs_train[:-1], labels_train[:-1], to_show=4, num_col=4)"
      ],
      "execution_count": 11,
      "outputs": [
        {
          "output_type": "display_data",
          "data": {
            "image/png": "[encoded data removed]",
            "text/plain": [
              "<Figure size 360x360 with 4 Axes>"
            ]
          },
          "metadata": {
            "tags": [],
            "needs_background": "light"
          }
        }
      ]
    },
    {
      "cell_type": "markdown",
      "metadata": {
        "id": "P1rjC2xcDU67"
      },
      "source": [
        "Inspect validation pairs"
      ]
    },
    {
      "cell_type": "code",
      "metadata": {
        "id": "cN4NuHs1DU67",
        "colab": {
          "base_uri": "https://localhost:8080/",
          "height": 108
        },
        "outputId": "6c21ff12-90bf-4196-ab08-62c2f26db531"
      },
      "source": [
        "visualize(pairs_val[:-1], labels_val[:-1], to_show=4, num_col=4)"
      ],
      "execution_count": 12,
      "outputs": [
        {
          "output_type": "display_data",
          "data": {
            "image/png": "[encoded data removed]",
            "text/plain": [
              "<Figure size 360x360 with 4 Axes>"
            ]
          },
          "metadata": {
            "tags": [],
            "needs_background": "light"
          }
        }
      ]
    },
    {
      "cell_type": "markdown",
      "metadata": {
        "id": "KQorHrWBDU67"
      },
      "source": [
        "Inspect test pairs"
      ]
    },
    {
      "cell_type": "code",
      "metadata": {
        "id": "bUWJN45sDU67",
        "colab": {
          "base_uri": "https://localhost:8080/",
          "height": 108
        },
        "outputId": "4ed1ad9a-bf41-4706-fef2-23feab50d339"
      },
      "source": [
        "visualize(pairs_test[:-1], labels_test[:-1], to_show=4, num_col=4)"
      ],
      "execution_count": 13,
      "outputs": [
        {
          "output_type": "display_data",
          "data": {
            "image/png": "[encoded data removed]",
            "text/plain": [
              "<Figure size 360x360 with 4 Axes>"
            ]
          },
          "metadata": {
            "tags": [],
            "needs_background": "light"
          }
        }
      ]
    },
    {
      "cell_type": "markdown",
      "metadata": {
        "id": "T1VvWDMwDU68"
      },
      "source": [
        "## Define the model\n",
        "\n",
        "There are be two input layers, each leading to its own network, which\n",
        "produces embeddings. A `Lambda` layer then merges them using an\n",
        "[Euclidean distance](https://en.wikipedia.org/wiki/Euclidean_distance) and the\n",
        "merged output is fed to the final network."
      ]
    },
    {
      "cell_type": "code",
      "metadata": {
        "id": "UECXjaUaDU68",
        "colab": {
          "base_uri": "https://localhost:8080/"
        },
        "outputId": "a9ccaecc-40f5-4d16-e7ce-4629a7f2a6dc"
      },
      "source": [
        "# Provided two tensors t1 and t2\n",
        "# Euclidean distance = sqrt(sum(square(t1-t2)))\n",
        "def euclidean_distance(vects):\n",
        "    \"\"\"Find the Euclidean distance between two vectors.\n",
        "\n",
        "    Arguments:\n",
        "        vects: List containing two tensors of same length.\n",
        "\n",
        "    Returns:\n",
        "        Tensor containing euclidean distance\n",
        "        (as floating point value) between vectors.\n",
        "    \"\"\"\n",
        "\n",
        "    x, y = vects\n",
        "    sum_square = tf.math.reduce_sum(tf.math.square(x - y), axis=1, keepdims=True)\n",
        "    return tf.math.sqrt(tf.math.maximum(sum_square, tf.keras.backend.epsilon()))\n",
        "\n",
        "def get_model(wedge_dropout=False):\n",
        "    input = layers.Input((28, 28, 1))\n",
        "    x = tf.keras.layers.BatchNormalization()(input)\n",
        "    x = layers.Conv2D(4, (5, 5), activation=\"tanh\")(x)\n",
        "    x = layers.AveragePooling2D(pool_size=(2, 2))(x)\n",
        "    x = layers.Conv2D(16, (5, 5), activation=\"tanh\")(x)\n",
        "    if wedge_dropout:\n",
        "        x = WedgeDropout2D(similarity=0.65)(x)\n",
        "    x = layers.AveragePooling2D(pool_size=(2, 2))(x)\n",
        "    x = layers.Flatten()(x)\n",
        "    if not wedge_dropout:\n",
        "        x = tf.keras.layers.BatchNormalization()(x)\n",
        "    x = layers.Dense(10, activation=\"tanh\")(x)\n",
        "    embedding_network = keras.Model(input, x, name='embedding')\n",
        "    embedding_network.summary()\n",
        "\n",
        "    input_1 = layers.Input((28, 28, 1))\n",
        "    input_2 = layers.Input((28, 28, 1))\n",
        "\n",
        "    # As mentioned above, Siamese Network share weights between\n",
        "    # tower networks (sister networks). To allow this, we will use\n",
        "    # same embedding network for both tower networks.\n",
        "    tower_1 = embedding_network(input_1)\n",
        "    tower_2 = embedding_network(input_2)\n",
        "\n",
        "    merge_layer = layers.Lambda(euclidean_distance)([tower_1, tower_2])\n",
        "    normal_layer = tf.keras.layers.BatchNormalization()(merge_layer)\n",
        "    output_layer = layers.Dense(1, activation=\"sigmoid\")(normal_layer)\n",
        "    return keras.Model(inputs=[input_1, input_2], outputs=output_layer, name='full')\n",
        "\n",
        "siamese = get_model()"
      ],
      "execution_count": 14,
      "outputs": [
        {
          "output_type": "stream",
          "text": [
            "Model: \"embedding\"\n",
            "_________________________________________________________________\n",
            "Layer (type)                 Output Shape              Param #   \n",
            "=================================================================\n",
            "input_1 (InputLayer)         [(None, 28, 28, 1)]       0         \n",
            "_________________________________________________________________\n",
            "batch_normalization (BatchNo (None, 28, 28, 1)         4         \n",
            "_________________________________________________________________\n",
            "conv2d (Conv2D)              (None, 24, 24, 4)         104       \n",
            "_________________________________________________________________\n",
            "average_pooling2d (AveragePo (None, 12, 12, 4)         0         \n",
            "_________________________________________________________________\n",
            "conv2d_1 (Conv2D)            (None, 8, 8, 16)          1616      \n",
            "_________________________________________________________________\n",
            "average_pooling2d_1 (Average (None, 4, 4, 16)          0         \n",
            "_________________________________________________________________\n",
            "flatten (Flatten)            (None, 256)               0         \n",
            "_________________________________________________________________\n",
            "batch_normalization_1 (Batch (None, 256)               1024      \n",
            "_________________________________________________________________\n",
            "dense (Dense)                (None, 10)                2570      \n",
            "=================================================================\n",
            "Total params: 5,318\n",
            "Trainable params: 4,804\n",
            "Non-trainable params: 514\n",
            "_________________________________________________________________\n"
          ],
          "name": "stdout"
        }
      ]
    },
    {
      "cell_type": "markdown",
      "metadata": {
        "id": "E8m46UoIDU68"
      },
      "source": [
        "## Define the constrastive Loss"
      ]
    },
    {
      "cell_type": "code",
      "metadata": {
        "id": "GYoJoNZdDU68"
      },
      "source": [
        "\n",
        "def loss(margin=1):\n",
        "    \"\"\"Provides 'constrastive_loss' an enclosing scope with variable 'margin'.\n",
        "\n",
        "  Arguments:\n",
        "      margin: Integer, defines the baseline for distance for which pairs\n",
        "              should be classified as dissimilar. - (default is 1).\n",
        "\n",
        "  Returns:\n",
        "      'constrastive_loss' function with data ('margin') attached.\n",
        "  \"\"\"\n",
        "\n",
        "    # Contrastive loss = mean( (1-true_value) * square(prediction) +\n",
        "    #                         true_value * square( max(margin-prediction, 0) ))\n",
        "    def contrastive_loss(y_true, y_pred):\n",
        "        \"\"\"Calculates the constrastive loss.\n",
        "\n",
        "      Arguments:\n",
        "          y_true: List of labels, each label is of type float32.\n",
        "          y_pred: List of predictions of same length as of y_true,\n",
        "                  each label is of type float32.\n",
        "\n",
        "      Returns:\n",
        "          A tensor containing constrastive loss as floating point value.\n",
        "      \"\"\"\n",
        "\n",
        "        square_pred = tf.math.square(y_pred)\n",
        "        margin_square = tf.math.square(tf.math.maximum(margin - (y_pred), 0))\n",
        "        return tf.math.reduce_mean(\n",
        "            (1 - y_true) * square_pred + (y_true) * margin_square\n",
        "        )\n",
        "\n",
        "    return contrastive_loss\n"
      ],
      "execution_count": 15,
      "outputs": []
    },
    {
      "cell_type": "markdown",
      "metadata": {
        "id": "vjSBKOt3DU69"
      },
      "source": [
        "## Compile the model with the contrastive loss"
      ]
    },
    {
      "cell_type": "code",
      "metadata": {
        "id": "u5Lzd4tJDU69",
        "colab": {
          "base_uri": "https://localhost:8080/"
        },
        "outputId": "5e9c1391-55b5-4b8a-9aaa-9126b84ad277"
      },
      "source": [
        "early_stopping = keras.callbacks.EarlyStopping(patience=15, restore_best_weights=True)\n",
        "\n",
        "siamese.compile(loss=loss(margin=margin), optimizer=\"RMSprop\", metrics=[\"accuracy\"])\n",
        "siamese.summary()\n"
      ],
      "execution_count": 16,
      "outputs": [
        {
          "output_type": "stream",
          "text": [
            "Model: \"full\"\n",
            "__________________________________________________________________________________________________\n",
            "Layer (type)                    Output Shape         Param #     Connected to                     \n",
            "==================================================================================================\n",
            "input_2 (InputLayer)            [(None, 28, 28, 1)]  0                                            \n",
            "__________________________________________________________________________________________________\n",
            "input_3 (InputLayer)            [(None, 28, 28, 1)]  0                                            \n",
            "__________________________________________________________________________________________________\n",
            "embedding (Functional)          (None, 10)           5318        input_2[0][0]                    \n",
            "                                                                 input_3[0][0]                    \n",
            "__________________________________________________________________________________________________\n",
            "lambda (Lambda)                 (None, 1)            0           embedding[0][0]                  \n",
            "                                                                 embedding[1][0]                  \n",
            "__________________________________________________________________________________________________\n",
            "batch_normalization_2 (BatchNor (None, 1)            4           lambda[0][0]                     \n",
            "__________________________________________________________________________________________________\n",
            "dense_1 (Dense)                 (None, 1)            2           batch_normalization_2[0][0]      \n",
            "==================================================================================================\n",
            "Total params: 5,324\n",
            "Trainable params: 4,808\n",
            "Non-trainable params: 516\n",
            "__________________________________________________________________________________________________\n"
          ],
          "name": "stdout"
        }
      ]
    },
    {
      "cell_type": "markdown",
      "metadata": {
        "id": "6erSxomuDU69"
      },
      "source": [
        "## Train the model"
      ]
    },
    {
      "cell_type": "code",
      "metadata": {
        "id": "S6pK1heQDU69",
        "colab": {
          "base_uri": "https://localhost:8080/"
        },
        "outputId": "0090de49-5edd-4d62-9584-cef1dc27216e"
      },
      "source": [
        "\n",
        "history = siamese.fit(\n",
        "    [x_train_1, x_train_2],\n",
        "    labels_train,\n",
        "    validation_data=([x_val_1, x_val_2], labels_val),\n",
        "    batch_size=batch_size,\n",
        "    epochs=epochs,\n",
        "    callbacks=[early_stopping]\n",
        ")\n",
        "siamese.evaluate([x_val_1, x_val_2], labels_val)"
      ],
      "execution_count": 17,
      "outputs": [
        {
          "output_type": "stream",
          "text": [
            "Epoch 1/100\n",
            "1875/1875 [==============================] - 76s 40ms/step - loss: 0.2630 - accuracy: 0.4875 - val_loss: 0.2501 - val_accuracy: 0.4896\n",
            "Epoch 2/100\n",
            "1875/1875 [==============================] - 71s 38ms/step - loss: 0.2495 - accuracy: 0.5133 - val_loss: 0.2383 - val_accuracy: 0.7872\n",
            "Epoch 3/100\n",
            "1875/1875 [==============================] - 71s 38ms/step - loss: 0.1188 - accuracy: 0.8811 - val_loss: 0.0486 - val_accuracy: 0.9367\n",
            "Epoch 4/100\n",
            "1875/1875 [==============================] - 71s 38ms/step - loss: 0.0463 - accuracy: 0.9387 - val_loss: 0.0326 - val_accuracy: 0.9570\n",
            "Epoch 5/100\n",
            "1875/1875 [==============================] - 71s 38ms/step - loss: 0.0354 - accuracy: 0.9538 - val_loss: 0.0240 - val_accuracy: 0.9683\n",
            "Epoch 6/100\n",
            "1875/1875 [==============================] - 71s 38ms/step - loss: 0.0299 - accuracy: 0.9604 - val_loss: 0.0206 - val_accuracy: 0.9733\n",
            "Epoch 7/100\n",
            "1875/1875 [==============================] - 71s 38ms/step - loss: 0.0265 - accuracy: 0.9657 - val_loss: 0.0222 - val_accuracy: 0.9714\n",
            "Epoch 8/100\n",
            "1875/1875 [==============================] - 72s 38ms/step - loss: 0.0242 - accuracy: 0.9684 - val_loss: 0.0187 - val_accuracy: 0.9759\n",
            "Epoch 9/100\n",
            "1875/1875 [==============================] - 72s 38ms/step - loss: 0.0232 - accuracy: 0.9700 - val_loss: 0.0180 - val_accuracy: 0.9764\n",
            "Epoch 10/100\n",
            "1875/1875 [==============================] - 72s 38ms/step - loss: 0.0220 - accuracy: 0.9713 - val_loss: 0.0166 - val_accuracy: 0.9787\n",
            "Epoch 11/100\n",
            "1875/1875 [==============================] - 72s 38ms/step - loss: 0.0205 - accuracy: 0.9736 - val_loss: 0.0164 - val_accuracy: 0.9789\n",
            "Epoch 12/100\n",
            "1875/1875 [==============================] - 72s 38ms/step - loss: 0.0204 - accuracy: 0.9739 - val_loss: 0.0146 - val_accuracy: 0.9812\n",
            "Epoch 13/100\n",
            "1875/1875 [==============================] - 72s 39ms/step - loss: 0.0195 - accuracy: 0.9748 - val_loss: 0.0142 - val_accuracy: 0.9816\n",
            "Epoch 14/100\n",
            "1875/1875 [==============================] - 73s 39ms/step - loss: 0.0185 - accuracy: 0.9762 - val_loss: 0.0149 - val_accuracy: 0.9811\n",
            "Epoch 15/100\n",
            "1875/1875 [==============================] - 73s 39ms/step - loss: 0.0186 - accuracy: 0.9763 - val_loss: 0.0149 - val_accuracy: 0.9810\n",
            "Epoch 16/100\n",
            "1875/1875 [==============================] - 72s 39ms/step - loss: 0.0181 - accuracy: 0.9768 - val_loss: 0.0132 - val_accuracy: 0.9829\n",
            "Epoch 17/100\n",
            "1875/1875 [==============================] - 72s 39ms/step - loss: 0.0169 - accuracy: 0.9784 - val_loss: 0.0146 - val_accuracy: 0.9815\n",
            "Epoch 18/100\n",
            "1875/1875 [==============================] - 72s 39ms/step - loss: 0.0166 - accuracy: 0.9789 - val_loss: 0.0142 - val_accuracy: 0.9817\n",
            "Epoch 19/100\n",
            "1875/1875 [==============================] - 73s 39ms/step - loss: 0.0167 - accuracy: 0.9792 - val_loss: 0.0158 - val_accuracy: 0.9800\n",
            "Epoch 20/100\n",
            "1875/1875 [==============================] - 73s 39ms/step - loss: 0.0168 - accuracy: 0.9790 - val_loss: 0.0137 - val_accuracy: 0.9826\n",
            "Epoch 21/100\n",
            "1875/1875 [==============================] - 75s 40ms/step - loss: 0.0173 - accuracy: 0.9776 - val_loss: 0.0129 - val_accuracy: 0.9831\n",
            "Epoch 22/100\n",
            "1875/1875 [==============================] - 75s 40ms/step - loss: 0.0162 - accuracy: 0.9791 - val_loss: 0.0133 - val_accuracy: 0.9832\n",
            "Epoch 23/100\n",
            "1875/1875 [==============================] - 75s 40ms/step - loss: 0.0152 - accuracy: 0.9805 - val_loss: 0.0134 - val_accuracy: 0.9833\n",
            "Epoch 24/100\n",
            "1875/1875 [==============================] - 75s 40ms/step - loss: 0.0155 - accuracy: 0.9805 - val_loss: 0.0137 - val_accuracy: 0.9829\n",
            "Epoch 25/100\n",
            "1875/1875 [==============================] - 75s 40ms/step - loss: 0.0150 - accuracy: 0.9808 - val_loss: 0.0139 - val_accuracy: 0.9826\n",
            "Epoch 26/100\n",
            "1875/1875 [==============================] - 74s 40ms/step - loss: 0.0154 - accuracy: 0.9804 - val_loss: 0.0146 - val_accuracy: 0.9816\n",
            "Epoch 27/100\n",
            "1875/1875 [==============================] - 74s 40ms/step - loss: 0.0158 - accuracy: 0.9798 - val_loss: 0.0129 - val_accuracy: 0.9833\n",
            "Epoch 28/100\n",
            "1875/1875 [==============================] - 74s 39ms/step - loss: 0.0154 - accuracy: 0.9804 - val_loss: 0.0128 - val_accuracy: 0.9835\n",
            "Epoch 29/100\n",
            "1875/1875 [==============================] - 74s 40ms/step - loss: 0.0146 - accuracy: 0.9814 - val_loss: 0.0138 - val_accuracy: 0.9826\n",
            "Epoch 30/100\n",
            "1875/1875 [==============================] - 74s 39ms/step - loss: 0.0142 - accuracy: 0.9818 - val_loss: 0.0141 - val_accuracy: 0.9824\n",
            "Epoch 31/100\n",
            "1875/1875 [==============================] - 75s 40ms/step - loss: 0.0149 - accuracy: 0.9808 - val_loss: 0.0124 - val_accuracy: 0.9840\n",
            "Epoch 32/100\n",
            "1875/1875 [==============================] - 75s 40ms/step - loss: 0.0142 - accuracy: 0.9821 - val_loss: 0.0135 - val_accuracy: 0.9827\n",
            "Epoch 33/100\n",
            "1875/1875 [==============================] - 74s 40ms/step - loss: 0.0151 - accuracy: 0.9810 - val_loss: 0.0133 - val_accuracy: 0.9833\n",
            "Epoch 34/100\n",
            "1875/1875 [==============================] - 76s 40ms/step - loss: 0.0142 - accuracy: 0.9815 - val_loss: 0.0140 - val_accuracy: 0.9821\n",
            "Epoch 35/100\n",
            "1875/1875 [==============================] - 79s 42ms/step - loss: 0.0141 - accuracy: 0.9821 - val_loss: 0.0128 - val_accuracy: 0.9833\n",
            "Epoch 36/100\n",
            "1875/1875 [==============================] - 76s 41ms/step - loss: 0.0140 - accuracy: 0.9825 - val_loss: 0.0138 - val_accuracy: 0.9827\n",
            "Epoch 37/100\n",
            "1875/1875 [==============================] - 76s 41ms/step - loss: 0.0137 - accuracy: 0.9828 - val_loss: 0.0128 - val_accuracy: 0.9839\n",
            "Epoch 38/100\n",
            "1875/1875 [==============================] - 78s 42ms/step - loss: 0.0143 - accuracy: 0.9819 - val_loss: 0.0154 - val_accuracy: 0.9807\n",
            "Epoch 39/100\n",
            "1875/1875 [==============================] - 78s 42ms/step - loss: 0.0139 - accuracy: 0.9823 - val_loss: 0.0145 - val_accuracy: 0.9818\n",
            "Epoch 40/100\n",
            "1875/1875 [==============================] - 79s 42ms/step - loss: 0.0136 - accuracy: 0.9827 - val_loss: 0.0162 - val_accuracy: 0.9795\n",
            "Epoch 41/100\n",
            "1875/1875 [==============================] - 79s 42ms/step - loss: 0.0139 - accuracy: 0.9816 - val_loss: 0.0132 - val_accuracy: 0.9835\n",
            "Epoch 42/100\n",
            "1875/1875 [==============================] - 79s 42ms/step - loss: 0.0135 - accuracy: 0.9830 - val_loss: 0.0128 - val_accuracy: 0.9841\n",
            "Epoch 43/100\n",
            "1875/1875 [==============================] - 80s 43ms/step - loss: 0.0140 - accuracy: 0.9820 - val_loss: 0.0132 - val_accuracy: 0.9832\n",
            "Epoch 44/100\n",
            "1875/1875 [==============================] - 79s 42ms/step - loss: 0.0138 - accuracy: 0.9823 - val_loss: 0.0133 - val_accuracy: 0.9833\n",
            "Epoch 45/100\n",
            "1875/1875 [==============================] - 78s 41ms/step - loss: 0.0132 - accuracy: 0.9834 - val_loss: 0.0131 - val_accuracy: 0.9833\n",
            "Epoch 46/100\n",
            "1875/1875 [==============================] - 78s 42ms/step - loss: 0.0138 - accuracy: 0.9822 - val_loss: 0.0137 - val_accuracy: 0.9826\n",
            "1875/1875 [==============================] - 21s 11ms/step - loss: 0.0124 - accuracy: 0.9840\n"
          ],
          "name": "stdout"
        },
        {
          "output_type": "execute_result",
          "data": {
            "text/plain": [
              "[0.012437745928764343, 0.984000027179718]"
            ]
          },
          "metadata": {
            "tags": []
          },
          "execution_count": 17
        }
      ]
    },
    {
      "cell_type": "markdown",
      "metadata": {
        "id": "VZ075lrDDU69"
      },
      "source": [
        "## Visualize results"
      ]
    },
    {
      "cell_type": "code",
      "metadata": {
        "id": "YDMZoXCvDU69",
        "colab": {
          "base_uri": "https://localhost:8080/",
          "height": 573
        },
        "outputId": "31fb656e-0ae1-49b9-a59c-61d2a7f02663"
      },
      "source": [
        "\n",
        "def plt_metric(history, metric, title, has_valid=True):\n",
        "    \"\"\"Plots the given 'metric' from 'history'.\n",
        "\n",
        "    Arguments:\n",
        "        history: history attribute of History object returned from Model.fit.\n",
        "        metric: Metric to plot, a string value present as key in 'history'.\n",
        "        title: A string to be used as title of plot.\n",
        "        has_valid: Boolean, true if valid data was passed to Model.fit else false.\n",
        "\n",
        "    Returns:\n",
        "        None.\n",
        "    \"\"\"\n",
        "    plt.plot(history[metric])\n",
        "    if has_valid:\n",
        "        plt.plot(history[\"val_\" + metric])\n",
        "        plt.legend([\"train\", \"validation\"], loc=\"upper left\")\n",
        "    plt.title(title)\n",
        "    plt.ylabel(metric)\n",
        "    plt.xlabel(\"epoch\")\n",
        "    plt.show()\n",
        "\n",
        "\n",
        "# Plot the accuracy\n",
        "plt_metric(history=history.history, metric=\"accuracy\", title=\"Model accuracy\")\n",
        "\n",
        "# Plot the constrastive loss\n",
        "plt_metric(history=history.history, metric=\"loss\", title=\"Constrastive Loss\")"
      ],
      "execution_count": 18,
      "outputs": [
        {
          "output_type": "display_data",
          "data": {
            "image/png": "[encoded data removed]",
            "text/plain": [
              "<Figure size 432x288 with 1 Axes>"
            ]
          },
          "metadata": {
            "tags": [],
            "needs_background": "light"
          }
        },
        {
          "output_type": "display_data",
          "data": {
            "image/png": "[encoded data removed]",
            "text/plain": [
              "<Figure size 432x288 with 1 Axes>"
            ]
          },
          "metadata": {
            "tags": [],
            "needs_background": "light"
          }
        }
      ]
    },
    {
      "cell_type": "markdown",
      "metadata": {
        "id": "4xsypNVCDU6-"
      },
      "source": [
        "## Evaluate the model"
      ]
    },
    {
      "cell_type": "code",
      "metadata": {
        "id": "mwWjVJuODU6-",
        "colab": {
          "base_uri": "https://localhost:8080/"
        },
        "outputId": "0da56240-3cab-49b6-c2b1-aa7e48729843"
      },
      "source": [
        "results = siamese.evaluate([x_test_1, x_test_2], labels_test)\n",
        "print(\"test loss, test acc:\", results)"
      ],
      "execution_count": 19,
      "outputs": [
        {
          "output_type": "stream",
          "text": [
            "625/625 [==============================] - 7s 11ms/step - loss: 0.0112 - accuracy: 0.9858\n",
            "test loss, test acc: [0.011246571317315102, 0.98580002784729]\n"
          ],
          "name": "stdout"
        }
      ]
    },
    {
      "cell_type": "markdown",
      "metadata": {
        "id": "8ngTQu3ADU6-"
      },
      "source": [
        "## Visualize the predictions"
      ]
    },
    {
      "cell_type": "code",
      "metadata": {
        "id": "norVZQYIDU6-",
        "colab": {
          "base_uri": "https://localhost:8080/",
          "height": 125
        },
        "outputId": "0bdf17d0-89ea-465b-ad11-b15bb6a3346e"
      },
      "source": [
        "predictions = siamese.predict([x_test_1, x_test_2])\n",
        "visualize(pairs_test, labels_test, to_show=3, predictions=predictions, test=True)"
      ],
      "execution_count": 20,
      "outputs": [
        {
          "output_type": "display_data",
          "data": {
            "image/png": "[encoded data removed]",
            "text/plain": [
              "<Figure size 360x360 with 3 Axes>"
            ]
          },
          "metadata": {
            "tags": [],
            "needs_background": "light"
          }
        }
      ]
    },
    {
      "cell_type": "markdown",
      "metadata": {
        "id": "55BT2P79Eqrt"
      },
      "source": [
        "# WedgeDropout2D"
      ]
    },
    {
      "cell_type": "code",
      "metadata": {
        "id": "8_id-0IaE8Cl"
      },
      "source": [
        "siamese_wedge = get_model(wedge_dropout=True)\n",
        "siamese_wedge.compile(loss=loss(margin=margin), optimizer=\"RMSprop\", metrics=[\"accuracy\"])\n",
        "siamese_wedge.summary()\n"
      ],
      "execution_count": null,
      "outputs": []
    },
    {
      "cell_type": "code",
      "metadata": {
        "colab": {
          "base_uri": "https://localhost:8080/"
        },
        "id": "-9gZYB_uFEjG",
        "outputId": "822259d5-61a7-4220-f50a-d8cf40165840"
      },
      "source": [
        "history = siamese_wedge.fit(\n",
        "    [x_train_1, x_train_2],\n",
        "    labels_train,\n",
        "    validation_data=([x_val_1, x_val_2], labels_val),\n",
        "    batch_size=batch_size,\n",
        "    epochs=epochs,\n",
        "    callbacks=[early_stopping]\n",
        ")\n",
        "siamese_wedge.evaluate([x_val_1, x_val_2], labels_val)"
      ],
      "execution_count": 22,
      "outputs": [
        {
          "output_type": "stream",
          "text": [
            "Epoch 1/100\n",
            "WARNING:tensorflow:From /usr/local/lib/python3.7/dist-packages/tensorflow/python/ops/array_ops.py:5049: calling gather (from tensorflow.python.ops.array_ops) with validate_indices is deprecated and will be removed in a future version.\n",
            "Instructions for updating:\n",
            "The `validate_indices` argument has no effect. Indices are always validated on CPU and never validated on GPU.\n",
            "1875/1875 [==============================] - 75s 39ms/step - loss: 0.2570 - accuracy: 0.4913 - val_loss: 0.2501 - val_accuracy: 0.4978\n",
            "Epoch 2/100\n",
            "1875/1875 [==============================] - 73s 39ms/step - loss: 0.2500 - accuracy: 0.4982 - val_loss: 0.2483 - val_accuracy: 0.5000\n",
            "Epoch 3/100\n",
            "1875/1875 [==============================] - 73s 39ms/step - loss: 0.1917 - accuracy: 0.7311 - val_loss: 0.1553 - val_accuracy: 0.7754\n",
            "Epoch 4/100\n",
            "1875/1875 [==============================] - 73s 39ms/step - loss: 0.1513 - accuracy: 0.7847 - val_loss: 0.1457 - val_accuracy: 0.7948\n",
            "Epoch 5/100\n",
            "1875/1875 [==============================] - 73s 39ms/step - loss: 0.1402 - accuracy: 0.8046 - val_loss: 0.1327 - val_accuracy: 0.8139\n",
            "Epoch 6/100\n",
            "1875/1875 [==============================] - 73s 39ms/step - loss: 0.1335 - accuracy: 0.8163 - val_loss: 0.1278 - val_accuracy: 0.8217\n",
            "Epoch 7/100\n",
            "1875/1875 [==============================] - 74s 39ms/step - loss: 0.1298 - accuracy: 0.8226 - val_loss: 0.1307 - val_accuracy: 0.8158\n",
            "Epoch 8/100\n",
            "1875/1875 [==============================] - 73s 39ms/step - loss: 0.1276 - accuracy: 0.8240 - val_loss: 0.1196 - val_accuracy: 0.8358\n",
            "Epoch 9/100\n",
            "1875/1875 [==============================] - 74s 39ms/step - loss: 0.1271 - accuracy: 0.8257 - val_loss: 0.1168 - val_accuracy: 0.8411\n",
            "Epoch 10/100\n",
            "1875/1875 [==============================] - 74s 39ms/step - loss: 0.1251 - accuracy: 0.8292 - val_loss: 0.1167 - val_accuracy: 0.8398\n",
            "Epoch 11/100\n",
            "1875/1875 [==============================] - 74s 39ms/step - loss: 0.1243 - accuracy: 0.8315 - val_loss: 0.1212 - val_accuracy: 0.8309\n",
            "Epoch 12/100\n",
            "1875/1875 [==============================] - 76s 41ms/step - loss: 0.1226 - accuracy: 0.8352 - val_loss: 0.1065 - val_accuracy: 0.8572\n",
            "Epoch 13/100\n",
            "1875/1875 [==============================] - 77s 41ms/step - loss: 0.1128 - accuracy: 0.8482 - val_loss: 0.0953 - val_accuracy: 0.8673\n",
            "Epoch 14/100\n",
            "1875/1875 [==============================] - 78s 41ms/step - loss: 0.0899 - accuracy: 0.8778 - val_loss: 0.0645 - val_accuracy: 0.9142\n",
            "Epoch 15/100\n",
            "1875/1875 [==============================] - 77s 41ms/step - loss: 0.0814 - accuracy: 0.8905 - val_loss: 0.0643 - val_accuracy: 0.9140\n",
            "Epoch 16/100\n",
            "1875/1875 [==============================] - 78s 41ms/step - loss: 0.0790 - accuracy: 0.8935 - val_loss: 0.0587 - val_accuracy: 0.9221\n",
            "Epoch 17/100\n",
            "1875/1875 [==============================] - 78s 42ms/step - loss: 0.0757 - accuracy: 0.8987 - val_loss: 0.0583 - val_accuracy: 0.9231\n",
            "Epoch 18/100\n",
            "1875/1875 [==============================] - 78s 42ms/step - loss: 0.0770 - accuracy: 0.8961 - val_loss: 0.0580 - val_accuracy: 0.9236\n",
            "Epoch 19/100\n",
            "1875/1875 [==============================] - 77s 41ms/step - loss: 0.0741 - accuracy: 0.9009 - val_loss: 0.0598 - val_accuracy: 0.9203\n",
            "Epoch 20/100\n",
            "1875/1875 [==============================] - 78s 41ms/step - loss: 0.0740 - accuracy: 0.9014 - val_loss: 0.0667 - val_accuracy: 0.9104\n",
            "Epoch 21/100\n",
            "1875/1875 [==============================] - 78s 42ms/step - loss: 0.0729 - accuracy: 0.9027 - val_loss: 0.0615 - val_accuracy: 0.9160\n",
            "Epoch 22/100\n",
            "1875/1875 [==============================] - 78s 42ms/step - loss: 0.0726 - accuracy: 0.9039 - val_loss: 0.0576 - val_accuracy: 0.9215\n",
            "Epoch 23/100\n",
            "1875/1875 [==============================] - 78s 42ms/step - loss: 0.0732 - accuracy: 0.9026 - val_loss: 0.0583 - val_accuracy: 0.9220\n",
            "Epoch 24/100\n",
            "1875/1875 [==============================] - 78s 42ms/step - loss: 0.0718 - accuracy: 0.9043 - val_loss: 0.0526 - val_accuracy: 0.9319\n",
            "Epoch 25/100\n",
            "1875/1875 [==============================] - 78s 42ms/step - loss: 0.0712 - accuracy: 0.9048 - val_loss: 0.0551 - val_accuracy: 0.9269\n",
            "Epoch 26/100\n",
            "1875/1875 [==============================] - 77s 41ms/step - loss: 0.0710 - accuracy: 0.9048 - val_loss: 0.0534 - val_accuracy: 0.9299\n",
            "Epoch 27/100\n",
            "1875/1875 [==============================] - 77s 41ms/step - loss: 0.0701 - accuracy: 0.9072 - val_loss: 0.0542 - val_accuracy: 0.9273\n",
            "Epoch 28/100\n",
            "1875/1875 [==============================] - 78s 42ms/step - loss: 0.0698 - accuracy: 0.9085 - val_loss: 0.0530 - val_accuracy: 0.9306\n",
            "Epoch 29/100\n",
            "1875/1875 [==============================] - 78s 42ms/step - loss: 0.0662 - accuracy: 0.9123 - val_loss: 0.0479 - val_accuracy: 0.9379\n",
            "Epoch 30/100\n",
            "1875/1875 [==============================] - 79s 42ms/step - loss: 0.0646 - accuracy: 0.9138 - val_loss: 0.0508 - val_accuracy: 0.9324\n",
            "Epoch 31/100\n",
            "1875/1875 [==============================] - 80s 42ms/step - loss: 0.0631 - accuracy: 0.9167 - val_loss: 0.0568 - val_accuracy: 0.9257\n",
            "Epoch 32/100\n",
            "1875/1875 [==============================] - 80s 43ms/step - loss: 0.0612 - accuracy: 0.9196 - val_loss: 0.0503 - val_accuracy: 0.9333\n",
            "Epoch 33/100\n",
            "1875/1875 [==============================] - 80s 43ms/step - loss: 0.0612 - accuracy: 0.9189 - val_loss: 0.0468 - val_accuracy: 0.9374\n",
            "Epoch 34/100\n",
            "1875/1875 [==============================] - 79s 42ms/step - loss: 0.0562 - accuracy: 0.9257 - val_loss: 0.0424 - val_accuracy: 0.9449\n",
            "Epoch 35/100\n",
            "1875/1875 [==============================] - 78s 42ms/step - loss: 0.0528 - accuracy: 0.9302 - val_loss: 0.0393 - val_accuracy: 0.9482\n",
            "Epoch 36/100\n",
            "1875/1875 [==============================] - 79s 42ms/step - loss: 0.0504 - accuracy: 0.9337 - val_loss: 0.0416 - val_accuracy: 0.9444\n",
            "Epoch 37/100\n",
            "1875/1875 [==============================] - 79s 42ms/step - loss: 0.0502 - accuracy: 0.9335 - val_loss: 0.0374 - val_accuracy: 0.9501\n",
            "Epoch 38/100\n",
            "1875/1875 [==============================] - 79s 42ms/step - loss: 0.0490 - accuracy: 0.9348 - val_loss: 0.0410 - val_accuracy: 0.9453\n",
            "Epoch 39/100\n",
            "1875/1875 [==============================] - 78s 42ms/step - loss: 0.0482 - accuracy: 0.9359 - val_loss: 0.0391 - val_accuracy: 0.9475\n",
            "Epoch 40/100\n",
            "1875/1875 [==============================] - 77s 41ms/step - loss: 0.0478 - accuracy: 0.9373 - val_loss: 0.0389 - val_accuracy: 0.9485\n",
            "Epoch 41/100\n",
            "1875/1875 [==============================] - 76s 41ms/step - loss: 0.0466 - accuracy: 0.9379 - val_loss: 0.0360 - val_accuracy: 0.9520\n",
            "Epoch 42/100\n",
            "1875/1875 [==============================] - 77s 41ms/step - loss: 0.0458 - accuracy: 0.9388 - val_loss: 0.0356 - val_accuracy: 0.9532\n",
            "Epoch 43/100\n",
            "1875/1875 [==============================] - 79s 42ms/step - loss: 0.0460 - accuracy: 0.9397 - val_loss: 0.0361 - val_accuracy: 0.9522\n",
            "Epoch 44/100\n",
            "1875/1875 [==============================] - 79s 42ms/step - loss: 0.0446 - accuracy: 0.9411 - val_loss: 0.0345 - val_accuracy: 0.9544\n",
            "Epoch 45/100\n",
            "1875/1875 [==============================] - 79s 42ms/step - loss: 0.0450 - accuracy: 0.9392 - val_loss: 0.0402 - val_accuracy: 0.9471\n",
            "Epoch 46/100\n",
            "1875/1875 [==============================] - 79s 42ms/step - loss: 0.0442 - accuracy: 0.9413 - val_loss: 0.0347 - val_accuracy: 0.9542\n",
            "Epoch 47/100\n",
            "1875/1875 [==============================] - 79s 42ms/step - loss: 0.0440 - accuracy: 0.9411 - val_loss: 0.0392 - val_accuracy: 0.9477\n",
            "Epoch 48/100\n",
            "1875/1875 [==============================] - 80s 42ms/step - loss: 0.0440 - accuracy: 0.9410 - val_loss: 0.0376 - val_accuracy: 0.9499\n",
            "Epoch 49/100\n",
            "1875/1875 [==============================] - 80s 43ms/step - loss: 0.0436 - accuracy: 0.9416 - val_loss: 0.0363 - val_accuracy: 0.9524\n",
            "Epoch 50/100\n",
            "1875/1875 [==============================] - 79s 42ms/step - loss: 0.0440 - accuracy: 0.9412 - val_loss: 0.0367 - val_accuracy: 0.9517\n",
            "Epoch 51/100\n",
            "1875/1875 [==============================] - 80s 43ms/step - loss: 0.0431 - accuracy: 0.9424 - val_loss: 0.0377 - val_accuracy: 0.9502\n",
            "Epoch 52/100\n",
            "1875/1875 [==============================] - 79s 42ms/step - loss: 0.0428 - accuracy: 0.9431 - val_loss: 0.0355 - val_accuracy: 0.9526\n",
            "Epoch 53/100\n",
            "1875/1875 [==============================] - 79s 42ms/step - loss: 0.0429 - accuracy: 0.9433 - val_loss: 0.0350 - val_accuracy: 0.9538\n",
            "Epoch 54/100\n",
            "1875/1875 [==============================] - 79s 42ms/step - loss: 0.0423 - accuracy: 0.9433 - val_loss: 0.0323 - val_accuracy: 0.9571\n",
            "Epoch 55/100\n",
            "1875/1875 [==============================] - 80s 43ms/step - loss: 0.0422 - accuracy: 0.9438 - val_loss: 0.0372 - val_accuracy: 0.9509\n",
            "Epoch 56/100\n",
            "1875/1875 [==============================] - 80s 43ms/step - loss: 0.0417 - accuracy: 0.9445 - val_loss: 0.0319 - val_accuracy: 0.9579\n",
            "Epoch 57/100\n",
            "1875/1875 [==============================] - 81s 43ms/step - loss: 0.0425 - accuracy: 0.9434 - val_loss: 0.0343 - val_accuracy: 0.9534\n",
            "Epoch 58/100\n",
            "1875/1875 [==============================] - 81s 43ms/step - loss: 0.0423 - accuracy: 0.9438 - val_loss: 0.0400 - val_accuracy: 0.9480\n",
            "Epoch 59/100\n",
            "1875/1875 [==============================] - 81s 43ms/step - loss: 0.0420 - accuracy: 0.9442 - val_loss: 0.0401 - val_accuracy: 0.9469\n",
            "Epoch 60/100\n",
            "1875/1875 [==============================] - 80s 43ms/step - loss: 0.0423 - accuracy: 0.9439 - val_loss: 0.0361 - val_accuracy: 0.9525\n",
            "Epoch 61/100\n",
            "1875/1875 [==============================] - 80s 43ms/step - loss: 0.0425 - accuracy: 0.9433 - val_loss: 0.0358 - val_accuracy: 0.9534\n",
            "Epoch 62/100\n",
            "1875/1875 [==============================] - 81s 43ms/step - loss: 0.0419 - accuracy: 0.9449 - val_loss: 0.0338 - val_accuracy: 0.9552\n",
            "Epoch 63/100\n",
            "1875/1875 [==============================] - 80s 43ms/step - loss: 0.0417 - accuracy: 0.9442 - val_loss: 0.0356 - val_accuracy: 0.9527\n",
            "Epoch 64/100\n",
            "1875/1875 [==============================] - 80s 43ms/step - loss: 0.0408 - accuracy: 0.9462 - val_loss: 0.0352 - val_accuracy: 0.9527\n",
            "Epoch 65/100\n",
            "1875/1875 [==============================] - 80s 43ms/step - loss: 0.0417 - accuracy: 0.9442 - val_loss: 0.0360 - val_accuracy: 0.9528\n",
            "Epoch 66/100\n",
            "1875/1875 [==============================] - 80s 43ms/step - loss: 0.0364 - accuracy: 0.9518 - val_loss: 0.0265 - val_accuracy: 0.9662\n",
            "Epoch 67/100\n",
            "1875/1875 [==============================] - 81s 43ms/step - loss: 0.0302 - accuracy: 0.9607 - val_loss: 0.0234 - val_accuracy: 0.9703\n",
            "Epoch 68/100\n",
            "1875/1875 [==============================] - 81s 43ms/step - loss: 0.0280 - accuracy: 0.9645 - val_loss: 0.0234 - val_accuracy: 0.9704\n",
            "Epoch 69/100\n",
            "1875/1875 [==============================] - 80s 43ms/step - loss: 0.0270 - accuracy: 0.9657 - val_loss: 0.0241 - val_accuracy: 0.9692\n",
            "Epoch 70/100\n",
            "1875/1875 [==============================] - 81s 43ms/step - loss: 0.0253 - accuracy: 0.9674 - val_loss: 0.0238 - val_accuracy: 0.9703\n",
            "Epoch 71/100\n",
            "1875/1875 [==============================] - 82s 44ms/step - loss: 0.0251 - accuracy: 0.9684 - val_loss: 0.0231 - val_accuracy: 0.9706\n",
            "Epoch 72/100\n",
            "1875/1875 [==============================] - 81s 43ms/step - loss: 0.0252 - accuracy: 0.9685 - val_loss: 0.0230 - val_accuracy: 0.9714\n",
            "Epoch 73/100\n",
            "1875/1875 [==============================] - 80s 43ms/step - loss: 0.0249 - accuracy: 0.9686 - val_loss: 0.0223 - val_accuracy: 0.9718\n",
            "Epoch 74/100\n",
            "1875/1875 [==============================] - 82s 44ms/step - loss: 0.0241 - accuracy: 0.9696 - val_loss: 0.0215 - val_accuracy: 0.9730\n",
            "Epoch 75/100\n",
            "1875/1875 [==============================] - 81s 43ms/step - loss: 0.0242 - accuracy: 0.9696 - val_loss: 0.0219 - val_accuracy: 0.9730\n",
            "Epoch 76/100\n",
            "1875/1875 [==============================] - 81s 43ms/step - loss: 0.0248 - accuracy: 0.9687 - val_loss: 0.0210 - val_accuracy: 0.9735\n",
            "Epoch 77/100\n",
            "1875/1875 [==============================] - 81s 43ms/step - loss: 0.0242 - accuracy: 0.9699 - val_loss: 0.0225 - val_accuracy: 0.9718\n",
            "Epoch 78/100\n",
            "1875/1875 [==============================] - 80s 43ms/step - loss: 0.0246 - accuracy: 0.9697 - val_loss: 0.0217 - val_accuracy: 0.9733\n",
            "Epoch 79/100\n",
            "1875/1875 [==============================] - 81s 43ms/step - loss: 0.0237 - accuracy: 0.9700 - val_loss: 0.0229 - val_accuracy: 0.9711\n",
            "Epoch 80/100\n",
            "1875/1875 [==============================] - 81s 43ms/step - loss: 0.0235 - accuracy: 0.9707 - val_loss: 0.0211 - val_accuracy: 0.9736\n",
            "Epoch 81/100\n",
            "1875/1875 [==============================] - 81s 43ms/step - loss: 0.0237 - accuracy: 0.9707 - val_loss: 0.0204 - val_accuracy: 0.9750\n",
            "Epoch 82/100\n",
            "1875/1875 [==============================] - 81s 43ms/step - loss: 0.0225 - accuracy: 0.9719 - val_loss: 0.0220 - val_accuracy: 0.9731\n",
            "Epoch 83/100\n",
            "1875/1875 [==============================] - 82s 44ms/step - loss: 0.0232 - accuracy: 0.9714 - val_loss: 0.0216 - val_accuracy: 0.9739\n",
            "Epoch 84/100\n",
            "1875/1875 [==============================] - 81s 43ms/step - loss: 0.0225 - accuracy: 0.9723 - val_loss: 0.0205 - val_accuracy: 0.9744\n",
            "Epoch 85/100\n",
            "1875/1875 [==============================] - 81s 43ms/step - loss: 0.0231 - accuracy: 0.9715 - val_loss: 0.0224 - val_accuracy: 0.9728\n",
            "Epoch 86/100\n",
            "1875/1875 [==============================] - 82s 44ms/step - loss: 0.0228 - accuracy: 0.9720 - val_loss: 0.0264 - val_accuracy: 0.9672\n",
            "Epoch 87/100\n",
            "1875/1875 [==============================] - 82s 44ms/step - loss: 0.0220 - accuracy: 0.9728 - val_loss: 0.0256 - val_accuracy: 0.9684\n",
            "Epoch 88/100\n",
            "1875/1875 [==============================] - 82s 43ms/step - loss: 0.0233 - accuracy: 0.9710 - val_loss: 0.0218 - val_accuracy: 0.9739\n",
            "Epoch 89/100\n",
            "1875/1875 [==============================] - 82s 44ms/step - loss: 0.0226 - accuracy: 0.9718 - val_loss: 0.0212 - val_accuracy: 0.9738\n",
            "Epoch 90/100\n",
            "1875/1875 [==============================] - 81s 43ms/step - loss: 0.0216 - accuracy: 0.9733 - val_loss: 0.0230 - val_accuracy: 0.9719\n",
            "Epoch 91/100\n",
            "1875/1875 [==============================] - 81s 43ms/step - loss: 0.0221 - accuracy: 0.9724 - val_loss: 0.0207 - val_accuracy: 0.9745\n",
            "Epoch 92/100\n",
            "1875/1875 [==============================] - 82s 44ms/step - loss: 0.0230 - accuracy: 0.9717 - val_loss: 0.0231 - val_accuracy: 0.9716\n",
            "Epoch 93/100\n",
            "1875/1875 [==============================] - 81s 43ms/step - loss: 0.0225 - accuracy: 0.9722 - val_loss: 0.0213 - val_accuracy: 0.9735\n",
            "Epoch 94/100\n",
            "1875/1875 [==============================] - 82s 44ms/step - loss: 0.0228 - accuracy: 0.9722 - val_loss: 0.0209 - val_accuracy: 0.9744\n",
            "Epoch 95/100\n",
            "1875/1875 [==============================] - 82s 44ms/step - loss: 0.0225 - accuracy: 0.9718 - val_loss: 0.0253 - val_accuracy: 0.9690\n",
            "Epoch 96/100\n",
            "1875/1875 [==============================] - 82s 44ms/step - loss: 0.0223 - accuracy: 0.9724 - val_loss: 0.0219 - val_accuracy: 0.9729\n",
            "1875/1875 [==============================] - 23s 12ms/step - loss: 0.0204 - accuracy: 0.9750\n"
          ],
          "name": "stdout"
        },
        {
          "output_type": "execute_result",
          "data": {
            "text/plain": [
              "[0.02039741352200508, 0.9750166535377502]"
            ]
          },
          "metadata": {
            "tags": []
          },
          "execution_count": 22
        }
      ]
    },
    {
      "cell_type": "code",
      "metadata": {
        "id": "K1BkM3fsGGBS"
      },
      "source": [
        ""
      ],
      "execution_count": 22,
      "outputs": []
    }
  ]
}