{
  "nbformat": 4,
  "nbformat_minor": 0,
  "metadata": {
    "colab": {
      "name": "WedgeDropout Demo conv_lstm",
      "provenance": [],
      "collapsed_sections": [],
      "toc_visible": true,
      "machine_shape": "hm"
    },
    "kernelspec": {
      "display_name": "Python 3",
      "language": "python",
      "name": "python3"
    },
    "language_info": {
      "codemirror_mode": {
        "name": "ipython",
        "version": 3
      },
      "file_extension": ".py",
      "mimetype": "text/x-python",
      "name": "python",
      "nbconvert_exporter": "python",
      "pygments_lexer": "ipython3",
      "version": "3.7.0"
    },
    "accelerator": "GPU"
  },
  "cells": [
    {
      "cell_type": "markdown",
      "metadata": {
        "id": "bGaRFX4Jdrf4"
      },
      "source": [
        "# Next-frame prediction with Conv-LSTM\n",
        "\n",
        "**Author:** [jeammimi](https://github.com/jeammimi)<br>\n",
        "**Date created:** 2016/11/02<br>\n",
        "**Last modified:** 2020/05/01<br>\n",
        "**Description:** Predict the next frame in a sequence using a Conv-LSTM model."
      ]
    },
    {
      "cell_type": "markdown",
      "metadata": {
        "id": "AkYa62wH57zf"
      },
      "source": [
        "Not sure this is worth the effort, saving."
      ]
    },
    {
      "cell_type": "markdown",
      "metadata": {
        "id": "3hlnzR7ndrgA"
      },
      "source": [
        "## Introduction\n",
        "\n",
        "This script demonstrates the use of a convolutional LSTM model.\n",
        "The model is used to predict the next frame of an artificially\n",
        "generated movie which contains moving squares.\n"
      ]
    },
    {
      "cell_type": "markdown",
      "metadata": {
        "id": "eFyweer3drgB"
      },
      "source": [
        "## Setup\n"
      ]
    },
    {
      "cell_type": "code",
      "metadata": {
        "id": "HUJSMkXMdrgC"
      },
      "source": [
        "from tensorflow import keras\n",
        "from tensorflow.keras import layers\n",
        "import numpy as np\n",
        "import pylab as plt\n"
      ],
      "execution_count": 1,
      "outputs": []
    },
    {
      "cell_type": "markdown",
      "metadata": {
        "id": "UpkTcwhEdrgC"
      },
      "source": [
        "## Build a model\n",
        "\n",
        "We create a model which take as input movies of shape\n",
        "`(n_frames, width, height, channels)` and returns a movie\n",
        "of identical shape.\n"
      ]
    },
    {
      "cell_type": "code",
      "metadata": {
        "id": "W2oZS2LadrgD",
        "colab": {
          "base_uri": "https://localhost:8080/"
        },
        "outputId": "8731e46d-55c0-4540-d5f6-98996d13e006"
      },
      "source": [
        "seq = keras.Sequential(\n",
        "    [\n",
        "        keras.Input(\n",
        "            shape=(None, 40, 40, 1)\n",
        "        ),  # Variable-length sequence of 40x40x1 frames\n",
        "        layers.ConvLSTM2D(\n",
        "            filters=40, kernel_size=(3, 3), padding=\"same\", return_sequences=True\n",
        "        ),\n",
        "        layers.BatchNormalization(),\n",
        "        layers.ConvLSTM2D(\n",
        "            filters=40, kernel_size=(3, 3), padding=\"same\", return_sequences=True\n",
        "        ),\n",
        "        layers.BatchNormalization(),\n",
        "        layers.ConvLSTM2D(\n",
        "            filters=40, kernel_size=(3, 3), padding=\"same\", return_sequences=True\n",
        "        ),\n",
        "        layers.BatchNormalization(),\n",
        "        layers.ConvLSTM2D(\n",
        "            filters=40, kernel_size=(3, 3), padding=\"same\", return_sequences=True\n",
        "        ),\n",
        "        layers.BatchNormalization(),\n",
        "        layers.Conv3D(\n",
        "            filters=1, kernel_size=(3, 3, 3), activation=\"sigmoid\", padding=\"same\"\n",
        "        ),\n",
        "    ]\n",
        ")\n",
        "opt = keras.optimizers.Adadelta(learning_rate=1e-2)\n",
        "seq.compile(loss=\"binary_crossentropy\", optimizer=opt)\n",
        "seq.summary()"
      ],
      "execution_count": 2,
      "outputs": [
        {
          "output_type": "stream",
          "text": [
            "WARNING:tensorflow:Please add `keras.layers.InputLayer` instead of `keras.Input` to Sequential model. `keras.Input` is intended to be used by Functional model.\n",
            "Model: \"sequential\"\n",
            "_________________________________________________________________\n",
            "Layer (type)                 Output Shape              Param #   \n",
            "=================================================================\n",
            "conv_lst_m2d (ConvLSTM2D)    (None, None, 40, 40, 40)  59200     \n",
            "_________________________________________________________________\n",
            "batch_normalization (BatchNo (None, None, 40, 40, 40)  160       \n",
            "_________________________________________________________________\n",
            "conv_lst_m2d_1 (ConvLSTM2D)  (None, None, 40, 40, 40)  115360    \n",
            "_________________________________________________________________\n",
            "batch_normalization_1 (Batch (None, None, 40, 40, 40)  160       \n",
            "_________________________________________________________________\n",
            "conv_lst_m2d_2 (ConvLSTM2D)  (None, None, 40, 40, 40)  115360    \n",
            "_________________________________________________________________\n",
            "batch_normalization_2 (Batch (None, None, 40, 40, 40)  160       \n",
            "_________________________________________________________________\n",
            "conv_lst_m2d_3 (ConvLSTM2D)  (None, None, 40, 40, 40)  115360    \n",
            "_________________________________________________________________\n",
            "batch_normalization_3 (Batch (None, None, 40, 40, 40)  160       \n",
            "_________________________________________________________________\n",
            "conv3d (Conv3D)              (None, None, 40, 40, 1)   1081      \n",
            "=================================================================\n",
            "Total params: 407,001\n",
            "Trainable params: 406,681\n",
            "Non-trainable params: 320\n",
            "_________________________________________________________________\n"
          ],
          "name": "stdout"
        }
      ]
    },
    {
      "cell_type": "markdown",
      "metadata": {
        "id": "_RuKjo5vdrgD"
      },
      "source": [
        "## Generate artificial data\n",
        "\n",
        "Generate movies with 3 to 7 moving squares inside.\n",
        "The squares are of shape 1x1 or 2x2 pixels,\n",
        "and move linearly over time.\n",
        "For convenience, we first create movies with bigger width and height (80x80)\n",
        "and at the end we select a 40x40 window.\n"
      ]
    },
    {
      "cell_type": "code",
      "metadata": {
        "id": "KJfkXPY6drgE"
      },
      "source": [
        "\n",
        "def generate_movies(n_samples=1200, n_frames=15):\n",
        "    row = 80\n",
        "    col = 80\n",
        "    noisy_movies = np.zeros((n_samples, n_frames, row, col, 1), dtype=np.float)\n",
        "    shifted_movies = np.zeros((n_samples, n_frames, row, col, 1), dtype=np.float)\n",
        "\n",
        "    for i in range(n_samples):\n",
        "        # Add 3 to 7 moving squares\n",
        "        n = np.random.randint(3, 8)\n",
        "\n",
        "        for j in range(n):\n",
        "            # Initial position\n",
        "            xstart = np.random.randint(20, 60)\n",
        "            ystart = np.random.randint(20, 60)\n",
        "            # Direction of motion\n",
        "            directionx = np.random.randint(0, 3) - 1\n",
        "            directiony = np.random.randint(0, 3) - 1\n",
        "\n",
        "            # Size of the square\n",
        "            w = np.random.randint(2, 4)\n",
        "\n",
        "            for t in range(n_frames):\n",
        "                x_shift = xstart + directionx * t\n",
        "                y_shift = ystart + directiony * t\n",
        "                noisy_movies[\n",
        "                    i, t, x_shift - w : x_shift + w, y_shift - w : y_shift + w, 0\n",
        "                ] += 1\n",
        "\n",
        "                # Make it more robust by adding noise.\n",
        "                # The idea is that if during inference,\n",
        "                # the value of the pixel is not exactly one,\n",
        "                # we need to train the model to be robust and still\n",
        "                # consider it as a pixel belonging to a square.\n",
        "                if np.random.randint(0, 2):\n",
        "                    noise_f = (-1) ** np.random.randint(0, 2)\n",
        "                    noisy_movies[\n",
        "                        i,\n",
        "                        t,\n",
        "                        x_shift - w - 1 : x_shift + w + 1,\n",
        "                        y_shift - w - 1 : y_shift + w + 1,\n",
        "                        0,\n",
        "                    ] += (noise_f * 0.1)\n",
        "\n",
        "                # Shift the ground truth by 1\n",
        "                x_shift = xstart + directionx * (t + 1)\n",
        "                y_shift = ystart + directiony * (t + 1)\n",
        "                shifted_movies[\n",
        "                    i, t, x_shift - w : x_shift + w, y_shift - w : y_shift + w, 0\n",
        "                ] += 1\n",
        "\n",
        "    # Cut to a 40x40 window\n",
        "    noisy_movies = noisy_movies[::, ::, 20:60, 20:60, ::]\n",
        "    shifted_movies = shifted_movies[::, ::, 20:60, 20:60, ::]\n",
        "    noisy_movies[noisy_movies >= 1] = 1\n",
        "    shifted_movies[shifted_movies >= 1] = 1\n",
        "    return noisy_movies, shifted_movies\n",
        "\n"
      ],
      "execution_count": 3,
      "outputs": []
    },
    {
      "cell_type": "markdown",
      "metadata": {
        "id": "oXtbE1j7drgE"
      },
      "source": [
        "## Train the model\n"
      ]
    },
    {
      "cell_type": "code",
      "metadata": {
        "id": "-JIF8CstdrgF",
        "colab": {
          "base_uri": "https://localhost:8080/"
        },
        "outputId": "c9476439-1a33-4197-fbfa-a24e80cf6291"
      },
      "source": [
        "epochs = 100\n",
        "\n",
        "early_stopping = keras.callbacks.EarlyStopping(patience=10)\n",
        "\n",
        "noisy_movies, shifted_movies = generate_movies(n_samples=1200)\n",
        "seq.fit(\n",
        "    noisy_movies[:1000],\n",
        "    shifted_movies[:1000],\n",
        "    batch_size=10,\n",
        "    epochs=epochs,\n",
        "    verbose=2,\n",
        "    validation_split=0.1,\n",
        "    callbacks=[early_stopping]\n",
        ")\n"
      ],
      "execution_count": 4,
      "outputs": [
        {
          "output_type": "stream",
          "text": [
            "Epoch 1/100\n",
            "90/90 - 37s - loss: 0.6938 - val_loss: 0.7220\n",
            "Epoch 2/100\n",
            "90/90 - 29s - loss: 0.5741 - val_loss: 0.7731\n",
            "Epoch 3/100\n",
            "90/90 - 29s - loss: 0.5024 - val_loss: 0.7840\n",
            "Epoch 4/100\n",
            "90/90 - 29s - loss: 0.4353 - val_loss: 0.6908\n",
            "Epoch 5/100\n",
            "90/90 - 29s - loss: 0.3676 - val_loss: 0.6511\n",
            "Epoch 6/100\n",
            "90/90 - 29s - loss: 0.3086 - val_loss: 0.6539\n",
            "Epoch 7/100\n",
            "90/90 - 29s - loss: 0.2598 - val_loss: 0.5153\n",
            "Epoch 8/100\n",
            "90/90 - 29s - loss: 0.2198 - val_loss: 0.3339\n",
            "Epoch 9/100\n",
            "90/90 - 29s - loss: 0.1869 - val_loss: 0.2748\n",
            "Epoch 10/100\n",
            "90/90 - 29s - loss: 0.1599 - val_loss: 0.1926\n",
            "Epoch 11/100\n",
            "90/90 - 29s - loss: 0.1371 - val_loss: 0.1719\n",
            "Epoch 12/100\n",
            "90/90 - 29s - loss: 0.1187 - val_loss: 0.1219\n",
            "Epoch 13/100\n",
            "90/90 - 29s - loss: 0.1037 - val_loss: 0.1081\n",
            "Epoch 14/100\n",
            "90/90 - 29s - loss: 0.0908 - val_loss: 0.1044\n",
            "Epoch 15/100\n",
            "90/90 - 29s - loss: 0.0801 - val_loss: 0.0849\n",
            "Epoch 16/100\n",
            "90/90 - 29s - loss: 0.0712 - val_loss: 0.0706\n",
            "Epoch 17/100\n",
            "90/90 - 29s - loss: 0.0634 - val_loss: 0.0626\n",
            "Epoch 18/100\n",
            "90/90 - 29s - loss: 0.0568 - val_loss: 0.0589\n",
            "Epoch 19/100\n",
            "90/90 - 29s - loss: 0.0512 - val_loss: 0.0524\n",
            "Epoch 20/100\n",
            "90/90 - 29s - loss: 0.0463 - val_loss: 0.0457\n",
            "Epoch 21/100\n",
            "90/90 - 29s - loss: 0.0424 - val_loss: 0.0434\n",
            "Epoch 22/100\n",
            "90/90 - 29s - loss: 0.0386 - val_loss: 0.0387\n",
            "Epoch 23/100\n",
            "90/90 - 29s - loss: 0.0353 - val_loss: 0.0363\n",
            "Epoch 24/100\n",
            "90/90 - 29s - loss: 0.0324 - val_loss: 0.0327\n",
            "Epoch 25/100\n",
            "90/90 - 29s - loss: 0.0302 - val_loss: 0.0304\n",
            "Epoch 26/100\n",
            "90/90 - 29s - loss: 0.0279 - val_loss: 0.0264\n",
            "Epoch 27/100\n",
            "90/90 - 29s - loss: 0.0262 - val_loss: 0.0254\n",
            "Epoch 28/100\n",
            "90/90 - 29s - loss: 0.0243 - val_loss: 0.0251\n",
            "Epoch 29/100\n",
            "90/90 - 29s - loss: 0.0228 - val_loss: 0.0219\n",
            "Epoch 30/100\n",
            "90/90 - 29s - loss: 0.0213 - val_loss: 0.0207\n",
            "Epoch 31/100\n",
            "90/90 - 29s - loss: 0.0201 - val_loss: 0.0201\n",
            "Epoch 32/100\n",
            "90/90 - 29s - loss: 0.0189 - val_loss: 0.0184\n",
            "Epoch 33/100\n",
            "90/90 - 29s - loss: 0.0181 - val_loss: 0.0171\n",
            "Epoch 34/100\n",
            "90/90 - 29s - loss: 0.0170 - val_loss: 0.0162\n",
            "Epoch 35/100\n",
            "90/90 - 29s - loss: 0.0161 - val_loss: 0.0158\n",
            "Epoch 36/100\n",
            "90/90 - 29s - loss: 0.0152 - val_loss: 0.0145\n",
            "Epoch 37/100\n",
            "90/90 - 29s - loss: 0.0146 - val_loss: 0.0140\n",
            "Epoch 38/100\n",
            "90/90 - 29s - loss: 0.0139 - val_loss: 0.0131\n",
            "Epoch 39/100\n",
            "90/90 - 29s - loss: 0.0131 - val_loss: 0.0127\n",
            "Epoch 40/100\n",
            "90/90 - 29s - loss: 0.0126 - val_loss: 0.0122\n",
            "Epoch 41/100\n",
            "90/90 - 29s - loss: 0.0120 - val_loss: 0.0119\n",
            "Epoch 42/100\n",
            "90/90 - 29s - loss: 0.0115 - val_loss: 0.0112\n",
            "Epoch 43/100\n",
            "90/90 - 29s - loss: 0.0109 - val_loss: 0.0110\n",
            "Epoch 44/100\n",
            "90/90 - 29s - loss: 0.0105 - val_loss: 0.0099\n",
            "Epoch 45/100\n",
            "90/90 - 29s - loss: 0.0100 - val_loss: 0.0097\n",
            "Epoch 46/100\n",
            "90/90 - 29s - loss: 0.0096 - val_loss: 0.0092\n",
            "Epoch 47/100\n",
            "90/90 - 29s - loss: 0.0092 - val_loss: 0.0093\n",
            "Epoch 48/100\n",
            "90/90 - 29s - loss: 0.0088 - val_loss: 0.0083\n",
            "Epoch 49/100\n",
            "90/90 - 29s - loss: 0.0085 - val_loss: 0.0080\n",
            "Epoch 50/100\n",
            "90/90 - 29s - loss: 0.0081 - val_loss: 0.0077\n",
            "Epoch 51/100\n",
            "90/90 - 29s - loss: 0.0078 - val_loss: 0.0075\n",
            "Epoch 52/100\n",
            "90/90 - 29s - loss: 0.0075 - val_loss: 0.0072\n",
            "Epoch 53/100\n",
            "90/90 - 29s - loss: 0.0072 - val_loss: 0.0070\n",
            "Epoch 54/100\n",
            "90/90 - 29s - loss: 0.0069 - val_loss: 0.0068\n",
            "Epoch 55/100\n",
            "90/90 - 29s - loss: 0.0067 - val_loss: 0.0064\n",
            "Epoch 56/100\n",
            "90/90 - 29s - loss: 0.0064 - val_loss: 0.0062\n",
            "Epoch 57/100\n",
            "90/90 - 29s - loss: 0.0062 - val_loss: 0.0059\n",
            "Epoch 58/100\n",
            "90/90 - 29s - loss: 0.0060 - val_loss: 0.0059\n",
            "Epoch 59/100\n",
            "90/90 - 29s - loss: 0.0058 - val_loss: 0.0056\n",
            "Epoch 60/100\n",
            "90/90 - 29s - loss: 0.0056 - val_loss: 0.0055\n",
            "Epoch 61/100\n",
            "90/90 - 29s - loss: 0.0055 - val_loss: 0.0052\n",
            "Epoch 62/100\n",
            "90/90 - 29s - loss: 0.0053 - val_loss: 0.0051\n",
            "Epoch 63/100\n",
            "90/90 - 29s - loss: 0.0050 - val_loss: 0.0049\n",
            "Epoch 64/100\n",
            "90/90 - 29s - loss: 0.0049 - val_loss: 0.0048\n",
            "Epoch 65/100\n",
            "90/90 - 29s - loss: 0.0048 - val_loss: 0.0046\n",
            "Epoch 66/100\n",
            "90/90 - 29s - loss: 0.0046 - val_loss: 0.0045\n",
            "Epoch 67/100\n",
            "90/90 - 29s - loss: 0.0045 - val_loss: 0.0044\n",
            "Epoch 68/100\n",
            "90/90 - 29s - loss: 0.0044 - val_loss: 0.0042\n",
            "Epoch 69/100\n",
            "90/90 - 29s - loss: 0.0042 - val_loss: 0.0041\n",
            "Epoch 70/100\n",
            "90/90 - 29s - loss: 0.0041 - val_loss: 0.0040\n",
            "Epoch 71/100\n",
            "90/90 - 29s - loss: 0.0041 - val_loss: 0.0039\n",
            "Epoch 72/100\n",
            "90/90 - 29s - loss: 0.0039 - val_loss: 0.0038\n",
            "Epoch 73/100\n",
            "90/90 - 29s - loss: 0.0038 - val_loss: 0.0037\n",
            "Epoch 74/100\n",
            "90/90 - 29s - loss: 0.0037 - val_loss: 0.0036\n",
            "Epoch 75/100\n",
            "90/90 - 29s - loss: 0.0036 - val_loss: 0.0035\n",
            "Epoch 76/100\n",
            "90/90 - 29s - loss: 0.0035 - val_loss: 0.0034\n",
            "Epoch 77/100\n",
            "90/90 - 29s - loss: 0.0034 - val_loss: 0.0033\n",
            "Epoch 78/100\n",
            "90/90 - 29s - loss: 0.0034 - val_loss: 0.0033\n",
            "Epoch 79/100\n",
            "90/90 - 29s - loss: 0.0033 - val_loss: 0.0031\n",
            "Epoch 80/100\n",
            "90/90 - 29s - loss: 0.0032 - val_loss: 0.0031\n",
            "Epoch 81/100\n",
            "90/90 - 29s - loss: 0.0032 - val_loss: 0.0031\n",
            "Epoch 82/100\n",
            "90/90 - 29s - loss: 0.0031 - val_loss: 0.0030\n",
            "Epoch 83/100\n",
            "90/90 - 29s - loss: 0.0030 - val_loss: 0.0029\n",
            "Epoch 84/100\n",
            "90/90 - 29s - loss: 0.0029 - val_loss: 0.0029\n",
            "Epoch 85/100\n",
            "90/90 - 29s - loss: 0.0029 - val_loss: 0.0028\n",
            "Epoch 86/100\n",
            "90/90 - 29s - loss: 0.0028 - val_loss: 0.0028\n",
            "Epoch 87/100\n",
            "90/90 - 29s - loss: 0.0028 - val_loss: 0.0027\n",
            "Epoch 88/100\n",
            "90/90 - 29s - loss: 0.0027 - val_loss: 0.0026\n",
            "Epoch 89/100\n",
            "90/90 - 29s - loss: 0.0027 - val_loss: 0.0025\n",
            "Epoch 90/100\n",
            "90/90 - 29s - loss: 0.0026 - val_loss: 0.0026\n",
            "Epoch 91/100\n",
            "90/90 - 29s - loss: 0.0026 - val_loss: 0.0025\n",
            "Epoch 92/100\n",
            "90/90 - 29s - loss: 0.0025 - val_loss: 0.0024\n",
            "Epoch 93/100\n",
            "90/90 - 29s - loss: 0.0025 - val_loss: 0.0024\n",
            "Epoch 94/100\n",
            "90/90 - 29s - loss: 0.0024 - val_loss: 0.0023\n",
            "Epoch 95/100\n",
            "90/90 - 29s - loss: 0.0024 - val_loss: 0.0023\n",
            "Epoch 96/100\n",
            "90/90 - 29s - loss: 0.0023 - val_loss: 0.0023\n",
            "Epoch 97/100\n",
            "90/90 - 29s - loss: 0.0023 - val_loss: 0.0022\n",
            "Epoch 98/100\n",
            "90/90 - 29s - loss: 0.0023 - val_loss: 0.0022\n",
            "Epoch 99/100\n",
            "90/90 - 29s - loss: 0.0022 - val_loss: 0.0022\n",
            "Epoch 100/100\n",
            "90/90 - 29s - loss: 0.0022 - val_loss: 0.0022\n"
          ],
          "name": "stdout"
        },
        {
          "output_type": "execute_result",
          "data": {
            "text/plain": [
              "<tensorflow.python.keras.callbacks.History at 0x7faab0150a50>"
            ]
          },
          "metadata": {
            "tags": []
          },
          "execution_count": 4
        }
      ]
    },
    {
      "cell_type": "markdown",
      "metadata": {
        "id": "7wvUTz7gdrgF"
      },
      "source": [
        "## Test the model on one movie\n",
        "\n",
        "Feed it with the first 7 positions and then\n",
        "predict the new positions.\n"
      ]
    },
    {
      "cell_type": "code",
      "metadata": {
        "id": "bVWTzvssdrgG",
        "colab": {
          "base_uri": "https://localhost:8080/",
          "height": 1000
        },
        "outputId": "a89d2a0a-c0c8-4c0f-95a7-06e73345b60e"
      },
      "source": [
        "movie_index = 1004\n",
        "track = noisy_movies[movie_index][:7, ::, ::, ::]\n",
        "\n",
        "for j in range(16):\n",
        "    new_pos = seq.predict(track[np.newaxis, ::, ::, ::, ::])\n",
        "    new = new_pos[::, -1, ::, ::, ::]\n",
        "    track = np.concatenate((track, new), axis=0)\n",
        "\n",
        "\n",
        "# And then compare the predictions\n",
        "# to the ground truth\n",
        "track2 = noisy_movies[movie_index][::, ::, ::, ::]\n",
        "for i in range(15):\n",
        "    fig = plt.figure(figsize=(10, 5))\n",
        "\n",
        "    ax = fig.add_subplot(121)\n",
        "\n",
        "    if i >= 7:\n",
        "        ax.text(1, 3, \"Predictions !\", fontsize=20, color=\"w\")\n",
        "    else:\n",
        "        ax.text(1, 3, \"Initial trajectory\", fontsize=20)\n",
        "\n",
        "    toplot = track[i, ::, ::, 0]\n",
        "\n",
        "    plt.imshow(toplot)\n",
        "    ax = fig.add_subplot(122)\n",
        "    plt.text(1, 3, \"Ground truth\", fontsize=20)\n",
        "\n",
        "    toplot = track2[i, ::, ::, 0]\n",
        "    if i >= 2:\n",
        "        toplot = shifted_movies[movie_index][i - 1, ::, ::, 0]\n",
        "\n",
        "    plt.imshow(toplot)\n",
        "    plt.savefig(\"%i_animate.png\" % (i + 1))\n"
      ],
      "execution_count": 5,
      "outputs": [
        {
          "output_type": "display_data",
          "data": {
            "image/png": "[encoded data removed]",
            "text/plain": [
              "<Figure size 720x360 with 2 Axes>"
            ]
          },
          "metadata": {
            "tags": [],
            "needs_background": "light"
          }
        },
        {
          "output_type": "display_data",
          "data": {
            "image/png": "[encoded data removed]",
            "text/plain": [
              "<Figure size 720x360 with 2 Axes>"
            ]
          },
          "metadata": {
            "tags": [],
            "needs_background": "light"
          }
        },
        {
          "output_type": "display_data",
          "data": {
            "image/png": "[encoded data removed]",
            "text/plain": [
              "<Figure size 720x360 with 2 Axes>"
            ]
          },
          "metadata": {
            "tags": [],
            "needs_background": "light"
          }
        },
        {
          "output_type": "display_data",
          "data": {
            "image/png": "[encoded data removed]",
            "text/plain": [
              "<Figure size 720x360 with 2 Axes>"
            ]
          },
          "metadata": {
            "tags": [],
            "needs_background": "light"
          }
        },
        {
          "output_type": "display_data",
          "data": {
            "image/png": "[encoded data removed]",
            "text/plain": [
              "<Figure size 720x360 with 2 Axes>"
            ]
          },
          "metadata": {
            "tags": [],
            "needs_background": "light"
          }
        },
        {
          "output_type": "display_data",
          "data": {
            "image/png": "[encoded data removed]",
            "text/plain": [
              "<Figure size 720x360 with 2 Axes>"
            ]
          },
          "metadata": {
            "tags": [],
            "needs_background": "light"
          }
        },
        {
          "output_type": "display_data",
          "data": {
            "image/png": "[encoded data removed]",
            "text/plain": [
              "<Figure size 720x360 with 2 Axes>"
            ]
          },
          "metadata": {
            "tags": [],
            "needs_background": "light"
          }
        },
        {
          "output_type": "display_data",
          "data": {
            "image/png": "[encoded data removed]",
            "text/plain": [
              "<Figure size 720x360 with 2 Axes>"
            ]
          },
          "metadata": {
            "tags": [],
            "needs_background": "light"
          }
        },
        {
          "output_type": "display_data",
          "data": {
            "image/png": "[encoded data removed]",
            "text/plain": [
              "<Figure size 720x360 with 2 Axes>"
            ]
          },
          "metadata": {
            "tags": [],
            "needs_background": "light"
          }
        },
        {
          "output_type": "display_data",
          "data": {
            "image/png": "[encoded data removed]",
            "text/plain": [
              "<Figure size 720x360 with 2 Axes>"
            ]
          },
          "metadata": {
            "tags": [],
            "needs_background": "light"
          }
        },
        {
          "output_type": "display_data",
          "data": {
            "image/png": "[encoded data removed]",
            "text/plain": [
              "<Figure size 720x360 with 2 Axes>"
            ]
          },
          "metadata": {
            "tags": [],
            "needs_background": "light"
          }
        },
        {
          "output_type": "display_data",
          "data": {
            "image/png": "[encoded data removed]",
            "text/plain": [
              "<Figure size 720x360 with 2 Axes>"
            ]
          },
          "metadata": {
            "tags": [],
            "needs_background": "light"
          }
        },
        {
          "output_type": "display_data",
          "data": {
            "image/png": "[encoded data removed]",
            "text/plain": [
              "<Figure size 720x360 with 2 Axes>"
            ]
          },
          "metadata": {
            "tags": [],
            "needs_background": "light"
          }
        },
        {
          "output_type": "display_data",
          "data": {
            "image/png": "[encoded data removed]",
            "text/plain": [
              "<Figure size 720x360 with 2 Axes>"
            ]
          },
          "metadata": {
            "tags": [],
            "needs_background": "light"
          }
        },
        {
          "output_type": "display_data",
          "data": {
            "image/png": "[encoded data removed]",
            "text/plain": [
              "<Figure size 720x360 with 2 Axes>"
            ]
          },
          "metadata": {
            "tags": [],
            "needs_background": "light"
          }
        }
      ]
    },
    {
      "cell_type": "markdown",
      "metadata": {
        "id": "36BHDEE-vLnT"
      },
      "source": [
        "# WedgeDropoutLSTM2D"
      ]
    },
    {
      "cell_type": "code",
      "metadata": {
        "id": "bikO4mEhvNhR",
        "colab": {
          "base_uri": "https://localhost:8080/"
        },
        "outputId": "5cf62681-0480-4e58-8ade-7c8acf357e30"
      },
      "source": [
        "!pip uninstall -y keras-wedge-dropout\n",
        "!pip install -q git+https://github.com/LanceNorskog/keras-wedge.git\n",
        "from keras_wedge_dropout import WedgeDropoutLSTM2D"
      ],
      "execution_count": 6,
      "outputs": [
        {
          "output_type": "stream",
          "text": [
            "Found existing installation: keras-wedge-dropout 0.1.0\n",
            "Uninstalling keras-wedge-dropout-0.1.0:\n",
            "  Successfully uninstalled keras-wedge-dropout-0.1.0\n",
            "  Building wheel for keras-wedge-dropout (setup.py) ... \u001b[?25l\u001b[?25hdone\n"
          ],
          "name": "stdout"
        }
      ]
    },
    {
      "cell_type": "code",
      "metadata": {
        "id": "Su6gkJXUvYEt"
      },
      "source": [
        "seq = keras.Sequential(\n",
        "    [\n",
        "        keras.Input(\n",
        "            shape=(None, 40, 40, 1)\n",
        "        ),  # Variable-length sequence of 40x40x1 frames\n",
        "        layers.ConvLSTM2D(\n",
        "            filters=40, kernel_size=(3, 3), padding=\"same\", return_sequences=True\n",
        "        ),\n",
        "        layers.BatchNormalization(),\n",
        "        layers.ConvLSTM2D(\n",
        "            filters=40, kernel_size=(3, 3), padding=\"same\", return_sequences=True\n",
        "        ),\n",
        "        layers.BatchNormalization(),\n",
        "        layers.ConvLSTM2D(\n",
        "            filters=40, kernel_size=(3, 3), padding=\"same\", return_sequences=True\n",
        "        ),\n",
        "        layers.BatchNormalization(),\n",
        "        layers.ConvLSTM2D(\n",
        "            filters=40, kernel_size=(3, 3), padding=\"same\", return_sequences=True\n",
        "        ),\n",
        "        layers.BatchNormalization(),\n",
        "        WedgeDropoutLSTM2D(0.65, batchwise=True),\n",
        "        layers.Conv3D(\n",
        "            filters=1, kernel_size=(3, 3, 3), activation=\"sigmoid\", padding=\"same\"\n",
        "        ),\n",
        "    ]\n",
        ")\n",
        "opt = keras.optimizers.Adadelta(learning_rate=5e-4)\n",
        "seq.compile(loss=\"binary_crossentropy\", optimizer=opt)\n",
        "seq.summary()"
      ],
      "execution_count": null,
      "outputs": []
    },
    {
      "cell_type": "code",
      "metadata": {
        "colab": {
          "base_uri": "https://localhost:8080/"
        },
        "id": "KrSrLD5_vlGQ",
        "outputId": "d57e5948-7030-47b1-a3c3-9637fb3c12d9"
      },
      "source": [
        "epochs = 200\n",
        "\n",
        "early_stopping = keras.callbacks.EarlyStopping(patience=10)\n",
        "\n",
        "noisy_movies, shifted_movies = generate_movies(n_samples=1200)\n",
        "seq.fit(\n",
        "    noisy_movies[:1000],\n",
        "    shifted_movies[:1000],\n",
        "    batch_size=10,\n",
        "    epochs=epochs,\n",
        "    verbose=2,\n",
        "    validation_split=0.1,\n",
        "    callbacks=[early_stopping]\n",
        ")\n"
      ],
      "execution_count": 9,
      "outputs": [
        {
          "output_type": "stream",
          "text": [
            "Epoch 1/200\n",
            "90/90 - 30s - loss: 0.6095 - val_loss: 0.5778\n",
            "Epoch 2/200\n",
            "90/90 - 30s - loss: 0.6032 - val_loss: 0.5765\n",
            "Epoch 3/200\n",
            "90/90 - 30s - loss: 0.5946 - val_loss: 0.5685\n",
            "Epoch 4/200\n",
            "90/90 - 30s - loss: 0.5886 - val_loss: 0.5612\n",
            "Epoch 5/200\n",
            "90/90 - 30s - loss: 0.5819 - val_loss: 0.5499\n",
            "Epoch 6/200\n",
            "90/90 - 30s - loss: 0.5754 - val_loss: 0.5479\n",
            "Epoch 7/200\n",
            "90/90 - 30s - loss: 0.5673 - val_loss: 0.5383\n",
            "Epoch 8/200\n",
            "90/90 - 30s - loss: 0.5609 - val_loss: 0.5367\n",
            "Epoch 9/200\n",
            "90/90 - 30s - loss: 0.5566 - val_loss: 0.5246\n",
            "Epoch 10/200\n",
            "90/90 - 30s - loss: 0.5501 - val_loss: 0.5167\n",
            "Epoch 11/200\n",
            "90/90 - 30s - loss: 0.5428 - val_loss: 0.5138\n",
            "Epoch 12/200\n",
            "90/90 - 30s - loss: 0.5359 - val_loss: 0.5060\n",
            "Epoch 13/200\n",
            "90/90 - 30s - loss: 0.5319 - val_loss: 0.5022\n",
            "Epoch 14/200\n",
            "90/90 - 30s - loss: 0.5271 - val_loss: 0.4950\n",
            "Epoch 15/200\n",
            "90/90 - 30s - loss: 0.5205 - val_loss: 0.4906\n",
            "Epoch 16/200\n",
            "90/90 - 30s - loss: 0.5110 - val_loss: 0.4850\n",
            "Epoch 17/200\n",
            "90/90 - 30s - loss: 0.5128 - val_loss: 0.4888\n",
            "Epoch 18/200\n",
            "90/90 - 30s - loss: 0.5056 - val_loss: 0.4723\n",
            "Epoch 19/200\n",
            "90/90 - 30s - loss: 0.4995 - val_loss: 0.4741\n",
            "Epoch 20/200\n",
            "90/90 - 30s - loss: 0.4987 - val_loss: 0.4610\n",
            "Epoch 21/200\n",
            "90/90 - 30s - loss: 0.4877 - val_loss: 0.4602\n",
            "Epoch 22/200\n",
            "90/90 - 30s - loss: 0.4857 - val_loss: 0.4585\n",
            "Epoch 23/200\n",
            "90/90 - 30s - loss: 0.4795 - val_loss: 0.4549\n",
            "Epoch 24/200\n",
            "90/90 - 30s - loss: 0.4749 - val_loss: 0.4480\n",
            "Epoch 25/200\n",
            "90/90 - 30s - loss: 0.4739 - val_loss: 0.4431\n",
            "Epoch 26/200\n",
            "90/90 - 30s - loss: 0.4680 - val_loss: 0.4392\n",
            "Epoch 27/200\n",
            "90/90 - 30s - loss: 0.4615 - val_loss: 0.4318\n",
            "Epoch 28/200\n",
            "90/90 - 30s - loss: 0.4565 - val_loss: 0.4333\n",
            "Epoch 29/200\n",
            "90/90 - 30s - loss: 0.4525 - val_loss: 0.4260\n",
            "Epoch 30/200\n",
            "90/90 - 30s - loss: 0.4462 - val_loss: 0.4302\n",
            "Epoch 31/200\n",
            "90/90 - 30s - loss: 0.4448 - val_loss: 0.4170\n",
            "Epoch 32/200\n",
            "90/90 - 30s - loss: 0.4392 - val_loss: 0.4107\n",
            "Epoch 33/200\n",
            "90/90 - 30s - loss: 0.4381 - val_loss: 0.4056\n",
            "Epoch 34/200\n",
            "90/90 - 30s - loss: 0.4337 - val_loss: 0.4090\n",
            "Epoch 35/200\n",
            "90/90 - 30s - loss: 0.4262 - val_loss: 0.3905\n",
            "Epoch 36/200\n",
            "90/90 - 30s - loss: 0.4244 - val_loss: 0.3879\n",
            "Epoch 37/200\n",
            "90/90 - 30s - loss: 0.4177 - val_loss: 0.3918\n",
            "Epoch 38/200\n",
            "90/90 - 30s - loss: 0.4145 - val_loss: 0.3851\n",
            "Epoch 39/200\n",
            "90/90 - 30s - loss: 0.4081 - val_loss: 0.3784\n",
            "Epoch 40/200\n",
            "90/90 - 30s - loss: 0.4092 - val_loss: 0.3714\n",
            "Epoch 41/200\n",
            "90/90 - 30s - loss: 0.4037 - val_loss: 0.3709\n",
            "Epoch 42/200\n",
            "90/90 - 30s - loss: 0.3978 - val_loss: 0.3726\n",
            "Epoch 43/200\n",
            "90/90 - 30s - loss: 0.3957 - val_loss: 0.3640\n",
            "Epoch 44/200\n",
            "90/90 - 30s - loss: 0.3927 - val_loss: 0.3545\n",
            "Epoch 45/200\n",
            "90/90 - 30s - loss: 0.3859 - val_loss: 0.3570\n",
            "Epoch 46/200\n",
            "90/90 - 30s - loss: 0.3836 - val_loss: 0.3529\n",
            "Epoch 47/200\n",
            "90/90 - 30s - loss: 0.3804 - val_loss: 0.3432\n",
            "Epoch 48/200\n",
            "90/90 - 30s - loss: 0.3771 - val_loss: 0.3431\n",
            "Epoch 49/200\n",
            "90/90 - 30s - loss: 0.3700 - val_loss: 0.3341\n",
            "Epoch 50/200\n",
            "90/90 - 30s - loss: 0.3729 - val_loss: 0.3320\n",
            "Epoch 51/200\n",
            "90/90 - 30s - loss: 0.3656 - val_loss: 0.3204\n",
            "Epoch 52/200\n",
            "90/90 - 30s - loss: 0.3614 - val_loss: 0.3339\n",
            "Epoch 53/200\n",
            "90/90 - 30s - loss: 0.3595 - val_loss: 0.3193\n",
            "Epoch 54/200\n",
            "90/90 - 30s - loss: 0.3585 - val_loss: 0.3166\n",
            "Epoch 55/200\n",
            "90/90 - 30s - loss: 0.3531 - val_loss: 0.3140\n",
            "Epoch 56/200\n",
            "90/90 - 30s - loss: 0.3490 - val_loss: 0.3123\n",
            "Epoch 57/200\n",
            "90/90 - 30s - loss: 0.3480 - val_loss: 0.3076\n",
            "Epoch 58/200\n",
            "90/90 - 30s - loss: 0.3445 - val_loss: 0.3006\n",
            "Epoch 59/200\n",
            "90/90 - 30s - loss: 0.3427 - val_loss: 0.3033\n",
            "Epoch 60/200\n",
            "90/90 - 30s - loss: 0.3354 - val_loss: 0.2925\n",
            "Epoch 61/200\n",
            "90/90 - 30s - loss: 0.3340 - val_loss: 0.2877\n",
            "Epoch 62/200\n",
            "90/90 - 30s - loss: 0.3315 - val_loss: 0.2886\n",
            "Epoch 63/200\n",
            "90/90 - 30s - loss: 0.3281 - val_loss: 0.2778\n",
            "Epoch 64/200\n",
            "90/90 - 30s - loss: 0.3234 - val_loss: 0.2716\n",
            "Epoch 65/200\n",
            "90/90 - 30s - loss: 0.3223 - val_loss: 0.2727\n",
            "Epoch 66/200\n",
            "90/90 - 30s - loss: 0.3164 - val_loss: 0.2735\n",
            "Epoch 67/200\n",
            "90/90 - 30s - loss: 0.3142 - val_loss: 0.2674\n",
            "Epoch 68/200\n",
            "90/90 - 30s - loss: 0.3119 - val_loss: 0.2733\n",
            "Epoch 69/200\n",
            "90/90 - 30s - loss: 0.3133 - val_loss: 0.2579\n",
            "Epoch 70/200\n",
            "90/90 - 30s - loss: 0.3098 - val_loss: 0.2616\n",
            "Epoch 71/200\n",
            "90/90 - 30s - loss: 0.3077 - val_loss: 0.2626\n",
            "Epoch 72/200\n",
            "90/90 - 30s - loss: 0.3002 - val_loss: 0.2575\n",
            "Epoch 73/200\n",
            "90/90 - 30s - loss: 0.2996 - val_loss: 0.2497\n",
            "Epoch 74/200\n",
            "90/90 - 30s - loss: 0.2986 - val_loss: 0.2498\n",
            "Epoch 75/200\n",
            "90/90 - 30s - loss: 0.2924 - val_loss: 0.2458\n",
            "Epoch 76/200\n",
            "90/90 - 30s - loss: 0.2934 - val_loss: 0.2429\n",
            "Epoch 77/200\n",
            "90/90 - 30s - loss: 0.2920 - val_loss: 0.2368\n",
            "Epoch 78/200\n",
            "90/90 - 30s - loss: 0.2872 - val_loss: 0.2352\n",
            "Epoch 79/200\n",
            "90/90 - 30s - loss: 0.2827 - val_loss: 0.2336\n",
            "Epoch 80/200\n",
            "90/90 - 30s - loss: 0.2800 - val_loss: 0.2322\n",
            "Epoch 81/200\n",
            "90/90 - 30s - loss: 0.2801 - val_loss: 0.2255\n",
            "Epoch 82/200\n",
            "90/90 - 30s - loss: 0.2790 - val_loss: 0.2302\n",
            "Epoch 83/200\n",
            "90/90 - 30s - loss: 0.2749 - val_loss: 0.2255\n",
            "Epoch 84/200\n",
            "90/90 - 30s - loss: 0.2742 - val_loss: 0.2189\n",
            "Epoch 85/200\n",
            "90/90 - 30s - loss: 0.2714 - val_loss: 0.2199\n",
            "Epoch 86/200\n",
            "90/90 - 30s - loss: 0.2683 - val_loss: 0.2119\n",
            "Epoch 87/200\n",
            "90/90 - 30s - loss: 0.2660 - val_loss: 0.2115\n",
            "Epoch 88/200\n",
            "90/90 - 30s - loss: 0.2657 - val_loss: 0.2086\n",
            "Epoch 89/200\n",
            "90/90 - 30s - loss: 0.2597 - val_loss: 0.2070\n",
            "Epoch 90/200\n",
            "90/90 - 30s - loss: 0.2610 - val_loss: 0.2083\n",
            "Epoch 91/200\n",
            "90/90 - 30s - loss: 0.2606 - val_loss: 0.2010\n",
            "Epoch 92/200\n",
            "90/90 - 30s - loss: 0.2528 - val_loss: 0.2072\n",
            "Epoch 93/200\n",
            "90/90 - 30s - loss: 0.2543 - val_loss: 0.2011\n",
            "Epoch 94/200\n",
            "90/90 - 30s - loss: 0.2488 - val_loss: 0.1961\n",
            "Epoch 95/200\n",
            "90/90 - 30s - loss: 0.2504 - val_loss: 0.1940\n",
            "Epoch 96/200\n",
            "90/90 - 30s - loss: 0.2440 - val_loss: 0.1904\n",
            "Epoch 97/200\n",
            "90/90 - 30s - loss: 0.2486 - val_loss: 0.1854\n",
            "Epoch 98/200\n",
            "90/90 - 30s - loss: 0.2423 - val_loss: 0.1833\n",
            "Epoch 99/200\n",
            "90/90 - 30s - loss: 0.2359 - val_loss: 0.1877\n",
            "Epoch 100/200\n",
            "90/90 - 30s - loss: 0.2375 - val_loss: 0.1799\n",
            "Epoch 101/200\n",
            "90/90 - 30s - loss: 0.2384 - val_loss: 0.1740\n",
            "Epoch 102/200\n",
            "90/90 - 30s - loss: 0.2345 - val_loss: 0.1779\n",
            "Epoch 103/200\n",
            "90/90 - 30s - loss: 0.2319 - val_loss: 0.1781\n",
            "Epoch 104/200\n",
            "90/90 - 30s - loss: 0.2299 - val_loss: 0.1782\n",
            "Epoch 105/200\n",
            "90/90 - 30s - loss: 0.2282 - val_loss: 0.1719\n",
            "Epoch 106/200\n",
            "90/90 - 30s - loss: 0.2243 - val_loss: 0.1651\n",
            "Epoch 107/200\n",
            "90/90 - 30s - loss: 0.2232 - val_loss: 0.1651\n",
            "Epoch 108/200\n",
            "90/90 - 30s - loss: 0.2224 - val_loss: 0.1606\n",
            "Epoch 109/200\n",
            "90/90 - 30s - loss: 0.2185 - val_loss: 0.1628\n",
            "Epoch 110/200\n",
            "90/90 - 30s - loss: 0.2184 - val_loss: 0.1586\n",
            "Epoch 111/200\n",
            "90/90 - 30s - loss: 0.2211 - val_loss: 0.1574\n",
            "Epoch 112/200\n",
            "90/90 - 30s - loss: 0.2139 - val_loss: 0.1564\n",
            "Epoch 113/200\n",
            "90/90 - 30s - loss: 0.2150 - val_loss: 0.1518\n",
            "Epoch 114/200\n",
            "90/90 - 30s - loss: 0.2146 - val_loss: 0.1559\n",
            "Epoch 115/200\n",
            "90/90 - 30s - loss: 0.2097 - val_loss: 0.1506\n",
            "Epoch 116/200\n",
            "90/90 - 30s - loss: 0.2071 - val_loss: 0.1494\n",
            "Epoch 117/200\n",
            "90/90 - 30s - loss: 0.2100 - val_loss: 0.1482\n",
            "Epoch 118/200\n",
            "90/90 - 30s - loss: 0.2070 - val_loss: 0.1471\n",
            "Epoch 119/200\n",
            "90/90 - 30s - loss: 0.2019 - val_loss: 0.1446\n",
            "Epoch 120/200\n",
            "90/90 - 30s - loss: 0.2022 - val_loss: 0.1401\n",
            "Epoch 121/200\n",
            "90/90 - 30s - loss: 0.2031 - val_loss: 0.1373\n",
            "Epoch 122/200\n",
            "90/90 - 30s - loss: 0.2022 - val_loss: 0.1382\n",
            "Epoch 123/200\n",
            "90/90 - 30s - loss: 0.1939 - val_loss: 0.1394\n",
            "Epoch 124/200\n",
            "90/90 - 30s - loss: 0.1918 - val_loss: 0.1353\n",
            "Epoch 125/200\n",
            "90/90 - 30s - loss: 0.1941 - val_loss: 0.1367\n",
            "Epoch 126/200\n",
            "90/90 - 30s - loss: 0.1986 - val_loss: 0.1322\n",
            "Epoch 127/200\n",
            "90/90 - 30s - loss: 0.1962 - val_loss: 0.1312\n",
            "Epoch 128/200\n",
            "90/90 - 30s - loss: 0.1885 - val_loss: 0.1293\n",
            "Epoch 129/200\n",
            "90/90 - 30s - loss: 0.1895 - val_loss: 0.1289\n",
            "Epoch 130/200\n",
            "90/90 - 30s - loss: 0.1893 - val_loss: 0.1276\n",
            "Epoch 131/200\n",
            "90/90 - 30s - loss: 0.1885 - val_loss: 0.1204\n",
            "Epoch 132/200\n",
            "90/90 - 30s - loss: 0.1855 - val_loss: 0.1283\n",
            "Epoch 133/200\n",
            "90/90 - 30s - loss: 0.1863 - val_loss: 0.1265\n",
            "Epoch 134/200\n",
            "90/90 - 30s - loss: 0.1777 - val_loss: 0.1210\n",
            "Epoch 135/200\n",
            "90/90 - 30s - loss: 0.1812 - val_loss: 0.1202\n",
            "Epoch 136/200\n",
            "90/90 - 30s - loss: 0.1796 - val_loss: 0.1174\n",
            "Epoch 137/200\n",
            "90/90 - 30s - loss: 0.1776 - val_loss: 0.1154\n",
            "Epoch 138/200\n",
            "90/90 - 30s - loss: 0.1740 - val_loss: 0.1168\n",
            "Epoch 139/200\n",
            "90/90 - 30s - loss: 0.1767 - val_loss: 0.1172\n",
            "Epoch 140/200\n",
            "90/90 - 30s - loss: 0.1736 - val_loss: 0.1151\n",
            "Epoch 141/200\n",
            "90/90 - 30s - loss: 0.1691 - val_loss: 0.1132\n",
            "Epoch 142/200\n",
            "90/90 - 30s - loss: 0.1726 - val_loss: 0.1106\n",
            "Epoch 143/200\n",
            "90/90 - 30s - loss: 0.1692 - val_loss: 0.1111\n",
            "Epoch 144/200\n",
            "90/90 - 30s - loss: 0.1640 - val_loss: 0.1123\n",
            "Epoch 145/200\n",
            "90/90 - 30s - loss: 0.1675 - val_loss: 0.1075\n",
            "Epoch 146/200\n",
            "90/90 - 30s - loss: 0.1622 - val_loss: 0.1069\n",
            "Epoch 147/200\n",
            "90/90 - 30s - loss: 0.1610 - val_loss: 0.1065\n",
            "Epoch 148/200\n",
            "90/90 - 30s - loss: 0.1622 - val_loss: 0.1066\n",
            "Epoch 149/200\n",
            "90/90 - 30s - loss: 0.1645 - val_loss: 0.1041\n",
            "Epoch 150/200\n",
            "90/90 - 30s - loss: 0.1598 - val_loss: 0.1022\n",
            "Epoch 151/200\n",
            "90/90 - 30s - loss: 0.1608 - val_loss: 0.0992\n",
            "Epoch 152/200\n",
            "90/90 - 30s - loss: 0.1622 - val_loss: 0.0987\n",
            "Epoch 153/200\n",
            "90/90 - 30s - loss: 0.1586 - val_loss: 0.1025\n",
            "Epoch 154/200\n",
            "90/90 - 30s - loss: 0.1549 - val_loss: 0.0971\n",
            "Epoch 155/200\n",
            "90/90 - 30s - loss: 0.1541 - val_loss: 0.0971\n",
            "Epoch 156/200\n",
            "90/90 - 30s - loss: 0.1592 - val_loss: 0.0934\n",
            "Epoch 157/200\n",
            "90/90 - 30s - loss: 0.1517 - val_loss: 0.0949\n",
            "Epoch 158/200\n",
            "90/90 - 30s - loss: 0.1521 - val_loss: 0.0928\n",
            "Epoch 159/200\n",
            "90/90 - 30s - loss: 0.1531 - val_loss: 0.0933\n",
            "Epoch 160/200\n",
            "90/90 - 30s - loss: 0.1491 - val_loss: 0.0935\n",
            "Epoch 161/200\n",
            "90/90 - 30s - loss: 0.1499 - val_loss: 0.0916\n",
            "Epoch 162/200\n",
            "90/90 - 30s - loss: 0.1466 - val_loss: 0.0908\n",
            "Epoch 163/200\n",
            "90/90 - 30s - loss: 0.1477 - val_loss: 0.0893\n",
            "Epoch 164/200\n",
            "90/90 - 30s - loss: 0.1450 - val_loss: 0.0875\n",
            "Epoch 165/200\n",
            "90/90 - 30s - loss: 0.1430 - val_loss: 0.0882\n",
            "Epoch 166/200\n",
            "90/90 - 30s - loss: 0.1406 - val_loss: 0.0866\n",
            "Epoch 167/200\n",
            "90/90 - 30s - loss: 0.1397 - val_loss: 0.0883\n",
            "Epoch 168/200\n",
            "90/90 - 30s - loss: 0.1405 - val_loss: 0.0839\n",
            "Epoch 169/200\n",
            "90/90 - 30s - loss: 0.1384 - val_loss: 0.0831\n",
            "Epoch 170/200\n",
            "90/90 - 30s - loss: 0.1387 - val_loss: 0.0832\n",
            "Epoch 171/200\n",
            "90/90 - 30s - loss: 0.1377 - val_loss: 0.0826\n",
            "Epoch 172/200\n",
            "90/90 - 30s - loss: 0.1361 - val_loss: 0.0796\n",
            "Epoch 173/200\n",
            "90/90 - 30s - loss: 0.1347 - val_loss: 0.0805\n",
            "Epoch 174/200\n",
            "90/90 - 30s - loss: 0.1374 - val_loss: 0.0789\n",
            "Epoch 175/200\n",
            "90/90 - 30s - loss: 0.1349 - val_loss: 0.0816\n",
            "Epoch 176/200\n",
            "90/90 - 30s - loss: 0.1339 - val_loss: 0.0794\n",
            "Epoch 177/200\n",
            "90/90 - 30s - loss: 0.1337 - val_loss: 0.0775\n",
            "Epoch 178/200\n",
            "90/90 - 30s - loss: 0.1316 - val_loss: 0.0765\n",
            "Epoch 179/200\n",
            "90/90 - 30s - loss: 0.1301 - val_loss: 0.0761\n",
            "Epoch 180/200\n",
            "90/90 - 30s - loss: 0.1341 - val_loss: 0.0748\n",
            "Epoch 181/200\n",
            "90/90 - 30s - loss: 0.1293 - val_loss: 0.0752\n",
            "Epoch 182/200\n",
            "90/90 - 30s - loss: 0.1260 - val_loss: 0.0738\n",
            "Epoch 183/200\n",
            "90/90 - 30s - loss: 0.1266 - val_loss: 0.0714\n",
            "Epoch 184/200\n",
            "90/90 - 30s - loss: 0.1257 - val_loss: 0.0718\n",
            "Epoch 185/200\n",
            "90/90 - 30s - loss: 0.1269 - val_loss: 0.0708\n",
            "Epoch 186/200\n",
            "90/90 - 30s - loss: 0.1245 - val_loss: 0.0711\n",
            "Epoch 187/200\n",
            "90/90 - 30s - loss: 0.1227 - val_loss: 0.0715\n",
            "Epoch 188/200\n",
            "90/90 - 30s - loss: 0.1212 - val_loss: 0.0681\n",
            "Epoch 189/200\n",
            "90/90 - 30s - loss: 0.1223 - val_loss: 0.0699\n",
            "Epoch 190/200\n",
            "90/90 - 30s - loss: 0.1205 - val_loss: 0.0677\n",
            "Epoch 191/200\n",
            "90/90 - 30s - loss: 0.1208 - val_loss: 0.0673\n",
            "Epoch 192/200\n",
            "90/90 - 30s - loss: 0.1209 - val_loss: 0.0670\n",
            "Epoch 193/200\n",
            "90/90 - 30s - loss: 0.1184 - val_loss: 0.0673\n",
            "Epoch 194/200\n",
            "90/90 - 30s - loss: 0.1175 - val_loss: 0.0651\n",
            "Epoch 195/200\n",
            "90/90 - 30s - loss: 0.1163 - val_loss: 0.0660\n",
            "Epoch 196/200\n",
            "90/90 - 30s - loss: 0.1160 - val_loss: 0.0635\n",
            "Epoch 197/200\n",
            "90/90 - 30s - loss: 0.1158 - val_loss: 0.0642\n",
            "Epoch 198/200\n",
            "90/90 - 30s - loss: 0.1153 - val_loss: 0.0637\n",
            "Epoch 199/200\n",
            "90/90 - 30s - loss: 0.1190 - val_loss: 0.0629\n",
            "Epoch 200/200\n",
            "90/90 - 30s - loss: 0.1139 - val_loss: 0.0626\n"
          ],
          "name": "stdout"
        },
        {
          "output_type": "execute_result",
          "data": {
            "text/plain": [
              "<tensorflow.python.keras.callbacks.History at 0x7fa8f35678d0>"
            ]
          },
          "metadata": {
            "tags": []
          },
          "execution_count": 9
        }
      ]
    },
    {
      "cell_type": "code",
      "metadata": {
        "id": "aRuEQDB6wXZ7"
      },
      "source": [
        ""
      ],
      "execution_count": 8,
      "outputs": []
    }
  ]
}