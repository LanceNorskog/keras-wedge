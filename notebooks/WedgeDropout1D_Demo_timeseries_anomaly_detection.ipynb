{
  "nbformat": 4,
  "nbformat_minor": 0,
  "metadata": {
    "colab": {
      "name": "WedgeDropout1D Demo timeseries_anomaly_detection",
      "provenance": [],
      "collapsed_sections": [],
      "toc_visible": true,
      "machine_shape": "hm"
    },
    "kernelspec": {
      "display_name": "Python 3",
      "language": "python",
      "name": "python3"
    },
    "language_info": {
      "codemirror_mode": {
        "name": "ipython",
        "version": 3
      },
      "file_extension": ".py",
      "mimetype": "text/x-python",
      "name": "python",
      "nbconvert_exporter": "python",
      "pygments_lexer": "ipython3",
      "version": "3.7.0"
    },
    "accelerator": "GPU"
  },
  "cells": [
    {
      "cell_type": "markdown",
      "metadata": {
        "id": "LPCC0RLzu42B"
      },
      "source": [
        "# Timeseries anomaly detection using an Autoencoder\n",
        "\n",
        "**Author:** [pavithrasv](https://github.com/pavithrasv)<br>\n",
        "**Date created:** 2020/05/31<br>\n",
        "**Last modified:** 2020/05/31<br>\n",
        "**Description:** Detect anomalies in a timeseries using an Autoencoder."
      ]
    },
    {
      "cell_type": "markdown",
      "metadata": {
        "id": "sPrIEH67u42I"
      },
      "source": [
        "## Introduction\n",
        "\n",
        "This script demonstrates how you can use a reconstruction convolutional\n",
        "autoencoder model to detect anomalies in timeseries data."
      ]
    },
    {
      "cell_type": "markdown",
      "metadata": {
        "id": "VqYXWgRTu42J"
      },
      "source": [
        "## Setup"
      ]
    },
    {
      "cell_type": "code",
      "metadata": {
        "id": "d3FhG8iCu42K"
      },
      "source": [
        "import numpy as np\n",
        "import pandas as pd\n",
        "import tensorflow as tf\n",
        "from tensorflow import keras\n",
        "from tensorflow.keras import layers\n",
        "from matplotlib import pyplot as plt\n",
        "\n",
        "# Define seed and fixed variables\n",
        "seed = 42\n",
        "tf.random.set_seed(seed)\n",
        "np.random.seed(seed)"
      ],
      "execution_count": 1,
      "outputs": []
    },
    {
      "cell_type": "markdown",
      "metadata": {
        "id": "VuRhWBZEu42K"
      },
      "source": [
        "## Load the data\n",
        "\n",
        "We will use the [Numenta Anomaly Benchmark(NAB)](\n",
        "https://www.kaggle.com/boltzmannbrain/nab) dataset. It provides artifical\n",
        "timeseries data containing labeled anomalous periods of behavior. Data are\n",
        "ordered, timestamped, single-valued metrics.\n",
        "\n",
        "We will use the `art_daily_small_noise.csv` file for training and the\n",
        "`art_daily_jumpsup.csv` file for testing. The simplicity of this dataset\n",
        "allows us to demonstrate anomaly detection effectively."
      ]
    },
    {
      "cell_type": "code",
      "metadata": {
        "id": "tKcQt1EUu42L"
      },
      "source": [
        "master_url_root = \"https://raw.githubusercontent.com/numenta/NAB/master/data/\"\n",
        "\n",
        "df_small_noise_url_suffix = \"artificialNoAnomaly/art_daily_small_noise.csv\"\n",
        "df_small_noise_url = master_url_root + df_small_noise_url_suffix\n",
        "df_small_noise = pd.read_csv(\n",
        "    df_small_noise_url, parse_dates=True, index_col=\"timestamp\"\n",
        ")\n",
        "\n",
        "df_daily_jumpsup_url_suffix = \"artificialWithAnomaly/art_daily_jumpsup.csv\"\n",
        "df_daily_jumpsup_url = master_url_root + df_daily_jumpsup_url_suffix\n",
        "df_daily_jumpsup = pd.read_csv(\n",
        "    df_daily_jumpsup_url, parse_dates=True, index_col=\"timestamp\"\n",
        ")"
      ],
      "execution_count": 2,
      "outputs": []
    },
    {
      "cell_type": "markdown",
      "metadata": {
        "id": "TmhPVWwEu42L"
      },
      "source": [
        "## Quick look at the data"
      ]
    },
    {
      "cell_type": "code",
      "metadata": {
        "id": "IB7yG2pNu42L",
        "colab": {
          "base_uri": "https://localhost:8080/"
        },
        "outputId": "e2d22c19-5ccb-427f-ebb8-d80d05be4285"
      },
      "source": [
        "print(df_small_noise.head())\n",
        "\n",
        "print(df_daily_jumpsup.head())"
      ],
      "execution_count": 3,
      "outputs": [
        {
          "output_type": "stream",
          "text": [
            "                         value\n",
            "timestamp                     \n",
            "2014-04-01 00:00:00  18.324919\n",
            "2014-04-01 00:05:00  21.970327\n",
            "2014-04-01 00:10:00  18.624806\n",
            "2014-04-01 00:15:00  21.953684\n",
            "2014-04-01 00:20:00  21.909120\n",
            "                         value\n",
            "timestamp                     \n",
            "2014-04-01 00:00:00  19.761252\n",
            "2014-04-01 00:05:00  20.500833\n",
            "2014-04-01 00:10:00  19.961641\n",
            "2014-04-01 00:15:00  21.490266\n",
            "2014-04-01 00:20:00  20.187739\n"
          ],
          "name": "stdout"
        }
      ]
    },
    {
      "cell_type": "markdown",
      "metadata": {
        "id": "R5cFCPxSu42L"
      },
      "source": [
        "## Visualize the data\n",
        "### Timeseries data without anomalies\n",
        "\n",
        "We will use the following data for training."
      ]
    },
    {
      "cell_type": "code",
      "metadata": {
        "id": "bmwSbyiTu42M",
        "colab": {
          "base_uri": "https://localhost:8080/",
          "height": 303
        },
        "outputId": "932deba2-5d2e-41a8-fde5-f3d91aa06334"
      },
      "source": [
        "fig, ax = plt.subplots()\n",
        "df_small_noise.plot(legend=False, ax=ax)\n",
        "plt.show()"
      ],
      "execution_count": 4,
      "outputs": [
        {
          "output_type": "display_data",
          "data": {
            "image/png": "[encoded data removed]",
            "text/plain": [
              "<Figure size 432x288 with 1 Axes>"
            ]
          },
          "metadata": {
            "tags": [],
            "needs_background": "light"
          }
        }
      ]
    },
    {
      "cell_type": "markdown",
      "metadata": {
        "id": "3PuWcg_5u42M"
      },
      "source": [
        "### Timeseries data with anomalies\n",
        "\n",
        "We will use the following data for testing and see if the sudden jump up in the\n",
        "data is detected as an anomaly."
      ]
    },
    {
      "cell_type": "code",
      "metadata": {
        "id": "712s5ipAu42M",
        "colab": {
          "base_uri": "https://localhost:8080/",
          "height": 303
        },
        "outputId": "fa67c823-24a2-43d4-8985-30c34af3e335"
      },
      "source": [
        "fig, ax = plt.subplots()\n",
        "df_daily_jumpsup.plot(legend=False, ax=ax)\n",
        "plt.show()"
      ],
      "execution_count": 5,
      "outputs": [
        {
          "output_type": "display_data",
          "data": {
            "image/png": "[encoded data removed]",
            "text/plain": [
              "<Figure size 432x288 with 1 Axes>"
            ]
          },
          "metadata": {
            "tags": [],
            "needs_background": "light"
          }
        }
      ]
    },
    {
      "cell_type": "markdown",
      "metadata": {
        "id": "u9KJ3_Jmu42N"
      },
      "source": [
        "## Prepare training data\n",
        "\n",
        "Get data values from the training timeseries data file and normalize the\n",
        "`value` data. We have a `value` for every 5 mins for 14 days.\n",
        "\n",
        "-   24 * 60 / 5 = **288 timesteps per day**\n",
        "-   288 * 14 = **4032 data points** in total"
      ]
    },
    {
      "cell_type": "code",
      "metadata": {
        "id": "demnKkM_u42N",
        "colab": {
          "base_uri": "https://localhost:8080/"
        },
        "outputId": "22607f84-2be3-4bdf-b14d-79852e616ac4"
      },
      "source": [
        "\n",
        "# Normalize and save the mean and std we get,\n",
        "# for normalizing test data.\n",
        "training_mean = df_small_noise.mean()\n",
        "training_std = df_small_noise.std()\n",
        "df_training_value = (df_small_noise - training_mean) / training_std\n",
        "print(\"Number of training samples:\", len(df_training_value))"
      ],
      "execution_count": 6,
      "outputs": [
        {
          "output_type": "stream",
          "text": [
            "Number of training samples: 4032\n"
          ],
          "name": "stdout"
        }
      ]
    },
    {
      "cell_type": "markdown",
      "metadata": {
        "id": "6vrfTv6xu42N"
      },
      "source": [
        "### Create sequences\n",
        "Create sequences combining `TIME_STEPS` contiguous data values from the\n",
        "training data."
      ]
    },
    {
      "cell_type": "code",
      "metadata": {
        "id": "2j_FvkiNu42N",
        "colab": {
          "base_uri": "https://localhost:8080/"
        },
        "outputId": "20029c46-09a3-4ae4-c760-fe4966b9f140"
      },
      "source": [
        "TIME_STEPS = 288\n",
        "\n",
        "# Generated training sequences for use in the model.\n",
        "def create_sequences(values, time_steps=TIME_STEPS):\n",
        "    output = []\n",
        "    for i in range(len(values) - time_steps):\n",
        "        output.append(values[i : (i + time_steps)])\n",
        "    return np.stack(output)\n",
        "\n",
        "\n",
        "x_train = create_sequences(df_training_value.values)\n",
        "print(\"Training input shape: \", x_train.shape)"
      ],
      "execution_count": 7,
      "outputs": [
        {
          "output_type": "stream",
          "text": [
            "Training input shape:  (3744, 288, 1)\n"
          ],
          "name": "stdout"
        }
      ]
    },
    {
      "cell_type": "markdown",
      "metadata": {
        "id": "Cei98ajJu42O"
      },
      "source": [
        "## Build a model\n",
        "\n",
        "We will build a convolutional reconstruction autoencoder model. The model will\n",
        "take input of shape `(batch_size, sequence_length, num_features)` and return\n",
        "output of the same shape. In this case, `sequence_length` is 288 and\n",
        "`num_features` is 1."
      ]
    },
    {
      "cell_type": "code",
      "metadata": {
        "id": "4VcFiesgu42O",
        "colab": {
          "base_uri": "https://localhost:8080/"
        },
        "outputId": "da60263e-23ff-4f4b-9bb6-ebecf3a38455"
      },
      "source": [
        "model = keras.Sequential(\n",
        "    [\n",
        "        layers.Input(shape=(x_train.shape[1], x_train.shape[2])),\n",
        "        layers.Conv1D(\n",
        "            filters=32, kernel_size=7, padding=\"same\", strides=2, activation=\"relu\"\n",
        "        ),\n",
        "        layers.Dropout(rate=0.2),\n",
        "        layers.Conv1D(\n",
        "            filters=16, kernel_size=7, padding=\"same\", strides=2, activation=\"relu\"\n",
        "        ),\n",
        "        layers.Conv1DTranspose(\n",
        "            filters=16, kernel_size=7, padding=\"same\", strides=2, activation=\"relu\"\n",
        "        ),\n",
        "        layers.Dropout(rate=0.2),\n",
        "        layers.Conv1DTranspose(\n",
        "            filters=32, kernel_size=7, padding=\"same\", strides=2, activation=\"relu\"\n",
        "        ),\n",
        "        layers.Conv1DTranspose(filters=1, kernel_size=7, padding=\"same\"),\n",
        "    ]\n",
        ")\n",
        "model.compile(optimizer=keras.optimizers.Adam(learning_rate=0.001), loss=\"mse\")\n",
        "model.summary()"
      ],
      "execution_count": 8,
      "outputs": [
        {
          "output_type": "stream",
          "text": [
            "WARNING:tensorflow:Please add `keras.layers.InputLayer` instead of `keras.Input` to Sequential model. `keras.Input` is intended to be used by Functional model.\n",
            "Model: \"sequential\"\n",
            "_________________________________________________________________\n",
            "Layer (type)                 Output Shape              Param #   \n",
            "=================================================================\n",
            "conv1d (Conv1D)              (None, 144, 32)           256       \n",
            "_________________________________________________________________\n",
            "dropout (Dropout)            (None, 144, 32)           0         \n",
            "_________________________________________________________________\n",
            "conv1d_1 (Conv1D)            (None, 72, 16)            3600      \n",
            "_________________________________________________________________\n",
            "conv1d_transpose (Conv1DTran (None, 144, 16)           1808      \n",
            "_________________________________________________________________\n",
            "dropout_1 (Dropout)          (None, 144, 16)           0         \n",
            "_________________________________________________________________\n",
            "conv1d_transpose_1 (Conv1DTr (None, 288, 32)           3616      \n",
            "_________________________________________________________________\n",
            "conv1d_transpose_2 (Conv1DTr (None, 288, 1)            225       \n",
            "=================================================================\n",
            "Total params: 9,505\n",
            "Trainable params: 9,505\n",
            "Non-trainable params: 0\n",
            "_________________________________________________________________\n"
          ],
          "name": "stdout"
        }
      ]
    },
    {
      "cell_type": "markdown",
      "metadata": {
        "id": "C8F-1lJDu42O"
      },
      "source": [
        "## Train the model\n",
        "\n",
        "Please note that we are using `x_train` as both the input and the target\n",
        "since this is a reconstruction model."
      ]
    },
    {
      "cell_type": "code",
      "metadata": {
        "id": "b2OFeZSTu42O",
        "colab": {
          "base_uri": "https://localhost:8080/"
        },
        "outputId": "e03bcb73-4f72-495e-d505-a59f341c9545"
      },
      "source": [
        "history = model.fit(\n",
        "    x_train,\n",
        "    x_train,\n",
        "    epochs=200,\n",
        "    batch_size=128,\n",
        "    validation_split=0.1,\n",
        "    callbacks=[\n",
        "        keras.callbacks.EarlyStopping(monitor=\"val_loss\", patience=12, restore_best_weights=True)\n",
        "    ],\n",
        ")"
      ],
      "execution_count": 9,
      "outputs": [
        {
          "output_type": "stream",
          "text": [
            "Epoch 1/200\n",
            "27/27 [==============================] - 16s 13ms/step - loss: 0.5092 - val_loss: 0.1042\n",
            "Epoch 2/200\n",
            "27/27 [==============================] - 0s 5ms/step - loss: 0.0814 - val_loss: 0.0454\n",
            "Epoch 3/200\n",
            "27/27 [==============================] - 0s 5ms/step - loss: 0.0624 - val_loss: 0.0400\n",
            "Epoch 4/200\n",
            "27/27 [==============================] - 0s 5ms/step - loss: 0.0536 - val_loss: 0.0335\n",
            "Epoch 5/200\n",
            "27/27 [==============================] - 0s 5ms/step - loss: 0.0463 - val_loss: 0.0300\n",
            "Epoch 6/200\n",
            "27/27 [==============================] - 0s 5ms/step - loss: 0.0410 - val_loss: 0.0266\n",
            "Epoch 7/200\n",
            "27/27 [==============================] - 0s 5ms/step - loss: 0.0364 - val_loss: 0.0251\n",
            "Epoch 8/200\n",
            "27/27 [==============================] - 0s 5ms/step - loss: 0.0332 - val_loss: 0.0232\n",
            "Epoch 9/200\n",
            "27/27 [==============================] - 0s 5ms/step - loss: 0.0305 - val_loss: 0.0211\n",
            "Epoch 10/200\n",
            "27/27 [==============================] - 0s 5ms/step - loss: 0.0282 - val_loss: 0.0208\n",
            "Epoch 11/200\n",
            "27/27 [==============================] - 0s 5ms/step - loss: 0.0262 - val_loss: 0.0202\n",
            "Epoch 12/200\n",
            "27/27 [==============================] - 0s 5ms/step - loss: 0.0246 - val_loss: 0.0199\n",
            "Epoch 13/200\n",
            "27/27 [==============================] - 0s 5ms/step - loss: 0.0231 - val_loss: 0.0195\n",
            "Epoch 14/200\n",
            "27/27 [==============================] - 0s 5ms/step - loss: 0.0219 - val_loss: 0.0200\n",
            "Epoch 15/200\n",
            "27/27 [==============================] - 0s 5ms/step - loss: 0.0209 - val_loss: 0.0202\n",
            "Epoch 16/200\n",
            "27/27 [==============================] - 0s 5ms/step - loss: 0.0199 - val_loss: 0.0196\n",
            "Epoch 17/200\n",
            "27/27 [==============================] - 0s 5ms/step - loss: 0.0189 - val_loss: 0.0206\n",
            "Epoch 18/200\n",
            "27/27 [==============================] - 0s 5ms/step - loss: 0.0182 - val_loss: 0.0196\n",
            "Epoch 19/200\n",
            "27/27 [==============================] - 0s 5ms/step - loss: 0.0175 - val_loss: 0.0193\n",
            "Epoch 20/200\n",
            "27/27 [==============================] - 0s 5ms/step - loss: 0.0167 - val_loss: 0.0195\n",
            "Epoch 21/200\n",
            "27/27 [==============================] - 0s 5ms/step - loss: 0.0161 - val_loss: 0.0191\n",
            "Epoch 22/200\n",
            "27/27 [==============================] - 0s 5ms/step - loss: 0.0154 - val_loss: 0.0194\n",
            "Epoch 23/200\n",
            "27/27 [==============================] - 0s 5ms/step - loss: 0.0149 - val_loss: 0.0199\n",
            "Epoch 24/200\n",
            "27/27 [==============================] - 0s 5ms/step - loss: 0.0144 - val_loss: 0.0185\n",
            "Epoch 25/200\n",
            "27/27 [==============================] - 0s 5ms/step - loss: 0.0139 - val_loss: 0.0204\n",
            "Epoch 26/200\n",
            "27/27 [==============================] - 0s 5ms/step - loss: 0.0135 - val_loss: 0.0203\n",
            "Epoch 27/200\n",
            "27/27 [==============================] - 0s 5ms/step - loss: 0.0130 - val_loss: 0.0209\n",
            "Epoch 28/200\n",
            "27/27 [==============================] - 0s 5ms/step - loss: 0.0126 - val_loss: 0.0199\n",
            "Epoch 29/200\n",
            "27/27 [==============================] - 0s 5ms/step - loss: 0.0121 - val_loss: 0.0201\n",
            "Epoch 30/200\n",
            "27/27 [==============================] - 0s 5ms/step - loss: 0.0117 - val_loss: 0.0185\n",
            "Epoch 31/200\n",
            "27/27 [==============================] - 0s 5ms/step - loss: 0.0114 - val_loss: 0.0184\n",
            "Epoch 32/200\n",
            "27/27 [==============================] - 0s 5ms/step - loss: 0.0109 - val_loss: 0.0199\n",
            "Epoch 33/200\n",
            "27/27 [==============================] - 0s 5ms/step - loss: 0.0106 - val_loss: 0.0191\n",
            "Epoch 34/200\n",
            "27/27 [==============================] - 0s 5ms/step - loss: 0.0102 - val_loss: 0.0173\n",
            "Epoch 35/200\n",
            "27/27 [==============================] - 0s 5ms/step - loss: 0.0099 - val_loss: 0.0188\n",
            "Epoch 36/200\n",
            "27/27 [==============================] - 0s 5ms/step - loss: 0.0096 - val_loss: 0.0174\n",
            "Epoch 37/200\n",
            "27/27 [==============================] - 0s 5ms/step - loss: 0.0093 - val_loss: 0.0171\n",
            "Epoch 38/200\n",
            "27/27 [==============================] - 0s 5ms/step - loss: 0.0089 - val_loss: 0.0169\n",
            "Epoch 39/200\n",
            "27/27 [==============================] - 0s 5ms/step - loss: 0.0086 - val_loss: 0.0168\n",
            "Epoch 40/200\n",
            "27/27 [==============================] - 0s 5ms/step - loss: 0.0084 - val_loss: 0.0166\n",
            "Epoch 41/200\n",
            "27/27 [==============================] - 0s 5ms/step - loss: 0.0081 - val_loss: 0.0153\n",
            "Epoch 42/200\n",
            "27/27 [==============================] - 0s 5ms/step - loss: 0.0079 - val_loss: 0.0149\n",
            "Epoch 43/200\n",
            "27/27 [==============================] - 0s 5ms/step - loss: 0.0077 - val_loss: 0.0145\n",
            "Epoch 44/200\n",
            "27/27 [==============================] - 0s 6ms/step - loss: 0.0076 - val_loss: 0.0148\n",
            "Epoch 45/200\n",
            "27/27 [==============================] - 0s 5ms/step - loss: 0.0073 - val_loss: 0.0146\n",
            "Epoch 46/200\n",
            "27/27 [==============================] - 0s 5ms/step - loss: 0.0072 - val_loss: 0.0131\n",
            "Epoch 47/200\n",
            "27/27 [==============================] - 0s 5ms/step - loss: 0.0071 - val_loss: 0.0142\n",
            "Epoch 48/200\n",
            "27/27 [==============================] - 0s 5ms/step - loss: 0.0069 - val_loss: 0.0142\n",
            "Epoch 49/200\n",
            "27/27 [==============================] - 0s 5ms/step - loss: 0.0068 - val_loss: 0.0138\n",
            "Epoch 50/200\n",
            "27/27 [==============================] - 0s 5ms/step - loss: 0.0067 - val_loss: 0.0127\n",
            "Epoch 51/200\n",
            "27/27 [==============================] - 0s 5ms/step - loss: 0.0066 - val_loss: 0.0130\n",
            "Epoch 52/200\n",
            "27/27 [==============================] - 0s 5ms/step - loss: 0.0065 - val_loss: 0.0110\n",
            "Epoch 53/200\n",
            "27/27 [==============================] - 0s 5ms/step - loss: 0.0064 - val_loss: 0.0113\n",
            "Epoch 54/200\n",
            "27/27 [==============================] - 0s 5ms/step - loss: 0.0063 - val_loss: 0.0114\n",
            "Epoch 55/200\n",
            "27/27 [==============================] - 0s 5ms/step - loss: 0.0062 - val_loss: 0.0116\n",
            "Epoch 56/200\n",
            "27/27 [==============================] - 0s 5ms/step - loss: 0.0062 - val_loss: 0.0101\n",
            "Epoch 57/200\n",
            "27/27 [==============================] - 0s 5ms/step - loss: 0.0061 - val_loss: 0.0113\n",
            "Epoch 58/200\n",
            "27/27 [==============================] - 0s 5ms/step - loss: 0.0060 - val_loss: 0.0106\n",
            "Epoch 59/200\n",
            "27/27 [==============================] - 0s 5ms/step - loss: 0.0059 - val_loss: 0.0116\n",
            "Epoch 60/200\n",
            "27/27 [==============================] - 0s 5ms/step - loss: 0.0059 - val_loss: 0.0104\n",
            "Epoch 61/200\n",
            "27/27 [==============================] - 0s 5ms/step - loss: 0.0058 - val_loss: 0.0109\n",
            "Epoch 62/200\n",
            "27/27 [==============================] - 0s 5ms/step - loss: 0.0057 - val_loss: 0.0103\n",
            "Epoch 63/200\n",
            "27/27 [==============================] - 0s 5ms/step - loss: 0.0056 - val_loss: 0.0102\n",
            "Epoch 64/200\n",
            "27/27 [==============================] - 0s 5ms/step - loss: 0.0055 - val_loss: 0.0102\n",
            "Epoch 65/200\n",
            "27/27 [==============================] - 0s 5ms/step - loss: 0.0055 - val_loss: 0.0107\n",
            "Epoch 66/200\n",
            "27/27 [==============================] - 0s 5ms/step - loss: 0.0055 - val_loss: 0.0112\n",
            "Epoch 67/200\n",
            "27/27 [==============================] - 0s 5ms/step - loss: 0.0054 - val_loss: 0.0094\n",
            "Epoch 68/200\n",
            "27/27 [==============================] - 0s 5ms/step - loss: 0.0054 - val_loss: 0.0098\n",
            "Epoch 69/200\n",
            "27/27 [==============================] - 0s 5ms/step - loss: 0.0053 - val_loss: 0.0094\n",
            "Epoch 70/200\n",
            "27/27 [==============================] - 0s 5ms/step - loss: 0.0052 - val_loss: 0.0099\n",
            "Epoch 71/200\n",
            "27/27 [==============================] - 0s 5ms/step - loss: 0.0052 - val_loss: 0.0098\n",
            "Epoch 72/200\n",
            "27/27 [==============================] - 0s 6ms/step - loss: 0.0052 - val_loss: 0.0092\n",
            "Epoch 73/200\n",
            "27/27 [==============================] - 0s 5ms/step - loss: 0.0051 - val_loss: 0.0089\n",
            "Epoch 74/200\n",
            "27/27 [==============================] - 0s 5ms/step - loss: 0.0050 - val_loss: 0.0095\n",
            "Epoch 75/200\n",
            "27/27 [==============================] - 0s 5ms/step - loss: 0.0050 - val_loss: 0.0091\n",
            "Epoch 76/200\n",
            "27/27 [==============================] - 0s 5ms/step - loss: 0.0050 - val_loss: 0.0099\n",
            "Epoch 77/200\n",
            "27/27 [==============================] - 0s 5ms/step - loss: 0.0049 - val_loss: 0.0095\n",
            "Epoch 78/200\n",
            "27/27 [==============================] - 0s 5ms/step - loss: 0.0049 - val_loss: 0.0097\n",
            "Epoch 79/200\n",
            "27/27 [==============================] - 0s 5ms/step - loss: 0.0049 - val_loss: 0.0099\n",
            "Epoch 80/200\n",
            "27/27 [==============================] - 0s 5ms/step - loss: 0.0048 - val_loss: 0.0095\n",
            "Epoch 81/200\n",
            "27/27 [==============================] - 0s 5ms/step - loss: 0.0048 - val_loss: 0.0085\n",
            "Epoch 82/200\n",
            "27/27 [==============================] - 0s 5ms/step - loss: 0.0047 - val_loss: 0.0081\n",
            "Epoch 83/200\n",
            "27/27 [==============================] - 0s 5ms/step - loss: 0.0047 - val_loss: 0.0087\n",
            "Epoch 84/200\n",
            "27/27 [==============================] - 0s 5ms/step - loss: 0.0046 - val_loss: 0.0096\n",
            "Epoch 85/200\n",
            "27/27 [==============================] - 0s 5ms/step - loss: 0.0046 - val_loss: 0.0090\n",
            "Epoch 86/200\n",
            "27/27 [==============================] - 0s 5ms/step - loss: 0.0046 - val_loss: 0.0085\n",
            "Epoch 87/200\n",
            "27/27 [==============================] - 0s 5ms/step - loss: 0.0046 - val_loss: 0.0081\n",
            "Epoch 88/200\n",
            "27/27 [==============================] - 0s 5ms/step - loss: 0.0045 - val_loss: 0.0084\n",
            "Epoch 89/200\n",
            "27/27 [==============================] - 0s 5ms/step - loss: 0.0045 - val_loss: 0.0077\n",
            "Epoch 90/200\n",
            "27/27 [==============================] - 0s 6ms/step - loss: 0.0045 - val_loss: 0.0085\n",
            "Epoch 91/200\n",
            "27/27 [==============================] - 0s 5ms/step - loss: 0.0044 - val_loss: 0.0093\n",
            "Epoch 92/200\n",
            "27/27 [==============================] - 0s 5ms/step - loss: 0.0044 - val_loss: 0.0078\n",
            "Epoch 93/200\n",
            "27/27 [==============================] - 0s 5ms/step - loss: 0.0044 - val_loss: 0.0082\n",
            "Epoch 94/200\n",
            "27/27 [==============================] - 0s 5ms/step - loss: 0.0044 - val_loss: 0.0079\n",
            "Epoch 95/200\n",
            "27/27 [==============================] - 0s 5ms/step - loss: 0.0043 - val_loss: 0.0091\n",
            "Epoch 96/200\n",
            "27/27 [==============================] - 0s 5ms/step - loss: 0.0043 - val_loss: 0.0072\n",
            "Epoch 97/200\n",
            "27/27 [==============================] - 0s 5ms/step - loss: 0.0043 - val_loss: 0.0078\n",
            "Epoch 98/200\n",
            "27/27 [==============================] - 0s 5ms/step - loss: 0.0042 - val_loss: 0.0087\n",
            "Epoch 99/200\n",
            "27/27 [==============================] - 0s 5ms/step - loss: 0.0042 - val_loss: 0.0074\n",
            "Epoch 100/200\n",
            "27/27 [==============================] - 0s 5ms/step - loss: 0.0042 - val_loss: 0.0076\n",
            "Epoch 101/200\n",
            "27/27 [==============================] - 0s 5ms/step - loss: 0.0042 - val_loss: 0.0075\n",
            "Epoch 102/200\n",
            "27/27 [==============================] - 0s 5ms/step - loss: 0.0041 - val_loss: 0.0075\n",
            "Epoch 103/200\n",
            "27/27 [==============================] - 0s 5ms/step - loss: 0.0041 - val_loss: 0.0077\n",
            "Epoch 104/200\n",
            "27/27 [==============================] - 0s 5ms/step - loss: 0.0041 - val_loss: 0.0073\n",
            "Epoch 105/200\n",
            "27/27 [==============================] - 0s 5ms/step - loss: 0.0040 - val_loss: 0.0071\n",
            "Epoch 106/200\n",
            "27/27 [==============================] - 0s 5ms/step - loss: 0.0040 - val_loss: 0.0074\n",
            "Epoch 107/200\n",
            "27/27 [==============================] - 0s 5ms/step - loss: 0.0040 - val_loss: 0.0074\n",
            "Epoch 108/200\n",
            "27/27 [==============================] - 0s 5ms/step - loss: 0.0039 - val_loss: 0.0064\n",
            "Epoch 109/200\n",
            "27/27 [==============================] - 0s 5ms/step - loss: 0.0039 - val_loss: 0.0074\n",
            "Epoch 110/200\n",
            "27/27 [==============================] - 0s 5ms/step - loss: 0.0039 - val_loss: 0.0066\n",
            "Epoch 111/200\n",
            "27/27 [==============================] - 0s 5ms/step - loss: 0.0039 - val_loss: 0.0068\n",
            "Epoch 112/200\n",
            "27/27 [==============================] - 0s 5ms/step - loss: 0.0038 - val_loss: 0.0067\n",
            "Epoch 113/200\n",
            "27/27 [==============================] - 0s 5ms/step - loss: 0.0038 - val_loss: 0.0069\n",
            "Epoch 114/200\n",
            "27/27 [==============================] - 0s 5ms/step - loss: 0.0037 - val_loss: 0.0065\n",
            "Epoch 115/200\n",
            "27/27 [==============================] - 0s 5ms/step - loss: 0.0037 - val_loss: 0.0066\n",
            "Epoch 116/200\n",
            "27/27 [==============================] - 0s 5ms/step - loss: 0.0037 - val_loss: 0.0065\n",
            "Epoch 117/200\n",
            "27/27 [==============================] - 0s 5ms/step - loss: 0.0036 - val_loss: 0.0063\n",
            "Epoch 118/200\n",
            "27/27 [==============================] - 0s 5ms/step - loss: 0.0036 - val_loss: 0.0065\n",
            "Epoch 119/200\n",
            "27/27 [==============================] - 0s 5ms/step - loss: 0.0036 - val_loss: 0.0068\n",
            "Epoch 120/200\n",
            "27/27 [==============================] - 0s 5ms/step - loss: 0.0036 - val_loss: 0.0059\n",
            "Epoch 121/200\n",
            "27/27 [==============================] - 0s 5ms/step - loss: 0.0035 - val_loss: 0.0063\n",
            "Epoch 122/200\n",
            "27/27 [==============================] - 0s 5ms/step - loss: 0.0035 - val_loss: 0.0055\n",
            "Epoch 123/200\n",
            "27/27 [==============================] - 0s 5ms/step - loss: 0.0035 - val_loss: 0.0063\n",
            "Epoch 124/200\n",
            "27/27 [==============================] - 0s 5ms/step - loss: 0.0034 - val_loss: 0.0057\n",
            "Epoch 125/200\n",
            "27/27 [==============================] - 0s 5ms/step - loss: 0.0034 - val_loss: 0.0062\n",
            "Epoch 126/200\n",
            "27/27 [==============================] - 0s 5ms/step - loss: 0.0034 - val_loss: 0.0066\n",
            "Epoch 127/200\n",
            "27/27 [==============================] - 0s 5ms/step - loss: 0.0033 - val_loss: 0.0060\n",
            "Epoch 128/200\n",
            "27/27 [==============================] - 0s 5ms/step - loss: 0.0033 - val_loss: 0.0049\n",
            "Epoch 129/200\n",
            "27/27 [==============================] - 0s 5ms/step - loss: 0.0033 - val_loss: 0.0064\n",
            "Epoch 130/200\n",
            "27/27 [==============================] - 0s 5ms/step - loss: 0.0032 - val_loss: 0.0057\n",
            "Epoch 131/200\n",
            "27/27 [==============================] - 0s 5ms/step - loss: 0.0032 - val_loss: 0.0057\n",
            "Epoch 132/200\n",
            "27/27 [==============================] - 0s 5ms/step - loss: 0.0032 - val_loss: 0.0056\n",
            "Epoch 133/200\n",
            "27/27 [==============================] - 0s 5ms/step - loss: 0.0031 - val_loss: 0.0056\n",
            "Epoch 134/200\n",
            "27/27 [==============================] - 0s 5ms/step - loss: 0.0031 - val_loss: 0.0062\n",
            "Epoch 135/200\n",
            "27/27 [==============================] - 0s 5ms/step - loss: 0.0031 - val_loss: 0.0055\n",
            "Epoch 136/200\n",
            "27/27 [==============================] - 0s 5ms/step - loss: 0.0031 - val_loss: 0.0054\n",
            "Epoch 137/200\n",
            "27/27 [==============================] - 0s 5ms/step - loss: 0.0030 - val_loss: 0.0056\n",
            "Epoch 138/200\n",
            "27/27 [==============================] - 0s 5ms/step - loss: 0.0030 - val_loss: 0.0052\n",
            "Epoch 139/200\n",
            "27/27 [==============================] - 0s 5ms/step - loss: 0.0030 - val_loss: 0.0052\n",
            "Epoch 140/200\n",
            "27/27 [==============================] - 0s 5ms/step - loss: 0.0030 - val_loss: 0.0050\n"
          ],
          "name": "stdout"
        }
      ]
    },
    {
      "cell_type": "markdown",
      "metadata": {
        "id": "ne6Guapvu42P"
      },
      "source": [
        "Let's plot training and validation loss to see how the training went."
      ]
    },
    {
      "cell_type": "code",
      "metadata": {
        "id": "DqSuqOkZu42P",
        "colab": {
          "base_uri": "https://localhost:8080/",
          "height": 265
        },
        "outputId": "5c7ee3c1-833d-4813-f7ef-cd1222748d37"
      },
      "source": [
        "plt.plot(history.history[\"loss\"], label=\"Training Loss\")\n",
        "plt.plot(history.history[\"val_loss\"], label=\"Validation Loss\")\n",
        "plt.legend()\n",
        "plt.show()"
      ],
      "execution_count": 10,
      "outputs": [
        {
          "output_type": "display_data",
          "data": {
            "image/png": "[encoded data removed]",
            "text/plain": [
              "<Figure size 432x288 with 1 Axes>"
            ]
          },
          "metadata": {
            "tags": [],
            "needs_background": "light"
          }
        }
      ]
    },
    {
      "cell_type": "markdown",
      "metadata": {
        "id": "dzD4WDRku42Q"
      },
      "source": [
        "## Detecting anomalies\n",
        "\n",
        "We will detect anomalies by determining how well our model can reconstruct\n",
        "the input data.\n",
        "\n",
        "\n",
        "1.   Find MAE loss on training samples.\n",
        "2.   Find max MAE loss value. This is the worst our model has performed trying\n",
        "to reconstruct a sample. We will make this the `threshold` for anomaly\n",
        "detection.\n",
        "3.   If the reconstruction loss for a sample is greater than this `threshold`\n",
        "value then we can infer that the model is seeing a pattern that it isn't\n",
        "familiar with. We will label this sample as an `anomaly`.\n"
      ]
    },
    {
      "cell_type": "code",
      "metadata": {
        "id": "9ukpYr4Iu42Q",
        "colab": {
          "base_uri": "https://localhost:8080/",
          "height": 296
        },
        "outputId": "7a6e49d5-f846-48c8-b336-603188737867"
      },
      "source": [
        "# Get train MAE loss.\n",
        "x_train_pred = model.predict(x_train)\n",
        "train_mae_loss = np.mean(np.abs(x_train_pred - x_train), axis=1)\n",
        "\n",
        "plt.hist(train_mae_loss, bins=50)\n",
        "plt.xlabel(\"Train MAE loss\")\n",
        "plt.ylabel(\"No of samples\")\n",
        "plt.show()\n",
        "\n",
        "# Get reconstruction loss threshold.\n",
        "threshold = np.max(train_mae_loss)\n",
        "print(\"Reconstruction error threshold: \", threshold)"
      ],
      "execution_count": 11,
      "outputs": [
        {
          "output_type": "display_data",
          "data": {
            "image/png": "[encoded data removed]",
            "text/plain": [
              "<Figure size 432x288 with 1 Axes>"
            ]
          },
          "metadata": {
            "tags": [],
            "needs_background": "light"
          }
        },
        {
          "output_type": "stream",
          "text": [
            "Reconstruction error threshold:  0.060778858916864444\n"
          ],
          "name": "stdout"
        }
      ]
    },
    {
      "cell_type": "markdown",
      "metadata": {
        "id": "NDX0lMn0u42Q"
      },
      "source": [
        "### Compare recontruction\n",
        "\n",
        "Just for fun, let's see how our model has recontructed the first sample.\n",
        "This is the 288 timesteps from day 1 of our training dataset."
      ]
    },
    {
      "cell_type": "code",
      "metadata": {
        "id": "tiX2G8yWu42Q",
        "colab": {
          "base_uri": "https://localhost:8080/",
          "height": 265
        },
        "outputId": "fc404441-8bb4-4c55-ba9a-2359c60816b5"
      },
      "source": [
        "# Checking how the first sequence is learnt\n",
        "plt.plot(x_train[0])\n",
        "plt.plot(x_train_pred[0])\n",
        "plt.show()"
      ],
      "execution_count": 12,
      "outputs": [
        {
          "output_type": "display_data",
          "data": {
            "image/png": "[encoded data removed]",
            "text/plain": [
              "<Figure size 432x288 with 1 Axes>"
            ]
          },
          "metadata": {
            "tags": [],
            "needs_background": "light"
          }
        }
      ]
    },
    {
      "cell_type": "markdown",
      "metadata": {
        "id": "zMjaMGvUu42R"
      },
      "source": [
        "### Prepare test data"
      ]
    },
    {
      "cell_type": "code",
      "metadata": {
        "id": "dL8LeRHAu42R",
        "colab": {
          "base_uri": "https://localhost:8080/",
          "height": 1000
        },
        "outputId": "3681d7e1-7b66-45ed-ea64-195dd5404c47"
      },
      "source": [
        "\n",
        "def normalize_test(values, mean, std):\n",
        "    values -= mean\n",
        "    values /= std\n",
        "    return values\n",
        "\n",
        "\n",
        "df_test_value = (df_daily_jumpsup - training_mean) / training_std\n",
        "fig, ax = plt.subplots()\n",
        "df_test_value.plot(legend=False, ax=ax)\n",
        "plt.show()\n",
        "\n",
        "# Create sequences from test values.\n",
        "x_test = create_sequences(df_test_value.values)\n",
        "print(\"Test input shape: \", x_test.shape)\n",
        "\n",
        "# Get test MAE loss.\n",
        "x_test_pred = model.predict(x_test)\n",
        "test_mae_loss = np.mean(np.abs(x_test_pred - x_test), axis=1)\n",
        "test_mae_loss = test_mae_loss.reshape((-1))\n",
        "\n",
        "plt.hist(test_mae_loss, bins=50)\n",
        "plt.xlabel(\"test MAE loss\")\n",
        "plt.ylabel(\"No of samples\")\n",
        "plt.show()\n",
        "\n",
        "# Detect all the samples which are anomalies.\n",
        "anomalies = test_mae_loss > threshold\n",
        "print(\"Number of anomaly samples: \", np.sum(anomalies))\n",
        "print(\"Indices of anomaly samples: \", np.where(anomalies))"
      ],
      "execution_count": 13,
      "outputs": [
        {
          "output_type": "display_data",
          "data": {
            "image/png": "[encoded data removed]",
            "text/plain": [
              "<Figure size 432x288 with 1 Axes>"
            ]
          },
          "metadata": {
            "tags": [],
            "needs_background": "light"
          }
        },
        {
          "output_type": "stream",
          "text": [
            "Test input shape:  (3744, 288, 1)\n"
          ],
          "name": "stdout"
        },
        {
          "output_type": "display_data",
          "data": {
            "image/png": "[encoded data removed]",
            "text/plain": [
              "<Figure size 432x288 with 1 Axes>"
            ]
          },
          "metadata": {
            "tags": [],
            "needs_background": "light"
          }
        },
        {
          "output_type": "stream",
          "text": [
            "Number of anomaly samples:  401\n",
            "Indices of anomaly samples:  (array([1945, 2701, 2702, 2703, 2704, 2705, 2706, 2707, 2708, 2709, 2710,\n",
            "       2711, 2712, 2713, 2714, 2715, 2716, 2717, 2718, 2719, 2720, 2721,\n",
            "       2722, 2723, 2724, 2725, 2726, 2727, 2728, 2729, 2730, 2731, 2732,\n",
            "       2733, 2734, 2735, 2736, 2737, 2738, 2739, 2740, 2741, 2742, 2743,\n",
            "       2744, 2745, 2746, 2747, 2748, 2749, 2750, 2751, 2752, 2753, 2754,\n",
            "       2755, 2756, 2757, 2758, 2759, 2760, 2761, 2762, 2763, 2764, 2765,\n",
            "       2766, 2767, 2768, 2769, 2770, 2771, 2772, 2773, 2774, 2775, 2776,\n",
            "       2777, 2778, 2779, 2780, 2781, 2782, 2783, 2784, 2785, 2786, 2787,\n",
            "       2788, 2789, 2790, 2791, 2792, 2793, 2794, 2795, 2796, 2797, 2798,\n",
            "       2799, 2800, 2801, 2802, 2803, 2804, 2805, 2806, 2807, 2808, 2809,\n",
            "       2810, 2811, 2812, 2813, 2814, 2815, 2816, 2817, 2818, 2819, 2820,\n",
            "       2821, 2822, 2823, 2824, 2825, 2826, 2827, 2828, 2829, 2830, 2831,\n",
            "       2832, 2833, 2834, 2835, 2836, 2837, 2838, 2839, 2840, 2841, 2842,\n",
            "       2843, 2844, 2845, 2846, 2847, 2848, 2849, 2850, 2851, 2852, 2853,\n",
            "       2854, 2855, 2856, 2857, 2858, 2859, 2860, 2861, 2862, 2863, 2864,\n",
            "       2865, 2866, 2867, 2868, 2869, 2870, 2871, 2872, 2873, 2874, 2875,\n",
            "       2876, 2877, 2878, 2879, 2880, 2881, 2882, 2883, 2884, 2885, 2886,\n",
            "       2887, 2888, 2889, 2890, 2891, 2892, 2893, 2894, 2895, 2896, 2897,\n",
            "       2898, 2899, 2900, 2901, 2902, 2903, 2904, 2905, 2906, 2907, 2908,\n",
            "       2909, 2910, 2911, 2912, 2913, 2914, 2915, 2916, 2917, 2918, 2919,\n",
            "       2920, 2921, 2922, 2923, 2924, 2925, 2926, 2927, 2928, 2929, 2930,\n",
            "       2931, 2932, 2933, 2934, 2935, 2936, 2937, 2938, 2939, 2940, 2941,\n",
            "       2942, 2943, 2944, 2945, 2946, 2947, 2948, 2949, 2950, 2951, 2952,\n",
            "       2953, 2954, 2955, 2956, 2957, 2958, 2959, 2960, 2961, 2962, 2963,\n",
            "       2964, 2965, 2966, 2967, 2968, 2969, 2970, 2971, 2972, 2973, 2974,\n",
            "       2975, 2976, 2977, 2978, 2979, 2980, 2981, 2982, 2983, 2984, 2985,\n",
            "       2986, 2987, 2988, 2989, 2990, 2991, 2992, 2993, 2994, 2995, 2996,\n",
            "       2997, 2998, 2999, 3000, 3001, 3002, 3003, 3004, 3005, 3006, 3007,\n",
            "       3008, 3009, 3010, 3011, 3012, 3013, 3014, 3015, 3016, 3017, 3018,\n",
            "       3019, 3020, 3021, 3022, 3023, 3024, 3025, 3026, 3027, 3028, 3029,\n",
            "       3030, 3031, 3032, 3033, 3034, 3035, 3036, 3037, 3038, 3039, 3040,\n",
            "       3041, 3042, 3043, 3044, 3045, 3046, 3047, 3048, 3049, 3050, 3051,\n",
            "       3052, 3053, 3054, 3055, 3056, 3057, 3058, 3059, 3060, 3061, 3062,\n",
            "       3063, 3064, 3065, 3066, 3067, 3068, 3069, 3070, 3071, 3072, 3073,\n",
            "       3074, 3075, 3076, 3077, 3078, 3079, 3080, 3081, 3082, 3083, 3084,\n",
            "       3085, 3086, 3087, 3088, 3089, 3090, 3091, 3092, 3093, 3094, 3095,\n",
            "       3096, 3097, 3098, 3100, 3102]),)\n"
          ],
          "name": "stdout"
        }
      ]
    },
    {
      "cell_type": "markdown",
      "metadata": {
        "id": "aXLgR-Aau42R"
      },
      "source": [
        "## Plot anomalies\n",
        "\n",
        "We now know the samples of the data which are anomalies. With this, we will\n",
        "find the corresponding `timestamps` from the original test data. We will be\n",
        "using the following method to do that:\n",
        "\n",
        "Let's say time_steps = 3 and we have 10 training values. Our `x_train` will\n",
        "look like this:\n",
        "\n",
        "- 0, 1, 2\n",
        "- 1, 2, 3\n",
        "- 2, 3, 4\n",
        "- 3, 4, 5\n",
        "- 4, 5, 6\n",
        "- 5, 6, 7\n",
        "- 6, 7, 8\n",
        "- 7, 8, 9\n",
        "\n",
        "All except the initial and the final time_steps-1 data values, will appear in\n",
        "`time_steps` number of samples. So, if we know that the samples\n",
        "[(3, 4, 5), (4, 5, 6), (5, 6, 7)] are anomalies, we can say that the data point\n",
        "5 is an anomaly."
      ]
    },
    {
      "cell_type": "code",
      "metadata": {
        "id": "yBDvAbh9u42R"
      },
      "source": [
        "# data i is an anomaly if samples [(i - timesteps + 1) to (i)] are anomalies\n",
        "anomalous_data_indices = []\n",
        "for data_idx in range(TIME_STEPS - 1, len(df_test_value) - TIME_STEPS + 1):\n",
        "    if np.all(anomalies[data_idx - TIME_STEPS + 1 : data_idx]):\n",
        "        anomalous_data_indices.append(data_idx)"
      ],
      "execution_count": 14,
      "outputs": []
    },
    {
      "cell_type": "markdown",
      "metadata": {
        "id": "TRqgyMiOu42S"
      },
      "source": [
        "Let's overlay the anomalies on the original test data plot."
      ]
    },
    {
      "cell_type": "code",
      "metadata": {
        "id": "xXuWIMpDu42S",
        "colab": {
          "base_uri": "https://localhost:8080/",
          "height": 303
        },
        "outputId": "bef389ca-3c6d-4fb0-92f5-5995449594bb"
      },
      "source": [
        "df_subset = df_daily_jumpsup.iloc[anomalous_data_indices]\n",
        "fig, ax = plt.subplots()\n",
        "df_daily_jumpsup.plot(legend=False, ax=ax)\n",
        "df_subset.plot(legend=False, ax=ax, color=\"r\")\n",
        "plt.show()"
      ],
      "execution_count": 15,
      "outputs": [
        {
          "output_type": "display_data",
          "data": {
            "image/png": "[encoded data removed]",
            "text/plain": [
              "<Figure size 432x288 with 1 Axes>"
            ]
          },
          "metadata": {
            "tags": [],
            "needs_background": "light"
          }
        }
      ]
    },
    {
      "cell_type": "markdown",
      "metadata": {
        "id": "sJuJd1LGvfeM"
      },
      "source": [
        "# WedgeDropout1D"
      ]
    },
    {
      "cell_type": "code",
      "metadata": {
        "colab": {
          "base_uri": "https://localhost:8080/"
        },
        "id": "NKp3KPAEHPFV",
        "outputId": "1d585a88-e1ed-425c-86db-24eeaf1f8c3c"
      },
      "source": [
        "!pip uninstall -y keras-wedge-dropout\n",
        "!pip install -q git+https://github.com/LanceNorskog/keras-wedge.git\n",
        "from keras_wedge_dropout import WedgeDropout1D"
      ],
      "execution_count": 16,
      "outputs": [
        {
          "output_type": "stream",
          "text": [
            "\u001b[33mWARNING: Skipping keras-wedge-dropout as it is not installed.\u001b[0m\n",
            "  Building wheel for keras-wedge-dropout (setup.py) ... \u001b[?25l\u001b[?25hdone\n"
          ],
          "name": "stdout"
        }
      ]
    },
    {
      "cell_type": "code",
      "metadata": {
        "colab": {
          "base_uri": "https://localhost:8080/"
        },
        "id": "9fFBSrKVvpBL",
        "outputId": "a1768318-e839-44c4-f986-12f955c5ca98"
      },
      "source": [
        "model_wedge = keras.Sequential(\n",
        "    [\n",
        "        layers.Input(shape=(x_train.shape[1], x_train.shape[2])),\n",
        "        layers.Conv1D(\n",
        "            filters=32, kernel_size=7, padding=\"same\", strides=2, activation=\"relu\"\n",
        "        ),\n",
        "        layers.Dropout(rate=0.2),\n",
        "        layers.Conv1D(\n",
        "            filters=16, kernel_size=7, padding=\"same\", strides=2, activation=\"relu\"\n",
        "        ),\n",
        "        layers.Conv1DTranspose(\n",
        "            filters=16, kernel_size=7, padding=\"same\", strides=2, activation=\"relu\"\n",
        "        ),\n",
        "        layers.Dropout(rate=0.2),\n",
        "        layers.Conv1DTranspose(\n",
        "            filters=32, kernel_size=7, padding=\"same\", strides=2, activation=\"relu\"\n",
        "        ),\n",
        "     \n",
        "        WedgeDropout1D(similarity=0.65, batchwise=True),\n",
        "\n",
        "        layers.Conv1DTranspose(filters=1, kernel_size=7, padding=\"same\"),\n",
        "    ]\n",
        ")\n",
        "model_wedge.compile(optimizer=keras.optimizers.Adam(learning_rate=0.001), loss=\"mse\")\n",
        "model_wedge.summary()"
      ],
      "execution_count": 17,
      "outputs": [
        {
          "output_type": "stream",
          "text": [
            "WARNING:tensorflow:Please add `keras.layers.InputLayer` instead of `keras.Input` to Sequential model. `keras.Input` is intended to be used by Functional model.\n",
            "Model: \"sequential_1\"\n",
            "_________________________________________________________________\n",
            "Layer (type)                 Output Shape              Param #   \n",
            "=================================================================\n",
            "conv1d_2 (Conv1D)            (None, 144, 32)           256       \n",
            "_________________________________________________________________\n",
            "dropout_2 (Dropout)          (None, 144, 32)           0         \n",
            "_________________________________________________________________\n",
            "conv1d_3 (Conv1D)            (None, 72, 16)            3600      \n",
            "_________________________________________________________________\n",
            "conv1d_transpose_3 (Conv1DTr (None, 144, 16)           1808      \n",
            "_________________________________________________________________\n",
            "dropout_3 (Dropout)          (None, 144, 16)           0         \n",
            "_________________________________________________________________\n",
            "conv1d_transpose_4 (Conv1DTr (None, 288, 32)           3616      \n",
            "_________________________________________________________________\n",
            "wedge_dropout1d (WedgeDropou (None, 288, 32)           0         \n",
            "_________________________________________________________________\n",
            "conv1d_transpose_5 (Conv1DTr (None, 288, 1)            225       \n",
            "=================================================================\n",
            "Total params: 9,505\n",
            "Trainable params: 9,505\n",
            "Non-trainable params: 0\n",
            "_________________________________________________________________\n"
          ],
          "name": "stdout"
        }
      ]
    },
    {
      "cell_type": "code",
      "metadata": {
        "colab": {
          "base_uri": "https://localhost:8080/"
        },
        "id": "gLZM889DwFpu",
        "outputId": "d8e1e857-c04b-4454-b906-3fed74b596ee"
      },
      "source": [
        "history = model_wedge.fit(\n",
        "    x_train,\n",
        "    x_train,\n",
        "    epochs=200,\n",
        "    batch_size=128,\n",
        "    validation_split=0.1,\n",
        "    callbacks=[\n",
        "        keras.callbacks.EarlyStopping(monitor=\"val_loss\", patience=12, restore_best_weights=True)\n",
        "    ],\n",
        ")"
      ],
      "execution_count": 18,
      "outputs": [
        {
          "output_type": "stream",
          "text": [
            "Epoch 1/200\n",
            "WARNING:tensorflow:From /usr/local/lib/python3.7/dist-packages/tensorflow/python/ops/array_ops.py:5049: calling gather (from tensorflow.python.ops.array_ops) with validate_indices is deprecated and will be removed in a future version.\n",
            "Instructions for updating:\n",
            "The `validate_indices` argument has no effect. Indices are always validated on CPU and never validated on GPU.\n",
            "27/27 [==============================] - 2s 12ms/step - loss: 0.4479 - val_loss: 0.0564\n",
            "Epoch 2/200\n",
            "27/27 [==============================] - 0s 6ms/step - loss: 0.0784 - val_loss: 0.0483\n",
            "Epoch 3/200\n",
            "27/27 [==============================] - 0s 6ms/step - loss: 0.0587 - val_loss: 0.0375\n",
            "Epoch 4/200\n",
            "27/27 [==============================] - 0s 6ms/step - loss: 0.0504 - val_loss: 0.0343\n",
            "Epoch 5/200\n",
            "27/27 [==============================] - 0s 6ms/step - loss: 0.0439 - val_loss: 0.0311\n",
            "Epoch 6/200\n",
            "27/27 [==============================] - 0s 6ms/step - loss: 0.0388 - val_loss: 0.0293\n",
            "Epoch 7/200\n",
            "27/27 [==============================] - 0s 6ms/step - loss: 0.0350 - val_loss: 0.0285\n",
            "Epoch 8/200\n",
            "27/27 [==============================] - 0s 6ms/step - loss: 0.0319 - val_loss: 0.0280\n",
            "Epoch 9/200\n",
            "27/27 [==============================] - 0s 6ms/step - loss: 0.0294 - val_loss: 0.0286\n",
            "Epoch 10/200\n",
            "27/27 [==============================] - 0s 6ms/step - loss: 0.0275 - val_loss: 0.0287\n",
            "Epoch 11/200\n",
            "27/27 [==============================] - 0s 6ms/step - loss: 0.0258 - val_loss: 0.0298\n",
            "Epoch 12/200\n",
            "27/27 [==============================] - 0s 6ms/step - loss: 0.0243 - val_loss: 0.0297\n",
            "Epoch 13/200\n",
            "27/27 [==============================] - 0s 6ms/step - loss: 0.0230 - val_loss: 0.0283\n",
            "Epoch 14/200\n",
            "27/27 [==============================] - 0s 6ms/step - loss: 0.0219 - val_loss: 0.0287\n",
            "Epoch 15/200\n",
            "27/27 [==============================] - 0s 6ms/step - loss: 0.0210 - val_loss: 0.0294\n",
            "Epoch 16/200\n",
            "27/27 [==============================] - 0s 6ms/step - loss: 0.0200 - val_loss: 0.0265\n",
            "Epoch 17/200\n",
            "27/27 [==============================] - 0s 6ms/step - loss: 0.0191 - val_loss: 0.0273\n",
            "Epoch 18/200\n",
            "27/27 [==============================] - 0s 6ms/step - loss: 0.0183 - val_loss: 0.0258\n",
            "Epoch 19/200\n",
            "27/27 [==============================] - 0s 6ms/step - loss: 0.0176 - val_loss: 0.0239\n",
            "Epoch 20/200\n",
            "27/27 [==============================] - 0s 6ms/step - loss: 0.0168 - val_loss: 0.0230\n",
            "Epoch 21/200\n",
            "27/27 [==============================] - 0s 6ms/step - loss: 0.0161 - val_loss: 0.0210\n",
            "Epoch 22/200\n",
            "27/27 [==============================] - 0s 6ms/step - loss: 0.0154 - val_loss: 0.0210\n",
            "Epoch 23/200\n",
            "27/27 [==============================] - 0s 6ms/step - loss: 0.0148 - val_loss: 0.0201\n",
            "Epoch 24/200\n",
            "27/27 [==============================] - 0s 6ms/step - loss: 0.0141 - val_loss: 0.0184\n",
            "Epoch 25/200\n",
            "27/27 [==============================] - 0s 6ms/step - loss: 0.0136 - val_loss: 0.0173\n",
            "Epoch 26/200\n",
            "27/27 [==============================] - 0s 6ms/step - loss: 0.0130 - val_loss: 0.0161\n",
            "Epoch 27/200\n",
            "27/27 [==============================] - 0s 6ms/step - loss: 0.0125 - val_loss: 0.0155\n",
            "Epoch 28/200\n",
            "27/27 [==============================] - 0s 6ms/step - loss: 0.0120 - val_loss: 0.0149\n",
            "Epoch 29/200\n",
            "27/27 [==============================] - 0s 6ms/step - loss: 0.0116 - val_loss: 0.0133\n",
            "Epoch 30/200\n",
            "27/27 [==============================] - 0s 6ms/step - loss: 0.0112 - val_loss: 0.0125\n",
            "Epoch 31/200\n",
            "27/27 [==============================] - 0s 6ms/step - loss: 0.0108 - val_loss: 0.0117\n",
            "Epoch 32/200\n",
            "27/27 [==============================] - 0s 6ms/step - loss: 0.0102 - val_loss: 0.0113\n",
            "Epoch 33/200\n",
            "27/27 [==============================] - 0s 6ms/step - loss: 0.0098 - val_loss: 0.0112\n",
            "Epoch 34/200\n",
            "27/27 [==============================] - 0s 6ms/step - loss: 0.0094 - val_loss: 0.0096\n",
            "Epoch 35/200\n",
            "27/27 [==============================] - 0s 6ms/step - loss: 0.0091 - val_loss: 0.0092\n",
            "Epoch 36/200\n",
            "27/27 [==============================] - 0s 6ms/step - loss: 0.0088 - val_loss: 0.0085\n",
            "Epoch 37/200\n",
            "27/27 [==============================] - 0s 6ms/step - loss: 0.0086 - val_loss: 0.0084\n",
            "Epoch 38/200\n",
            "27/27 [==============================] - 0s 6ms/step - loss: 0.0084 - val_loss: 0.0077\n",
            "Epoch 39/200\n",
            "27/27 [==============================] - 0s 6ms/step - loss: 0.0083 - val_loss: 0.0075\n",
            "Epoch 40/200\n",
            "27/27 [==============================] - 0s 6ms/step - loss: 0.0080 - val_loss: 0.0081\n",
            "Epoch 41/200\n",
            "27/27 [==============================] - 0s 6ms/step - loss: 0.0080 - val_loss: 0.0076\n",
            "Epoch 42/200\n",
            "27/27 [==============================] - 0s 6ms/step - loss: 0.0077 - val_loss: 0.0073\n",
            "Epoch 43/200\n",
            "27/27 [==============================] - 0s 6ms/step - loss: 0.0076 - val_loss: 0.0068\n",
            "Epoch 44/200\n",
            "27/27 [==============================] - 0s 6ms/step - loss: 0.0075 - val_loss: 0.0065\n",
            "Epoch 45/200\n",
            "27/27 [==============================] - 0s 6ms/step - loss: 0.0074 - val_loss: 0.0062\n",
            "Epoch 46/200\n",
            "27/27 [==============================] - 0s 6ms/step - loss: 0.0072 - val_loss: 0.0064\n",
            "Epoch 47/200\n",
            "27/27 [==============================] - 0s 6ms/step - loss: 0.0071 - val_loss: 0.0064\n",
            "Epoch 48/200\n",
            "27/27 [==============================] - 0s 6ms/step - loss: 0.0070 - val_loss: 0.0059\n",
            "Epoch 49/200\n",
            "27/27 [==============================] - 0s 6ms/step - loss: 0.0069 - val_loss: 0.0060\n",
            "Epoch 50/200\n",
            "27/27 [==============================] - 0s 6ms/step - loss: 0.0068 - val_loss: 0.0057\n",
            "Epoch 51/200\n",
            "27/27 [==============================] - 0s 6ms/step - loss: 0.0067 - val_loss: 0.0055\n",
            "Epoch 52/200\n",
            "27/27 [==============================] - 0s 6ms/step - loss: 0.0066 - val_loss: 0.0055\n",
            "Epoch 53/200\n",
            "27/27 [==============================] - 0s 6ms/step - loss: 0.0065 - val_loss: 0.0053\n",
            "Epoch 54/200\n",
            "27/27 [==============================] - 0s 6ms/step - loss: 0.0064 - val_loss: 0.0049\n",
            "Epoch 55/200\n",
            "27/27 [==============================] - 0s 6ms/step - loss: 0.0063 - val_loss: 0.0053\n",
            "Epoch 56/200\n",
            "27/27 [==============================] - 0s 6ms/step - loss: 0.0062 - val_loss: 0.0054\n",
            "Epoch 57/200\n",
            "27/27 [==============================] - 0s 6ms/step - loss: 0.0062 - val_loss: 0.0052\n",
            "Epoch 58/200\n",
            "27/27 [==============================] - 0s 6ms/step - loss: 0.0061 - val_loss: 0.0050\n",
            "Epoch 59/200\n",
            "27/27 [==============================] - 0s 6ms/step - loss: 0.0060 - val_loss: 0.0051\n",
            "Epoch 60/200\n",
            "27/27 [==============================] - 0s 6ms/step - loss: 0.0059 - val_loss: 0.0045\n",
            "Epoch 61/200\n",
            "27/27 [==============================] - 0s 6ms/step - loss: 0.0059 - val_loss: 0.0047\n",
            "Epoch 62/200\n",
            "27/27 [==============================] - 0s 6ms/step - loss: 0.0058 - val_loss: 0.0048\n",
            "Epoch 63/200\n",
            "27/27 [==============================] - 0s 6ms/step - loss: 0.0057 - val_loss: 0.0045\n",
            "Epoch 64/200\n",
            "27/27 [==============================] - 0s 6ms/step - loss: 0.0057 - val_loss: 0.0044\n",
            "Epoch 65/200\n",
            "27/27 [==============================] - 0s 6ms/step - loss: 0.0056 - val_loss: 0.0046\n",
            "Epoch 66/200\n",
            "27/27 [==============================] - 0s 6ms/step - loss: 0.0055 - val_loss: 0.0043\n",
            "Epoch 67/200\n",
            "27/27 [==============================] - 0s 6ms/step - loss: 0.0054 - val_loss: 0.0043\n",
            "Epoch 68/200\n",
            "27/27 [==============================] - 0s 6ms/step - loss: 0.0054 - val_loss: 0.0039\n",
            "Epoch 69/200\n",
            "27/27 [==============================] - 0s 6ms/step - loss: 0.0053 - val_loss: 0.0043\n",
            "Epoch 70/200\n",
            "27/27 [==============================] - 0s 6ms/step - loss: 0.0053 - val_loss: 0.0043\n",
            "Epoch 71/200\n",
            "27/27 [==============================] - 0s 6ms/step - loss: 0.0052 - val_loss: 0.0042\n",
            "Epoch 72/200\n",
            "27/27 [==============================] - 0s 6ms/step - loss: 0.0052 - val_loss: 0.0044\n",
            "Epoch 73/200\n",
            "27/27 [==============================] - 0s 6ms/step - loss: 0.0051 - val_loss: 0.0038\n",
            "Epoch 74/200\n",
            "27/27 [==============================] - 0s 6ms/step - loss: 0.0051 - val_loss: 0.0038\n",
            "Epoch 75/200\n",
            "27/27 [==============================] - 0s 6ms/step - loss: 0.0050 - val_loss: 0.0037\n",
            "Epoch 76/200\n",
            "27/27 [==============================] - 0s 6ms/step - loss: 0.0050 - val_loss: 0.0043\n",
            "Epoch 77/200\n",
            "27/27 [==============================] - 0s 6ms/step - loss: 0.0049 - val_loss: 0.0040\n",
            "Epoch 78/200\n",
            "27/27 [==============================] - 0s 6ms/step - loss: 0.0048 - val_loss: 0.0038\n",
            "Epoch 79/200\n",
            "27/27 [==============================] - 0s 6ms/step - loss: 0.0048 - val_loss: 0.0043\n",
            "Epoch 80/200\n",
            "27/27 [==============================] - 0s 6ms/step - loss: 0.0047 - val_loss: 0.0039\n",
            "Epoch 81/200\n",
            "27/27 [==============================] - 0s 6ms/step - loss: 0.0047 - val_loss: 0.0042\n",
            "Epoch 82/200\n",
            "27/27 [==============================] - 0s 6ms/step - loss: 0.0047 - val_loss: 0.0037\n",
            "Epoch 83/200\n",
            "27/27 [==============================] - 0s 6ms/step - loss: 0.0046 - val_loss: 0.0038\n",
            "Epoch 84/200\n",
            "27/27 [==============================] - 0s 6ms/step - loss: 0.0046 - val_loss: 0.0039\n",
            "Epoch 85/200\n",
            "27/27 [==============================] - 0s 6ms/step - loss: 0.0046 - val_loss: 0.0035\n",
            "Epoch 86/200\n",
            "27/27 [==============================] - 0s 6ms/step - loss: 0.0045 - val_loss: 0.0036\n",
            "Epoch 87/200\n",
            "27/27 [==============================] - 0s 6ms/step - loss: 0.0045 - val_loss: 0.0037\n",
            "Epoch 88/200\n",
            "27/27 [==============================] - 0s 6ms/step - loss: 0.0044 - val_loss: 0.0038\n",
            "Epoch 89/200\n",
            "27/27 [==============================] - 0s 6ms/step - loss: 0.0044 - val_loss: 0.0035\n",
            "Epoch 90/200\n",
            "27/27 [==============================] - 0s 6ms/step - loss: 0.0043 - val_loss: 0.0037\n",
            "Epoch 91/200\n",
            "27/27 [==============================] - 0s 6ms/step - loss: 0.0043 - val_loss: 0.0033\n",
            "Epoch 92/200\n",
            "27/27 [==============================] - 0s 6ms/step - loss: 0.0042 - val_loss: 0.0038\n",
            "Epoch 93/200\n",
            "27/27 [==============================] - 0s 6ms/step - loss: 0.0042 - val_loss: 0.0039\n",
            "Epoch 94/200\n",
            "27/27 [==============================] - 0s 6ms/step - loss: 0.0042 - val_loss: 0.0036\n",
            "Epoch 95/200\n",
            "27/27 [==============================] - 0s 6ms/step - loss: 0.0041 - val_loss: 0.0032\n",
            "Epoch 96/200\n",
            "27/27 [==============================] - 0s 6ms/step - loss: 0.0041 - val_loss: 0.0034\n",
            "Epoch 97/200\n",
            "27/27 [==============================] - 0s 6ms/step - loss: 0.0041 - val_loss: 0.0038\n",
            "Epoch 98/200\n",
            "27/27 [==============================] - 0s 6ms/step - loss: 0.0040 - val_loss: 0.0032\n",
            "Epoch 99/200\n",
            "27/27 [==============================] - 0s 6ms/step - loss: 0.0040 - val_loss: 0.0033\n",
            "Epoch 100/200\n",
            "27/27 [==============================] - 0s 6ms/step - loss: 0.0040 - val_loss: 0.0032\n",
            "Epoch 101/200\n",
            "27/27 [==============================] - 0s 6ms/step - loss: 0.0039 - val_loss: 0.0033\n",
            "Epoch 102/200\n",
            "27/27 [==============================] - 0s 6ms/step - loss: 0.0039 - val_loss: 0.0036\n",
            "Epoch 103/200\n",
            "27/27 [==============================] - 0s 6ms/step - loss: 0.0039 - val_loss: 0.0032\n",
            "Epoch 104/200\n",
            "27/27 [==============================] - 0s 6ms/step - loss: 0.0039 - val_loss: 0.0032\n",
            "Epoch 105/200\n",
            "27/27 [==============================] - 0s 6ms/step - loss: 0.0038 - val_loss: 0.0032\n",
            "Epoch 106/200\n",
            "27/27 [==============================] - 0s 6ms/step - loss: 0.0038 - val_loss: 0.0033\n",
            "Epoch 107/200\n",
            "27/27 [==============================] - 0s 6ms/step - loss: 0.0038 - val_loss: 0.0033\n",
            "Epoch 108/200\n",
            "27/27 [==============================] - 0s 6ms/step - loss: 0.0038 - val_loss: 0.0033\n",
            "Epoch 109/200\n",
            "27/27 [==============================] - 0s 6ms/step - loss: 0.0037 - val_loss: 0.0029\n",
            "Epoch 110/200\n",
            "27/27 [==============================] - 0s 6ms/step - loss: 0.0037 - val_loss: 0.0032\n",
            "Epoch 111/200\n",
            "27/27 [==============================] - 0s 6ms/step - loss: 0.0037 - val_loss: 0.0034\n",
            "Epoch 112/200\n",
            "27/27 [==============================] - 0s 6ms/step - loss: 0.0037 - val_loss: 0.0032\n",
            "Epoch 113/200\n",
            "27/27 [==============================] - 0s 6ms/step - loss: 0.0036 - val_loss: 0.0032\n",
            "Epoch 114/200\n",
            "27/27 [==============================] - 0s 6ms/step - loss: 0.0036 - val_loss: 0.0034\n",
            "Epoch 115/200\n",
            "27/27 [==============================] - 0s 6ms/step - loss: 0.0036 - val_loss: 0.0031\n",
            "Epoch 116/200\n",
            "27/27 [==============================] - 0s 6ms/step - loss: 0.0035 - val_loss: 0.0031\n",
            "Epoch 117/200\n",
            "27/27 [==============================] - 0s 6ms/step - loss: 0.0035 - val_loss: 0.0033\n",
            "Epoch 118/200\n",
            "27/27 [==============================] - 0s 6ms/step - loss: 0.0035 - val_loss: 0.0031\n",
            "Epoch 119/200\n",
            "27/27 [==============================] - 0s 6ms/step - loss: 0.0035 - val_loss: 0.0034\n",
            "Epoch 120/200\n",
            "27/27 [==============================] - 0s 6ms/step - loss: 0.0034 - val_loss: 0.0031\n",
            "Epoch 121/200\n",
            "27/27 [==============================] - 0s 6ms/step - loss: 0.0034 - val_loss: 0.0035\n"
          ],
          "name": "stdout"
        }
      ]
    },
    {
      "cell_type": "code",
      "metadata": {
        "colab": {
          "base_uri": "https://localhost:8080/",
          "height": 265
        },
        "id": "ClSeAICBv_4R",
        "outputId": "d9303b3d-eb28-4109-fea8-536b0895011f"
      },
      "source": [
        "plt.plot(history.history[\"loss\"], label=\"Training Loss\")\n",
        "plt.plot(history.history[\"val_loss\"], label=\"Validation Loss\")\n",
        "plt.legend()\n",
        "plt.show()"
      ],
      "execution_count": 19,
      "outputs": [
        {
          "output_type": "display_data",
          "data": {
            "image/png": "[encoded data removed]",
            "text/plain": [
              "<Figure size 432x288 with 1 Axes>"
            ]
          },
          "metadata": {
            "tags": [],
            "needs_background": "light"
          }
        }
      ]
    },
    {
      "cell_type": "markdown",
      "metadata": {
        "id": "jn2HO8F0ep6X"
      },
      "source": [
        "#Detecting anomalies\n"
      ]
    },
    {
      "cell_type": "code",
      "metadata": {
        "colab": {
          "base_uri": "https://localhost:8080/",
          "height": 296
        },
        "id": "ANCY2FSGe-kw",
        "outputId": "ee21de10-bdc4-42da-85eb-c6ddde6970c6"
      },
      "source": [
        "# Get train MAE loss.\n",
        "x_train_pred = model_wedge.predict(x_train)\n",
        "train_mae_loss = np.mean(np.abs(x_train_pred - x_train), axis=1)\n",
        "\n",
        "plt.hist(train_mae_loss, bins=50)\n",
        "plt.xlabel(\"Train MAE loss\")\n",
        "plt.ylabel(\"No of samples\")\n",
        "plt.show()\n",
        "\n",
        "# Get reconstruction loss threshold.\n",
        "threshold = np.max(train_mae_loss)\n",
        "print(\"Reconstruction error threshold: \", threshold)"
      ],
      "execution_count": 20,
      "outputs": [
        {
          "output_type": "display_data",
          "data": {
            "image/png": "[encoded data removed]",
            "text/plain": [
              "<Figure size 432x288 with 1 Axes>"
            ]
          },
          "metadata": {
            "tags": [],
            "needs_background": "light"
          }
        },
        {
          "output_type": "stream",
          "text": [
            "Reconstruction error threshold:  0.04604236846113652\n"
          ],
          "name": "stdout"
        }
      ]
    },
    {
      "cell_type": "code",
      "metadata": {
        "colab": {
          "base_uri": "https://localhost:8080/",
          "height": 265
        },
        "id": "c5O2U_N7fK2Q",
        "outputId": "6aeaa6cb-3a13-46bd-a86b-66fa7b5b3e61"
      },
      "source": [
        "# Checking how the first sequence is learnt\n",
        "plt.plot(x_train[0])\n",
        "plt.plot(x_train_pred[0])\n",
        "plt.show()"
      ],
      "execution_count": 21,
      "outputs": [
        {
          "output_type": "display_data",
          "data": {
            "image/png": "[encoded data removed]",
            "text/plain": [
              "<Figure size 432x288 with 1 Axes>"
            ]
          },
          "metadata": {
            "tags": [],
            "needs_background": "light"
          }
        }
      ]
    },
    {
      "cell_type": "code",
      "metadata": {
        "colab": {
          "base_uri": "https://localhost:8080/",
          "height": 1000
        },
        "id": "Uh89Ie27fb5R",
        "outputId": "00e47254-c498-4f18-dd4a-470ad33ba71a"
      },
      "source": [
        "\n",
        "def normalize_test(values, mean, std):\n",
        "    values -= mean\n",
        "    values /= std\n",
        "    return values\n",
        "\n",
        "\n",
        "df_test_value = (df_daily_jumpsup - training_mean) / training_std\n",
        "fig, ax = plt.subplots()\n",
        "df_test_value.plot(legend=False, ax=ax)\n",
        "plt.show()\n",
        "\n",
        "# Create sequences from test values.\n",
        "x_test = create_sequences(df_test_value.values)\n",
        "print(\"Test input shape: \", x_test.shape)\n",
        "\n",
        "# Get test MAE loss.\n",
        "x_test_pred = model_wedge.predict(x_test)\n",
        "test_mae_loss = np.mean(np.abs(x_test_pred - x_test), axis=1)\n",
        "test_mae_loss = test_mae_loss.reshape((-1))\n",
        "\n",
        "plt.hist(test_mae_loss, bins=50)\n",
        "plt.xlabel(\"test MAE loss\")\n",
        "plt.ylabel(\"No of samples\")\n",
        "plt.show()\n",
        "\n",
        "# Detect all the samples which are anomalies.\n",
        "anomalies = test_mae_loss > threshold\n",
        "print(\"Number of anomaly samples: \", np.sum(anomalies))\n",
        "print(\"Indices of anomaly samples: \", np.where(anomalies))"
      ],
      "execution_count": 22,
      "outputs": [
        {
          "output_type": "display_data",
          "data": {
            "image/png": "[encoded data removed]",
            "text/plain": [
              "<Figure size 432x288 with 1 Axes>"
            ]
          },
          "metadata": {
            "tags": [],
            "needs_background": "light"
          }
        },
        {
          "output_type": "stream",
          "text": [
            "Test input shape:  (3744, 288, 1)\n"
          ],
          "name": "stdout"
        },
        {
          "output_type": "display_data",
          "data": {
            "image/png": "[encoded data removed]",
            "text/plain": [
              "<Figure size 432x288 with 1 Axes>"
            ]
          },
          "metadata": {
            "tags": [],
            "needs_background": "light"
          }
        },
        {
          "output_type": "stream",
          "text": [
            "Number of anomaly samples:  408\n",
            "Indices of anomaly samples:  (array([ 973, 1945, 2081, 2093, 2123, 2125, 2126, 2522, 2698, 2699, 2701,\n",
            "       2702, 2703, 2704, 2705, 2706, 2707, 2708, 2709, 2710, 2711, 2712,\n",
            "       2713, 2714, 2715, 2716, 2717, 2718, 2719, 2720, 2721, 2722, 2723,\n",
            "       2724, 2725, 2726, 2727, 2728, 2729, 2730, 2731, 2732, 2733, 2734,\n",
            "       2735, 2736, 2737, 2738, 2739, 2740, 2741, 2742, 2743, 2744, 2745,\n",
            "       2746, 2747, 2748, 2749, 2750, 2751, 2752, 2753, 2754, 2755, 2756,\n",
            "       2757, 2758, 2759, 2760, 2761, 2762, 2763, 2764, 2765, 2766, 2767,\n",
            "       2768, 2769, 2770, 2771, 2772, 2773, 2774, 2775, 2776, 2777, 2778,\n",
            "       2779, 2780, 2781, 2782, 2783, 2784, 2785, 2786, 2787, 2788, 2789,\n",
            "       2790, 2791, 2792, 2793, 2794, 2795, 2796, 2797, 2798, 2799, 2800,\n",
            "       2801, 2802, 2803, 2804, 2805, 2806, 2807, 2808, 2809, 2810, 2811,\n",
            "       2812, 2813, 2814, 2815, 2816, 2817, 2818, 2819, 2820, 2821, 2822,\n",
            "       2823, 2824, 2825, 2826, 2827, 2828, 2829, 2830, 2831, 2832, 2833,\n",
            "       2834, 2835, 2836, 2837, 2838, 2839, 2840, 2841, 2842, 2843, 2844,\n",
            "       2845, 2846, 2847, 2848, 2849, 2850, 2851, 2852, 2853, 2854, 2855,\n",
            "       2856, 2857, 2858, 2859, 2860, 2861, 2862, 2863, 2864, 2865, 2866,\n",
            "       2867, 2868, 2869, 2870, 2871, 2872, 2873, 2874, 2875, 2876, 2877,\n",
            "       2878, 2879, 2880, 2881, 2882, 2883, 2884, 2885, 2886, 2887, 2888,\n",
            "       2889, 2890, 2891, 2892, 2893, 2894, 2895, 2896, 2897, 2898, 2899,\n",
            "       2900, 2901, 2902, 2903, 2904, 2905, 2906, 2907, 2908, 2909, 2910,\n",
            "       2911, 2912, 2913, 2914, 2915, 2916, 2917, 2918, 2919, 2920, 2921,\n",
            "       2922, 2923, 2924, 2925, 2926, 2927, 2928, 2929, 2930, 2931, 2932,\n",
            "       2933, 2934, 2935, 2936, 2937, 2938, 2939, 2940, 2941, 2942, 2943,\n",
            "       2944, 2945, 2946, 2947, 2948, 2949, 2950, 2951, 2952, 2953, 2954,\n",
            "       2955, 2956, 2957, 2958, 2959, 2960, 2961, 2962, 2963, 2964, 2965,\n",
            "       2966, 2967, 2968, 2969, 2970, 2971, 2972, 2973, 2974, 2975, 2976,\n",
            "       2977, 2978, 2979, 2980, 2981, 2982, 2983, 2984, 2985, 2986, 2987,\n",
            "       2988, 2989, 2990, 2991, 2992, 2993, 2994, 2995, 2996, 2997, 2998,\n",
            "       2999, 3000, 3001, 3002, 3003, 3004, 3005, 3006, 3007, 3008, 3009,\n",
            "       3010, 3011, 3012, 3013, 3014, 3015, 3016, 3017, 3018, 3019, 3020,\n",
            "       3021, 3022, 3023, 3024, 3025, 3026, 3027, 3028, 3029, 3030, 3031,\n",
            "       3032, 3033, 3034, 3035, 3036, 3037, 3038, 3039, 3040, 3041, 3042,\n",
            "       3043, 3044, 3045, 3046, 3047, 3048, 3049, 3050, 3051, 3052, 3053,\n",
            "       3054, 3055, 3056, 3057, 3058, 3059, 3060, 3061, 3062, 3063, 3064,\n",
            "       3065, 3066, 3067, 3068, 3069, 3070, 3071, 3072, 3073, 3074, 3075,\n",
            "       3076, 3077, 3078, 3079, 3080, 3081, 3082, 3083, 3084, 3085, 3086,\n",
            "       3087, 3088, 3089, 3090, 3091, 3092, 3093, 3094, 3095, 3097, 3098,\n",
            "       3101]),)\n"
          ],
          "name": "stdout"
        }
      ]
    },
    {
      "cell_type": "markdown",
      "metadata": {
        "id": "W5gCMkoPeLVW"
      },
      "source": [
        "# Plot Anomalies for Wedge Dropout"
      ]
    },
    {
      "cell_type": "code",
      "metadata": {
        "id": "DhDKqYrZeS7E"
      },
      "source": [
        "# data i is an anomaly if samples [(i - timesteps + 1) to (i)] are anomalies\n",
        "anomalous_data_indices = []\n",
        "for data_idx in range(TIME_STEPS - 1, len(df_test_value) - TIME_STEPS + 1):\n",
        "    if np.all(anomalies[data_idx - TIME_STEPS + 1 : data_idx]):\n",
        "        anomalous_data_indices.append(data_idx)"
      ],
      "execution_count": 23,
      "outputs": []
    },
    {
      "cell_type": "code",
      "metadata": {
        "colab": {
          "base_uri": "https://localhost:8080/",
          "height": 265
        },
        "id": "Aw1YqF_cfIgT",
        "outputId": "4c888d50-d2c9-4ce1-fbc9-32a8231be9ff"
      },
      "source": [
        "# Checking how the first sequence is learnt\n",
        "plt.plot(x_train[0])\n",
        "plt.plot(x_train_pred[0])\n",
        "plt.show()"
      ],
      "execution_count": 24,
      "outputs": [
        {
          "output_type": "display_data",
          "data": {
            "image/png": "[encoded data removed]",
            "text/plain": [
              "<Figure size 432x288 with 1 Axes>"
            ]
          },
          "metadata": {
            "tags": [],
            "needs_background": "light"
          }
        }
      ]
    },
    {
      "cell_type": "code",
      "metadata": {
        "colab": {
          "base_uri": "https://localhost:8080/",
          "height": 303
        },
        "id": "g0D8aPIleYuU",
        "outputId": "7a53a697-d636-490d-d003-e7e58879c818"
      },
      "source": [
        "df_subset = df_daily_jumpsup.iloc[anomalous_data_indices]\n",
        "fig, ax = plt.subplots()\n",
        "df_daily_jumpsup.plot(legend=False, ax=ax)\n",
        "df_subset.plot(legend=False, ax=ax, color=\"r\")\n",
        "plt.show()"
      ],
      "execution_count": 25,
      "outputs": [
        {
          "output_type": "display_data",
          "data": {
            "image/png": "[encoded data removed]",
            "text/plain": [
              "<Figure size 432x288 with 1 Axes>"
            ]
          },
          "metadata": {
            "tags": [],
            "needs_background": "light"
          }
        }
      ]
    },
    {
      "cell_type": "code",
      "metadata": {
        "id": "ZoBalBIhebe-"
      },
      "source": [
        ""
      ],
      "execution_count": 25,
      "outputs": []
    }
  ]
}